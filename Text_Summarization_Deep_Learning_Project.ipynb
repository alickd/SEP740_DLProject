{
  "cells": [
    {
      "cell_type": "markdown",
      "metadata": {
        "id": "view-in-github",
        "colab_type": "text"
      },
      "source": [
        "<a href=\"https://colab.research.google.com/github/alickd/SEP740_DLProject/blob/main/Text_Summarization_Deep_Learning_Project.ipynb\" target=\"_parent\"><img src=\"https://colab.research.google.com/assets/colab-badge.svg\" alt=\"Open In Colab\"/></a>"
      ]
    },
    {
      "cell_type": "markdown",
      "metadata": {
        "id": "MK-ty_VzQrQ1"
      },
      "source": [
        "Text Summarizer"
      ]
    },
    {
      "cell_type": "markdown",
      "source": [
        "Dylan Alick & Jonathan Wong "
      ],
      "metadata": {
        "id": "LOzPq0ErYr26"
      }
    },
    {
      "cell_type": "code",
      "execution_count": null,
      "metadata": {
        "id": "1hv-GqcSOrxk"
      },
      "outputs": [],
      "source": [
        "#Install transformers for pre-trained Hugging Face Libraries\n",
        "!pip install transformers\n",
        "!pip install sumy"
      ]
    },
    {
      "cell_type": "code",
      "execution_count": null,
      "metadata": {
        "id": "IRjW1VU-2vLp"
      },
      "outputs": [],
      "source": [
        "from google.colab import drive\n",
        "drive.mount('/content/drive')"
      ]
    },
    {
      "cell_type": "code",
      "execution_count": 41,
      "metadata": {
        "id": "gqkg9SxOFZoJ",
        "colab": {
          "base_uri": "https://localhost:8080/"
        },
        "outputId": "2f3819a6-2759-41a9-f607-3329e2940d2d"
      },
      "outputs": [
        {
          "output_type": "stream",
          "name": "stderr",
          "text": [
            "[nltk_data] Downloading package punkt to /root/nltk_data...\n",
            "[nltk_data]   Package punkt is already up-to-date!\n"
          ]
        }
      ],
      "source": [
        "#Import Libraries\n",
        "import pandas as pd\n",
        "import numpy as np\n",
        "import matplotlib.pyplot as plt\n",
        "import seaborn as sns\n",
        "import tensorflow as tf\n",
        "from tensorflow import keras\n",
        "import re\n",
        "import string\n",
        "from keras.preprocessing.text import Tokenizer \n",
        "from keras import backend as K\n",
        "\n",
        "import nltk\n",
        "nltk.download('punkt')\n",
        "from nltk.corpus import stopwords \n",
        "from nltk.tokenize import word_tokenize\n",
        "\n",
        "import gensim\n",
        "from gensim.parsing.preprocessing import remove_stopwords\n",
        "\n",
        "from tensorflow import keras\n",
        "from keras.utils.data_utils import pad_sequences\n",
        "import keras_preprocessing\n",
        "from keras.preprocessing import text,sequence\n",
        "from keras.models import Model\n",
        "from keras.layers import Input,Dense,Embedding,LSTM,Dropout, RepeatVector, concatenate, TimeDistributed\n",
        "from keras.callbacks import EarlyStopping\n",
        "\n",
        "import warnings\n",
        "warnings.filterwarnings(\"ignore\")"
      ]
    },
    {
      "cell_type": "code",
      "execution_count": 114,
      "metadata": {
        "id": "GkB_P4eoTxRQ",
        "colab": {
          "base_uri": "https://localhost:8080/",
          "height": 206
        },
        "outputId": "52d8efd7-0577-43f3-82f4-24e166215e17"
      },
      "outputs": [
        {
          "output_type": "execute_result",
          "data": {
            "text/plain": [
              "                 Summary                                               Text\n",
              "0  Good Quality Dog Food  I have bought several of the Vitality canned d...\n",
              "1      Not as Advertised  Product arrived labeled as Jumbo Salted Peanut...\n",
              "2  \"Delight\" says it all  This is a confection that has been around a fe...\n",
              "3         Cough Medicine  If you are looking for the secret ingredient i...\n",
              "4            Great taffy  Great taffy at a great price.  There was a wid..."
            ],
            "text/html": [
              "\n",
              "  <div id=\"df-8db6b04b-0bc1-4a2f-a71b-d23720c6ae5f\">\n",
              "    <div class=\"colab-df-container\">\n",
              "      <div>\n",
              "<style scoped>\n",
              "    .dataframe tbody tr th:only-of-type {\n",
              "        vertical-align: middle;\n",
              "    }\n",
              "\n",
              "    .dataframe tbody tr th {\n",
              "        vertical-align: top;\n",
              "    }\n",
              "\n",
              "    .dataframe thead th {\n",
              "        text-align: right;\n",
              "    }\n",
              "</style>\n",
              "<table border=\"1\" class=\"dataframe\">\n",
              "  <thead>\n",
              "    <tr style=\"text-align: right;\">\n",
              "      <th></th>\n",
              "      <th>Summary</th>\n",
              "      <th>Text</th>\n",
              "    </tr>\n",
              "  </thead>\n",
              "  <tbody>\n",
              "    <tr>\n",
              "      <th>0</th>\n",
              "      <td>Good Quality Dog Food</td>\n",
              "      <td>I have bought several of the Vitality canned d...</td>\n",
              "    </tr>\n",
              "    <tr>\n",
              "      <th>1</th>\n",
              "      <td>Not as Advertised</td>\n",
              "      <td>Product arrived labeled as Jumbo Salted Peanut...</td>\n",
              "    </tr>\n",
              "    <tr>\n",
              "      <th>2</th>\n",
              "      <td>\"Delight\" says it all</td>\n",
              "      <td>This is a confection that has been around a fe...</td>\n",
              "    </tr>\n",
              "    <tr>\n",
              "      <th>3</th>\n",
              "      <td>Cough Medicine</td>\n",
              "      <td>If you are looking for the secret ingredient i...</td>\n",
              "    </tr>\n",
              "    <tr>\n",
              "      <th>4</th>\n",
              "      <td>Great taffy</td>\n",
              "      <td>Great taffy at a great price.  There was a wid...</td>\n",
              "    </tr>\n",
              "  </tbody>\n",
              "</table>\n",
              "</div>\n",
              "      <button class=\"colab-df-convert\" onclick=\"convertToInteractive('df-8db6b04b-0bc1-4a2f-a71b-d23720c6ae5f')\"\n",
              "              title=\"Convert this dataframe to an interactive table.\"\n",
              "              style=\"display:none;\">\n",
              "        \n",
              "  <svg xmlns=\"http://www.w3.org/2000/svg\" height=\"24px\"viewBox=\"0 0 24 24\"\n",
              "       width=\"24px\">\n",
              "    <path d=\"M0 0h24v24H0V0z\" fill=\"none\"/>\n",
              "    <path d=\"M18.56 5.44l.94 2.06.94-2.06 2.06-.94-2.06-.94-.94-2.06-.94 2.06-2.06.94zm-11 1L8.5 8.5l.94-2.06 2.06-.94-2.06-.94L8.5 2.5l-.94 2.06-2.06.94zm10 10l.94 2.06.94-2.06 2.06-.94-2.06-.94-.94-2.06-.94 2.06-2.06.94z\"/><path d=\"M17.41 7.96l-1.37-1.37c-.4-.4-.92-.59-1.43-.59-.52 0-1.04.2-1.43.59L10.3 9.45l-7.72 7.72c-.78.78-.78 2.05 0 2.83L4 21.41c.39.39.9.59 1.41.59.51 0 1.02-.2 1.41-.59l7.78-7.78 2.81-2.81c.8-.78.8-2.07 0-2.86zM5.41 20L4 18.59l7.72-7.72 1.47 1.35L5.41 20z\"/>\n",
              "  </svg>\n",
              "      </button>\n",
              "      \n",
              "  <style>\n",
              "    .colab-df-container {\n",
              "      display:flex;\n",
              "      flex-wrap:wrap;\n",
              "      gap: 12px;\n",
              "    }\n",
              "\n",
              "    .colab-df-convert {\n",
              "      background-color: #E8F0FE;\n",
              "      border: none;\n",
              "      border-radius: 50%;\n",
              "      cursor: pointer;\n",
              "      display: none;\n",
              "      fill: #1967D2;\n",
              "      height: 32px;\n",
              "      padding: 0 0 0 0;\n",
              "      width: 32px;\n",
              "    }\n",
              "\n",
              "    .colab-df-convert:hover {\n",
              "      background-color: #E2EBFA;\n",
              "      box-shadow: 0px 1px 2px rgba(60, 64, 67, 0.3), 0px 1px 3px 1px rgba(60, 64, 67, 0.15);\n",
              "      fill: #174EA6;\n",
              "    }\n",
              "\n",
              "    [theme=dark] .colab-df-convert {\n",
              "      background-color: #3B4455;\n",
              "      fill: #D2E3FC;\n",
              "    }\n",
              "\n",
              "    [theme=dark] .colab-df-convert:hover {\n",
              "      background-color: #434B5C;\n",
              "      box-shadow: 0px 1px 3px 1px rgba(0, 0, 0, 0.15);\n",
              "      filter: drop-shadow(0px 1px 2px rgba(0, 0, 0, 0.3));\n",
              "      fill: #FFFFFF;\n",
              "    }\n",
              "  </style>\n",
              "\n",
              "      <script>\n",
              "        const buttonEl =\n",
              "          document.querySelector('#df-8db6b04b-0bc1-4a2f-a71b-d23720c6ae5f button.colab-df-convert');\n",
              "        buttonEl.style.display =\n",
              "          google.colab.kernel.accessAllowed ? 'block' : 'none';\n",
              "\n",
              "        async function convertToInteractive(key) {\n",
              "          const element = document.querySelector('#df-8db6b04b-0bc1-4a2f-a71b-d23720c6ae5f');\n",
              "          const dataTable =\n",
              "            await google.colab.kernel.invokeFunction('convertToInteractive',\n",
              "                                                     [key], {});\n",
              "          if (!dataTable) return;\n",
              "\n",
              "          const docLinkHtml = 'Like what you see? Visit the ' +\n",
              "            '<a target=\"_blank\" href=https://colab.research.google.com/notebooks/data_table.ipynb>data table notebook</a>'\n",
              "            + ' to learn more about interactive tables.';\n",
              "          element.innerHTML = '';\n",
              "          dataTable['output_type'] = 'display_data';\n",
              "          await google.colab.output.renderOutput(dataTable, element);\n",
              "          const docLink = document.createElement('div');\n",
              "          docLink.innerHTML = docLinkHtml;\n",
              "          element.appendChild(docLink);\n",
              "        }\n",
              "      </script>\n",
              "    </div>\n",
              "  </div>\n",
              "  "
            ]
          },
          "metadata": {},
          "execution_count": 114
        }
      ],
      "source": [
        "#Import and read dataset\n",
        "path  = \"/content/drive/MyDrive/Deep Learning Project/Reviews.xlsx\"\n",
        "df_reviews = pd.read_csv(path,nrows=1000)\n",
        "#Drop columns not needed for model\n",
        "df_reviews.drop(columns=['Id','ProductId','UserId','ProfileName','HelpfulnessNumerator','HelpfulnessDenominator','Score','Time'],inplace=True,axis=1)\n",
        "df_reviews.dropna(axis=0,inplace=True)\n",
        "df_reviews.head(5)"
      ]
    },
    {
      "cell_type": "markdown",
      "metadata": {
        "id": "8EJ-5kOo5cWl"
      },
      "source": [
        "LSA Machine Learning Model Summary"
      ]
    },
    {
      "cell_type": "code",
      "execution_count": 115,
      "metadata": {
        "id": "vmKfOha_LLQe",
        "colab": {
          "base_uri": "https://localhost:8080/"
        },
        "outputId": "3a52f1b6-cefa-46d7-ccb6-0f4e6537a30c"
      },
      "outputs": [
        {
          "output_type": "stream",
          "name": "stdout",
          "text": [
            "Product arrived labeled as Jumbo Salted Peanuts...the peanuts were actually small sized unsalted. Not sure if this was an error or if the vendor intended to represent the product as \"Jumbo\".\n",
            "---------------------------------------------------------------------\n",
            "Summary\n",
            "Product arrived labeled as Jumbo Salted Peanuts...the peanuts were actually small sized unsalted.\n",
            "Not sure if this was an error or if the vendor intended to represent the product as \"Jumbo\".\n"
          ]
        }
      ],
      "source": [
        "# Import the summarizer \n",
        "import sumy\n",
        "from sumy.summarizers.lsa import LsaSummarizer \n",
        "\n",
        "# Text to summarize \n",
        "original_text = df_reviews['Text'] [1]\n",
        "\n",
        "# Parsing the text string using PlaintextParser \n",
        "from sumy.nlp.tokenizers import Tokenizer \n",
        "from sumy.parsers.plaintext import PlaintextParser \n",
        "\n",
        "parser=PlaintextParser.from_string(original_text,Tokenizer('english')) \n",
        "\n",
        "# Creating the summarizer \n",
        "lsa_summarizer=LsaSummarizer() \n",
        "lsa_summary= lsa_summarizer(parser.document,3) \n",
        "\n",
        "# Printing the summary \n",
        "print(original_text)\n",
        "print(\"---------------------------------------------------------------------\")\n",
        "print(\"Summary\")\n",
        "for sentence in lsa_summary: \n",
        "    print(sentence) "
      ]
    },
    {
      "cell_type": "markdown",
      "metadata": {
        "id": "IN3YpmHXR6cS"
      },
      "source": [
        "Pre-Processing Text Data"
      ]
    },
    {
      "cell_type": "code",
      "execution_count": 116,
      "metadata": {
        "id": "DGpWI_W8D-9M",
        "colab": {
          "base_uri": "https://localhost:8080/"
        },
        "outputId": "5f005748-1dcc-4c24-ded9-e954e2bf6113"
      },
      "outputs": [
        {
          "output_type": "stream",
          "name": "stdout",
          "text": [
            "Before Pre-Processing\n",
            "Review  1\n",
            "I have bought several of the Vitality canned dog food products and have found them all to be of good quality. The product looks more like a stew than a processed meat and it smells better. My Labrador is finicky and she appreciates this product better than  most.\n",
            "Review  2\n",
            "Product arrived labeled as Jumbo Salted Peanuts...the peanuts were actually small sized unsalted. Not sure if this was an error or if the vendor intended to represent the product as \"Jumbo\".\n",
            "Review  3\n",
            "This is a confection that has been around a few centuries.  It is a light, pillowy citrus gelatin with nuts - in this case Filberts. And it is cut into tiny squares and then liberally coated with powdered sugar.  And it is a tiny mouthful of heaven.  Not too chewy, and very flavorful.  I highly recommend this yummy treat.  If you are familiar with the story of C.S. Lewis' \"The Lion, The Witch, and The Wardrobe\" - this is the treat that seduces Edmund into selling out his Brother and Sisters to the Witch.\n"
          ]
        }
      ],
      "source": [
        "print(\"Before Pre-Processing\")\n",
        "for i in range(3):\n",
        "  print(\"Review \", i+1)\n",
        "  print(df_reviews['Text'][i])"
      ]
    },
    {
      "cell_type": "code",
      "execution_count": 117,
      "metadata": {
        "id": "DgA93zzmSAWK"
      },
      "outputs": [],
      "source": [
        "def clean_text(text):\n",
        "  #Removing numbers\n",
        "  text = re.sub('[^a-zA-Z]', ' ', text)\n",
        "  #Convert text into lower case\n",
        "  text = text.lower()\n",
        "  #Remove URL links\n",
        "  text = re.sub(r'http\\S+',' ',text)\n",
        "  #Removing extra spaces/lines\n",
        "  text = re.sub(' +',' ',text)\n",
        "  #Removing punctuation\n",
        "  text = re.sub('[^\\w\\s]','',text)\n",
        "  #Removing stopwords\n",
        "  text = remove_stopwords(text)\n",
        "  return text"
      ]
    },
    {
      "cell_type": "code",
      "execution_count": 118,
      "metadata": {
        "id": "JEZqwCKgSX7l"
      },
      "outputs": [],
      "source": [
        "#Pre-Processing Text Data\n",
        "df_reviews[\"Summary\"] = df_reviews[\"Summary\"].apply(clean_text)\n",
        "df_reviews[\"Text\"] = df_reviews[\"Text\"].apply(clean_text)"
      ]
    },
    {
      "cell_type": "code",
      "source": [
        "df_reviews['Text'] = df_reviews['Text'].apply(lambda x : '_START_ '+ x + ' _END_')"
      ],
      "metadata": {
        "id": "lZyumVdDjs73"
      },
      "execution_count": 77,
      "outputs": []
    },
    {
      "cell_type": "code",
      "execution_count": 119,
      "metadata": {
        "id": "jUOz_8BRH3AP",
        "colab": {
          "base_uri": "https://localhost:8080/"
        },
        "outputId": "fb2ad81e-b4e1-45a3-dc8e-e6e77819fc46"
      },
      "outputs": [
        {
          "output_type": "stream",
          "name": "stdout",
          "text": [
            "After Pre-Processing\n",
            "Review  1\n",
            "bought vitality canned dog food products good quality product looks like stew processed meat smells better labrador finicky appreciates product better\n",
            "Review  2\n",
            "product arrived labeled jumbo salted peanuts peanuts actually small sized unsalted sure error vendor intended represent product jumbo\n",
            "Review  3\n",
            "confection centuries light pillowy citrus gelatin nuts case filberts cut tiny squares liberally coated powdered sugar tiny mouthful heaven chewy flavorful highly recommend yummy treat familiar story c s lewis lion witch wardrobe treat seduces edmund selling brother sisters witch\n"
          ]
        }
      ],
      "source": [
        "print(\"After Pre-Processing\")\n",
        "for i in range(3):\n",
        "  print(\"Review \", i+1)\n",
        "  print(df_reviews['Text'][i])"
      ]
    },
    {
      "cell_type": "markdown",
      "metadata": {
        "id": "hfEuVx6oa9r5"
      },
      "source": [
        "Visualize the Data"
      ]
    },
    {
      "cell_type": "code",
      "execution_count": 120,
      "metadata": {
        "id": "hDFPSRYloDHl",
        "colab": {
          "base_uri": "https://localhost:8080/",
          "height": 499
        },
        "outputId": "02b8e563-1df8-4406-a2e4-ed2aa7cabff6"
      },
      "outputs": [
        {
          "output_type": "display_data",
          "data": {
            "text/plain": [
              "<Figure size 576x576 with 1 Axes>"
            ],
            "image/png": "[encoded data removed]"
          },
          "metadata": {
            "needs_background": "light"
          }
        }
      ],
      "source": [
        "import itertools\n",
        "import collections\n",
        "\n",
        "lemmatized_tokens = list(df_reviews[\"Summary\"])\n",
        "token_list = list(itertools.chain(lemmatized_tokens))\n",
        "\n",
        "#Frequency of Words Plot\n",
        "counts_no=collections.Counter(token_list)\n",
        "clean_words = pd.DataFrame(counts_no.most_common(30),columns=['text','count'])\n",
        "fig,ax = plt.subplots(figsize=(8,8))\n",
        "clean_words.sort_values(by='count').plot.barh(x='text',y='count',ax=ax,color='green')\n",
        "ax.set_title(\"Frequency of Words\")\n",
        "plt.show()"
      ]
    },
    {
      "cell_type": "code",
      "execution_count": 121,
      "metadata": {
        "id": "3FXeu-VNao3g",
        "colab": {
          "base_uri": "https://localhost:8080/",
          "height": 281
        },
        "outputId": "4924f67b-877c-4236-d038-db2e62e283b2"
      },
      "outputs": [
        {
          "output_type": "display_data",
          "data": {
            "text/plain": [
              "<Figure size 432x288 with 2 Axes>"
            ],
            "image/png": "[encoded data removed]"
          },
          "metadata": {
            "needs_background": "light"
          }
        }
      ],
      "source": [
        "#Plotting distrubution of word count for reviews vs summary\n",
        "text_word_count = []\n",
        "summary_word_count = []\n",
        "\n",
        "# populate the lists with sentence lengths\n",
        "for i in df_reviews['Text']:\n",
        "      text_word_count.append(len(i.split()))\n",
        "\n",
        "for i in df_reviews['Summary']:\n",
        "      summary_word_count.append(len(i.split()))\n",
        "\n",
        "length_df = pd.DataFrame({'Text':text_word_count, 'Summary':summary_word_count})\n",
        "\n",
        "length_df.hist(bins = 30)\n",
        "plt.show()"
      ]
    },
    {
      "cell_type": "code",
      "source": [
        "MAX_LEN_TEXT = 80\n",
        "MAX_LEN_SUM = 15"
      ],
      "metadata": {
        "id": "VOi8OfbXcFFI"
      },
      "execution_count": 122,
      "outputs": []
    },
    {
      "cell_type": "code",
      "execution_count": 141,
      "metadata": {
        "id": "L7Z6Tzy71mjg"
      },
      "outputs": [],
      "source": [
        "from sklearn.model_selection import train_test_split\n",
        "\n",
        "X_text = list(df_reviews['Text'].values)\n",
        "y_summary = list(df_reviews['Summary'].values)\n",
        "reviews = df_reviews['Text']\n",
        "labels = df_reviews['Summary']\n",
        "\n",
        "train_reviews, val_reviews, train_labels, val_labels = train_test_split(reviews, labels, test_size=.3)\n",
        "X_train,X_test,Y_train,Y_test=train_test_split(X_text,y_summary,test_size=0.2,shuffle=True)"
      ]
    },
    {
      "cell_type": "code",
      "execution_count": 124,
      "metadata": {
        "colab": {
          "base_uri": "https://localhost:8080/"
        },
        "id": "5oeHLE7ZcYEp",
        "outputId": "c4388652-eb9a-45a4-9022-2b92297f2a4b"
      },
      "outputs": [
        {
          "output_type": "stream",
          "name": "stdout",
          "text": [
            "['looking replacement timothy s kona blend longer carried amazon coffee green mountain nice strong like milder coffees', 'surprised good family friends laughed told bought ready mix little salt pepper spinach cheese s great easy meal', 'chips tasty expected low salt item salty regular potato chip excessively greasy comparison cape cod reduced fat chips salty potato flavor far greasy', 'enjoy step gained lbs month buying pack sized bags damn warn tastes awesome finish crash diet order box case', 'son severe allergies item loves convenience feel good giving taste great', 'saltwater taffy great flavors soft chewy candy individually wrapped candies stuck happen expensive version fralinger s highly recommend candy served beach themed party loved', 'amazon s suggestion star review like said gave star review spicy thai chips chips perfect people enjoy spicy chip taste buds t appreciate added sweetness ginger flavor thing dislike chips rest flavors serving size half bag eat half save rest later', 'nice alternative apple pie love fact slicing dicing easy prepare loved fact fresh needed', 'twizzlers brand licorice better known brand br package free s h s good deal br black cherry good taste strawberry taste delicate barely', 'dog ton allergies environmental food prescription dog food tested allergies got test learned allergic prescription brand finally dog food environmental triggers happy finally eat know won t cause pain', 'product serves source electrolytes long run bike ride br tried flavors like grapefruit flavor taste actually like slight carbonation br use hammer products like product line', 'version cadbury chocolate distinct taste uk version chocolate eating childhood like new taste friends india buy chocolate uk india disappointed', 'daughter big fan baby food especially proteins love flavor right sweet savory t strong chicken flavor like plain sweet potatoes sharp s good protein offer good picky eaters nephews niece liked flavor s pretty safe bet hand t know particular baby s preferences br wish known bit runnier stage earth s best especially having chicken added bit rice cereal thicken daughter gotten tired runny texture liked fine extra step runnier texture makes workable younger babies gagging texture problems', 'started cat felidae platinum weeks ago loves s older cat somewhat overweight grouchy temperament mixed previous food figured ate felidae left old food s felidae days old food entirely sweeter happier cat think agree better easily digested case happy purchaser felidae t agree previous reviewer cats t like clearly', 'bold blend great taste flavor comes bursting usually brew drink organic sumatra mandeling bj s use blend exclusively cup rivals complex flavor tassimo brewer fantastic come amazon add subscription service', 'son started eating months old s months old s favorites unfortunately t carry local grocery store carry varieties earth s best favorites spinach potatoes spaghetti cheese carry foods buy m glad amazon tired ringing gazillion little jars store br br use base mix things bits cooked broccoli small pieces meat ve started adding spices introduce new flavors', 'having eaten eaten way das caramel range remains time favorite usually gets rave reviews share isn t easy thing try ll mean ve caramel fan ages werthers butterscotch pinch come closer mother chewy buttery little crunches salt spectacular ok mother t salt improvement', 'best tasting tortilla chips allergic tomatoes love tortilla chips flavor chips longer miss pico gallo prefer eat plain right heat flovorful overpoweringly spicy', 'bought husband said best energy shots takes mornings works hard day good stuff', 'great tasting tea looking good sassafras tea forever finally ordering product br thanks kim d', 'time ve agave nectar great keeps blood sugar stable great buy', 'smaller runts look consistency unfortunately taste like banana runts taste good yucky stuff trying return vendor', 'looking forward trying chips love cheese super disappointed big fan kettle chips tasted somewhat stale plain supposed cheddar taste taste s annoying recommend flavor salt vinegar buffalo bleu favorite', 'want organic energy shot choices steaz assorted flavors guayaki guayaki yerba mate actually steaz energy shot energy drinks use sambazon acai similarities ingredients br br great energy burst hours steaz energy shot withdrawals headaches plan drinking day lunch work help cut iced coffees helping calorie intake br br ordering packs subscribe save month great value', 'got kettle chips sea salt vinegar oz bags impressed tasted kind flat eating bag looked bag noticed hole bag size sesame seed started looking unopened bags type hole bags multiple holes bag hole size dime bag like rodent got box shipped holes packed way quality control let ship fired needless ll eating anymore kettle products expect refund kettle amazon br m martin', 'bag candy online pretty expensive cheaper order compete grocery stores good combination favorite candy', 'visiting friend nate morning coffee came storage room packet mccanns instant irish oatmeal suggested try use stash nate dose chance ended trying apple cinn tastefull water powdered milk goes good o j coffee slice toast ready world day jerry reith', 'recently diagnosed gluten intolerant looking products allow resume semblance life snack bars fit mouth feel traditional snack bar pleasant tart sweet fruit flavor', 'got mum diabetic needs watch sugar intake father simply chooses limit unnecessary sugar intake s sweet tooth loved toffees guess sugar free s great eat pretty guilt free impressed ve ordered w dark chocolate office ll eat instead snacking sugary sweets br excellent', 'purchased pack big ass soda got immediately like oh man gonna suck regardless quantity error sure kicked red br br town absolutely loves highly recommend soda voltages br br malcom', 'love chips buy pack month bags right size snacking prevent eating way larger bags jalapeno spice subtle overpowering gives great flavor', 'kettle chips flavors hit miss flavors terrible simple delicious probably best flavors br br pros crunchy potato chips light salt t compromise taste eco friendly business isn t giving lip service br br cons occasional burnt chip bag pain open tab pull time end tearing entire bag use scissors instead', 've purchased dozens bags pancake mix great product way highest price ve seen foods carries item s sale s canadian dollars m canada s cheaper baker s box s website company selling product amazon pack charging gives thought amazon competitive prices', 't know long sat shelf old wouldn t cook throw half skins damaged clear sign dried beans past prime t return ask refund food returnable different brand use fifty servings beans throw away', 'thank product use time appreciate promptness price excellent thanks', 'cookies fun paint tasty eat br kids care br fun eaten br br fun coloring', 'mind fine caramel creamy melting grainy flavor fine little sweet taste', 'hi black tea everyday past years s habit ahmad tea favorite brands highly recommend like black tea think going remain favorite years', 'fan newman s pineapple salsa looking comparable salsa best tasting salsas ve daughters love t like super chunky salsa berry mango nice smooth texture small mango pieces salsa sweet sweet s mild nice little kick price s steal', 'singles sell store box singles m sure amazon selling box singles hazelnut coffee creamer favorite truly good buy', 'ordered raspberry latice tarts directly fantasicakes website dinner party hosting arrived fresh intact good size froze half later use pastry lover best ve tasted pastry soft jam good taste great gone time guests impressed', 'love product different flavors fantastic family likes grain best corn tortilla chips house', 'cats happily eating felidae platinum years got new bag shape food different tried new food bowls bowls sit kitties touch food ve noticed similar reviews related formula changes past unfortunately need new food cats eat', 'happy quick shipping needed school product daughter came roof broken corner house broken couldn t send needed project', 'product works wonders stomach issues buy need', 'cat food recommended vet year old cleo cat having trouble keeping food loosing weight stopped problems t eat satisfied eating helps justify added price aids digestion ok sorry smells gone ya know mean add experiencing problems cats lot benifits cat food', 've pleased natural balance dog food dogs issues dog foods past recommend natural balance grain free possible allergic grains switching haven t issues helpful different kibble size larger smaller sized dogs', 'love chips little weird review potato chips chips great crunch right plus right salt salty bland little oily s ok best thing oz package buy larger bag s harder resist eating oz package allows little portion control sure use scissors open cause chips packaged freshness t open easily enjoy', 'wouldn t think buying product know price unit compare items online store', 'good quality brand chocolate flavours tasty fast delivery', 've feeling extremely tired late afternoon software engineer entirely unacceptable asked nice lady counter local foods market extra energy need day br br excitedly returned suspicious little green bottle hours drinking brain working unnatural speeds summarize experiences believe works br br explain needed drink plenty water personally feel helped energy level feeling tired day hate coffee shot preferably eat br br woot', 'bought chips little sandwich shop sonoma vacation wasn t sure expect package bite t know think flavors hit br yum bit spicy overpowering lots crunchy sweet spicy goodness aren t sold m trying close live', 'spaniel tried foods years eat people food added course treat occasionally went month tooth cleaning appointment vet told home teeth t need cleaning months specially designed teeth health needs loves actually cheaper fancy pet store ask', 'bought strawberry extract hoping spruce strawberry wine ended flavor d original expected common problem fruit wines br br good strawberry flavor add sugary concoction baking good dessert drink strawberry flavor add existing flavor presto licking lips maybe fingers br br interested right addition liquid volume oz extract gallon liquid', 'like pineapple shortcakes sold unlike mass production pineapple shortcakes use artificial flavoring tasselfield s pineapple shortcakes use real pineapples makes world difference taste fibers pineapple br br opted traditional pineapple time interested trying longan mango variety time', 'order olives lot like olives subtle flavors brine great cheeses favorite appetizer treats guests', 'loved spicy flavor liking broth noodles usually opposite aren t heat bother like hot hot foods', 'chips salty hint sweet crisp crunchy best chips ve', 'try vanilla tootsie rolls regular chocolate ones good best', 'great taste great ingredients great texture absolutely delicious little smaller hungry meal year old son breakfast little hungry taste good wants', 'took said good russet potato chip flavoring sudden seconds spread senses taste buds happy close thai food potato chip chips spicy satisfy craving spice hint sweetness makes habit forming flavoring included garlic ginger jalapeno cilantro spices felt great eat buy treat', 'best chips buy ve tried kettle varieties s slight taste jalapeno delicious perfect sandwich br like addicted chip addicts anonymous', 'new spring pop tarts bought whim kids amazed delighted fun colorful amazingly detailed artwork pop tarts fantastic school snacks lunch boxes school treats tie ribbon bright thinking spring gift challenge finding stores way kellogg s fantastic product', 'thought great buy noted scott d molasses content par loved higher molasses content sugar raw unfortunately purchased recently higher molasses content ounce bags guess ll watch crop', 'introduced red rice beans chips hometown bethlehem pa moved north carolina unable chips local area trips home buy bunch bags bring nc discovered order line life great chips time favorite serve loves gotta try ll hooked nancy walsh', 'pretty good product taste isn t best s definitely worse gives pretty smooth energetic kick', 'love bag shrimp pound stir fry veges little onion chopped hot tasty', 'got sea salt vinegar chips kettle salt vinegar chips white bag allowed anyways impression wow chips price got z x bags wow price tell high quality chips packaging cheaper chips wasn t expecting mellow things ones sour taste t mind tons flavor chips t sour taste like lot strong aftertaste want try salt vinegar chips suggest try price chips definately worth crunchy like expensive chips high quality restaurants recommend stars', 'oregonian point sharing oregon snacks friends visit state tell kettle brand potato chips microbrew beer br br kettle brand potato chips unmistakable light gold color rich flavor amazing crunch kettle brand chips healthier snacking option major chip brands kettle brand chips t trans fats msg artificial flavors colorings company line organic potato chips products certified kosher br br annette solomon reporter salem statesman journal noted glass wine goes nicely spicy thai chips solomon wrote missing wonderful pairing chips spicy want select semi sweet white wine moderate acid subdue strong flavors ginger lime garlic cilantro powering classically german style riesling fits parameters perfectly br br recommend href http www amazon com gp product b g mbv kettle chips honey dijon href http www amazon com gp product b g mbua kettle chips sea salt vinegar br br honey dijon chips bring terrific balance salty tangy sweet crunchy brands ve tried use mustard flavor overpowers honey dijon pairing honey dijon chips great dish bbq plate baked beans coleslaw potato salad grilled meat naturally great beer br br sea salt vinegar chips perfect complement vegetable trays cucumber carrot celery cherry tomatoes skip dip balance tangy chips alternating bites raw vegetable br br summary highly recommend kettle brand chips great buy amazon com', 'little tins sugar free mints great deal perfict fifty mints tin right cary safer teeth ones sugar price dollars resonable great shareing looking mint try ones youll glad', 'problem order case good half time best kettle chip best case worse potatos mealy old throw order expensive good fresh potatos best case prompted write potatos weird like sour going bad wrote company makes want best kettle chip try ones best try br ordering creeping soured potatos noticing caring', 'nasty greasy rich blood plus lacked major flavor spicy jalapeno flavor dissapointed chips hearing great things chips telling yuck yuck yuck pain chips day maybe better kettle chip brand staying clear chips wish zero stars', 'chips remind long obsolete brand chips middle school far tastiest chips ve s impossible walk past aisle picking trademark blue bag putting bag clip bag', 'agree company motto natural obsession tried small bag local store immediately bought bulk online save percent flavor strong best paired food mild flavor like steamed vegetables plain grain bread compete clash food', 't know covered like potato chips like em sale limit intake', 'best coffee ve light taste bodied pleased packaging having resealable keeps stay fresher longer unlike brands construction stays intact wont displeased purchase buy', 't need salt hide taste potato chips chips prove taste potato comes instead masked ok snack food salt trans fats mean healthiest potato chips low salt diet like having available means eat chips kettle best', 'best deal delivery fast chips delicious fresh love', 'buy local supermarket longer carried finding amazon purchased box fresh delicious remembered chips healthy definately buy', 'try good feel like indulging delicious gourmet potato chips new york chedder potato chips flavor like natural food store chips tangy crunchy satisfy potato chip fix like brand', 'best coffee ve run american pavilion cannes weaver s far away popular coffee sponsor hundreds people come pavilion day looking american coffee disappointed booming business year buy ll happy julie', 'kettle chips best potato chip god invented lord thanks day delivering unto incredulously delicious blend ginger spice veritable cornucopia flavor actually changed diet strict regiment spicy thai sea salt vinegar flavors alternating days lost lbs mention myriad health benefits experiencing life kettle chips', 'favorite bars combo raisons dark choc wonderful filling hard stores m thankful subsrcibe save', 'yeast extract listed ingredient sounds harmless right specifically chips contain autolyzed yeast extract chemical level monosodium glutamate s derived different source toxic properties kettle advertises products containing msg acknowledge chips safe people msg sensitivities', 'glad reduced rack c taste bad way frost cake stuck knife ran strings mess thought gotten bad batch gds birthday cake looks like crap buy mess horrible', 'chips nasty thought spilled drink bag chips soaked grease nasty', 'husband disappointed coffee weak watery cup coffee definite waste', 'know product title says molecular gastronomy t let scare looking food science earth use coffee creamer br br coffee blonde sweet flavored creamers bad kinds fat honestly hate use manufactured food items t think good body hand hate cold milk cream like hot coffee br br stumbled amazon day got idea making creamer bought low fat non instant milk powder regular milk powder non instant lowfat milk little sweeter tastes fresher regular instant low fat milk dissolve good cold water problem hot coffee play ratios heavy cream coffee rich think powder expensive use s like mixing br br flavoring bough cocoa bean powder vanilla bean powder caster superfine sugar mix small batches spices like cinnamon nutmeg flavored creamers wanted use fake sweetner powder instead small amounts store jelly canning jars use little food chopper food processor blend sugar heavier sinks let settle bit opening br br stuff tastes way better storebought creamers fun experiment come flavors going try essential oils good chocolate orange mix br br ingredients mentioned online time experiment maybe t use low fat milk t add flavorings great housewarming host ess gifts br br sure molecular people able tell sure experiment cooking main reason bought creamer worked great', 'kettle brand chips probably best potato chips ve tasted far bite love creative flavors favorite kettle chip happens honey dijon think s great combination sweet salty tangy perfect snack attacks t know exactly want especially love curled chips extra texture crunch oz bags perfect problem controlling portions like', 'heard little product local pet store tried small bag cats years respectively female younger took right away older male unfortunately weaned junk cat food corn meal usually refuse diet change actually liked older male overweight trying switch soft food doctor s request totally refused posh cat consumes calories fatty know s eating good food course know product cost feline food market t feeding animals lousy alternatives marketed healthy commercials cats eating vegetarian diet corn meal right ll stay stay tuned br br m updating review months cat food cats upgraded stars good food garfield eats little s big cat t exercise let s face female cat years old couple months s healthy s tiny happy agile tried chicken version holistic select garfield seemd miss sardine version went ve ordered duck version update try', 'right m sprouting cats eat grass love rotate wheatgrass rye', 'far habanero medium sauces amazing fiance use nearly daily picked goes sorts dishes add extra kick br br sauce lasts lot longer appears bottle couple weeks heavy use love use breakfast eggs burritos dinners soups added spice', 'simple product simply good extra ingredients hard pronounce scouring internet finding bit thinner consistency usual syrup use caution time squeeze great people like mint stronger mint flavor chocolate use coffee bit half half tastes great simple better', 'scotties hot spots week hot spots gone smell kinda strong bad s tolerablel', 'ok husband eats car celiac snack hard roaming won t eat definitely raspberry kind dry br tried snack bars honesty norm t know br like enjoy life s products br gf msg related products aspartates', 'liked sugar raw years introduced starbucks recent purchase disappointing sugar lighter color crystal size maybe th regular size having large crystals liked sugar raw enhanced quality mixed drinks lattes called hotline complain told problem recent sugar crop result molasses sugar complaints similar nature claimed reduced crystal size said problem away newer crop representative said new crop sugar digit date code spaces ends letters trailing digits date code julian calendar recent bad purchase space initial sequence numbers ended line current product better cheaper products better crop ll purchasing sugar raw', 'ferret loves rabbit s nice high protein treat addition regular evo ferret diet price reasonable compared local pet store t item stock', 'taste good purchasing different brand similar taste texture agree reviewer ordering summer insulating packaging ice packs melt warm weather like chocolate food items order cold weather buy', 'best teas tasted s clean bright fresh br br great delivery quality try', 'love sweeten tea coffee tastes better low glycemic sweeteners bitter aftertaste', 'sweetner best brings true flavors add great health benefts', 'disappointment products included fine real disappointment travel mug cheap plastic cup nutritional information cookies basically cookie package yeah want use travel mug agree review looks like came dollar store product description says polka dot tumbler definitely keeper simply cheap packaging quality enjoy known purchased set looking forward cute looking mug daily basis like products inside basket ok appeared', 'despite coming extremely large box great value bags preserved reasonable expiration date months away d definitely recommend', 'son acid reflux birth medication available improvement older gentleman came work place told product automatically ordered expecting better results things tried surprise heartburn symptoms day starting eating piece ginger morning eat actually enjoy product god send thank', 'omg love cookies chocolate mixed makes taste medicinal degusting isn t strong word horrible horrible mistake expensive mistake advertised peanut butter cookies bought peanut butter chocolate cookies wanted plan peanut butter cookies received chocolate peanut butter ones thought okay ll try omg threw taste horrible horrible disgutingly medicinal taste buy zero stars rate zero instead star', 'flavor lasted longer d probably die starvation lack wanting mouth', 'plocky s chips grains touch sweetness little lower fat sodium regular tortilla chips flavor performs tortilla chip eaten hold great salsas dips wimpy wish company bigger bag love usually organic foods section grocery difficult obtain shelf order case ll glad disappear fast', 'chips okay personally flavor combination greasy chip somewhat strange necessarily bad kind chip going able chips flavor loses novelty', 've new taste treat m big potato chips sure ve come late discover think good processing ingredients list actually pretty good trans fats want indulgence thicker tasty mass produced potato chips ve come know flavorful honey dijon potato chip incredibly good flavorful combination sweet tangy salty overly hot spicy excellent br br want snack good s got worth calories', 'looking energy boost artificial sweeteners chemicals great option taste decent nice smooth uplift jitters', 'ordered black beans rice love stock week finally opened package kicked having tried earlier little kick swallow let know hint hot pepper sort took pot luck night came home bag bag garnish salad took pot luck came home salad bowl br definitely order href http www amazon com gp product b gwlugu plocky s tortilla chips red beans n rice ounce bags pack', 'buy sugar years eat sugar sugar called turbinado sugar misleading picked brand says real turbinado sugar brands local food store sugar brown colored caramel br br needed sweet water days ago sugar raw glass water brown glass got pure white sugar crystals shame producer u try sugar mouth seconds spit pure white crystals br br m wondering consumers hold company liable practice', 'try food feed daughter actually pretty good daughter loves gets excited', 'm happy quality product price like reviewer prefer plastic liner preserve freshness continue buy product regardless quality oatmeal good price br br edit m th bag quality continues high', 'thinking cheese flavored chips love herbs delicious cheese overpowering yummy crispy', 'grew yunnan tea child mother s favorite happy economical source quality great large volume habitual tea drinker like tea daily regular tea yunnan nice brew dark need time s aromatic flavorful additives want flowery subtle earl grey yunnan keemun nice option explore', 'like chips salsa quacomole better cips market great order long available thank making accessable br br shelly kenyon', 'great fan potato chips thai food happy kettle chips decided meld great loves concept chips spicy burning hole tongue nice hint sweetness makes habit forming careful treat definitely worth indulging', 'mg sodium serving chips crisp dip low salt ketchup adds bit flavor', 'individual pocky sticks separately packaged melt stick shipped', 'bought daughter s grad party strawberry loves things great product', 'like vinegar avoid chips called vinegar sea salt sea salt vinegar', 'new favorite fan salt vinegar honey dijons replaced new number strong taste loving honey mustard flavor hope like br br price wise deal purchased grocery shipping given product stars easily price taste fabulous won t disappointed', 'fabulous marinade love use chicken baked oven grill flavor flair ve dinner parties receive rave reviews guests definitely worth price super cheap super easy love', 'male maltese dog enjoying old roy s puppy biscuits walmart couldn t desperate treat measure ordered bags peanut butter crossed fingers br br arrived little guy loves gets heart shaped biscuit bedtime sleeps crate hears touch bag treats beats path crate high excitement big hit worth price high quality smell peanuts', 'primary point review note packaging expensive size offered folger coffee money br br recently started drinking coffee lapse years t know cups day use wanted avoid fuss coffeemaker t particularly like instant coffee delighted folger s bags br br brew nice tasting cup coffee m kind coffee expert t know special terms know let bag seep bit minute sure tastes good thanks better half ve learned bags produce good cups coffee br br convenient easy tasty intend travel alternative room coffee makers yeck vending machines br br jerry', 'cashews nice big vast majority number small pieces bag s pretty expected cashews absolutely excellent cashew brittle br br order took week arrive pretty decent considering shipped country came double bagged clear plastic bags lb portions highly convenient throw bags freezer ready work br br great value price', 'love sea salt vinegar flavor kettle saw daily deal case order doubt received case case expiring december got end august tried package definitely taste unfreshness chips disappointed item returnable convenient love chips won t order concern close expiration date', 'like oreo s oreo cakester ve got try double stuff cakesters best note shipping slow maybe chances better', 'product great job clearing kidneys helped husband feel lots better early renal failure', 'steaz berry energy shots local organic market bought bottles cost dollars fell love instantly drink delicious taste yerba mate acai juice like slightly bitter fruity chocolate honey tea sensitive sucralose splenda energy drinks days hate taste love steaz actual sugar artificial sweeteners rush gives slow medical conditions including fibromyalgia saps energy causes intense pain like steaz helps clear away fatigue fog things caffeine jitters mg caffeine bottle br expensive buy bottles separately stores started looking online bulk price thrilled pack amazon signed amazon prime specifically product hah', 'candy delivered fast purchased reasonable price home bound unable store perfect', 'green mountains best blends coffee opinion love everyday blend perfect stregnth excellent blend', 'love sour food t bear strong sour taste open bag sour smell strong t like', 'wow shocked clear plastic pieces jars posters notified earth s best august selling checking recalling earth s best little guy taking business sad organic company selling baby food plastic bpa jars gotta better business', 'got free package bottle bloody mary mix bought seller advertising worked lol tried shared buddies loved im buy noticed reviews hot burn mouth forever hot nice temp perfect', 'chips come large box individually wrapped bags chips bags strong thicker lay s potato chip bags inside tasty kettle cooked chips salted right appear cooked actual kettle fashion cooked gives authentic non manufactured feel people like br br reccomend', 'best salsas long time stay away variety pack come worth money', 'eat mustard hands best mustard tried fact tell try falls love spicy tasty real quality br like spicy mustard love', 'nice flavor bitter like coffee searching coffee pleases family s tastes', 'live dorms kitchen making cup coffee easy especially need stay late study wake hours sleep like making tea tastes decent starbucks good sugar cream', 'mccann s oatmeal morning ordering amazon able save box br great product tastes great healthy', 'international delight fans completely dissapointed product problem shipment creamer thinner international delight happy d', 'okay eat potato chips br spicy hard eat br makes indulgence br rescues people overindulgence', 'crust tarts perfect husband loves m crazy sour tart taste ll eat crust hubby takes filling kids think great maybe s', 'bought thi s dad surprise birthday present', 'better organic oats advertised takes lots water minute oats oatmeal cookies come right crumbly soggy instant oats place cookies', 'looking probably know like chips br great deal problems going stale br oz bags great size snack help avoid eating', 'honestly worst frosting bought s kind generous frosting consistency rubber cement time crunch t luxury going store different frosting forged ahead decorated cake horrible experience bad cake decorating forever spread easily chewing gum stuck came contact got crumbs cake mixed t taste good time decorating knew way feed mess family ended going store buy pre cake cake took twice long decorate stuff gooey centerpiece ugly centerpiece cracked peeled frosting dried', 'read pomegranate molasses try haven t eaten little bit time wow decadent s dark syrupy sour little sweet dab forget dessert s unique flavor pleasing metallic undertone yum m going try making fesenjan', 'earth s best turkey vegetable dinner hits spot apples turkey add cranberries want level t non sweetened non dried cranberries better food stores br br apples carrots turkey taste good month old growing twin girls babies love carrots sweet taste great addition barley flour absorbs water acceptable consistency br br ingredients label water organic apples organic carrots mechanically separated organic turkey organic barley flour br br addition protein vitamin calcium iron br br m pleased babies like food introduced foods earth s best ve informed percentage daily needs met based adult', 'recently started bob s red baking soda m pleased s performance sure contaminated aluminum thanks bob', 'mccann s instant oatmeal great oatmeal scrape minutes prepare escaping fact best instant oatmeal near good store brand oatmeal requiring stovetop preparation mccann s good gets instant oatmeal s better organic natural brands tried varieties mccann s variety pack taste good prepared microwave adding boiling water convenient extreme time issue br br mccann s use actual cane sugar instead high fructose corn syrup helped decide buy product real sugar tastes better harmful stuff thing like mccann s use thickeners oats plus water plus heat creamy tasty oatmeal need guar gum convenience product maybe guar gum sitting bowl instant mccann s gluey', 'thing marmite t like hate love t live s english thing language adopted trade metaphor victoria beckham marmite meaning t like amazon world favor making weird wonderful stuff available affordable price time looked g jar british stores l county x costs england amazon supplier quick efficient marmite end year t decide send jars son japan good job amazon', 'plocky s red beans rice tortilla chips tasty shared bags daughter iraq said ummm good good artificial stuff', 'son loves fruit bars smaller typical wheat fruit bars suggestion child like try chocolate ones son favors chocolate ones berry ones', 'ultimate puppy food kibbles great small breeds high digestible nutrients opposed fillers companies use waste results high quality ingredients hunting training showing handling breeds dogs nearly years multiple national champions highly satisfied eukanuba s quality results obtained feeding foods recent purchases wag amazon com prices best good shipping immediately items stock', 'food great ages dogs year old puppy soft hardly sick food good especially amazon prime shipping', 've maybe half dozen bags tea year delicious consistently good quality black tea mainly use numi teas tea blends making kombucha', 'opened immediately concerned saw looked like dried white crust fluffy frosting package recommended stirring use gave try crust indescribable gelatinous goo best equate white version blue goop mother serves dinner better dead raisins br tried stir end result gelatinous goo white crusties lifting knife spread long strings goo trailed knife br opted making frosting instead easy little sprectrum palm shortening lot powdered sugar tiny splash vanilla tiny bit salt rice milk needed consistency beat minutes fluffy butter cream frosting thought d cherrybrook br br wonder overheated store foods br ve read positive reviews frosting mix maybe ll try time', 'fantastic product wish readily available stores s taste greatest s oz shot s gone second tastes like concentrated sweet tea record ve hour energy tastes far worse taste results s got mg caffeine equivalent big red bulls monsters t stand sucralose sugar substitutes shot sized energy drinks sugar sugar g isn t horrible drink oz red bulls day caffeine gives far better energy subtle preference black coffee t drink cups day anymore overall steaz right real organic ingredients moderate amounts create big results', 'chips great deal kettle having special deal case chips hard vegas favorite flavor shipping fast sooner expected', 've tried random sampler packs overloaded decafs extra bolds teas great way exactly brands style want received order couple days exactly ordered second order ll ordering item', 'peppermint stick delicious fun eat dad got christmas remembered having similar little girl m love', 'love tea helps curb eating day mom given friends try', 'isn t easy looks t came yellow frosting frosting t stick year old like making', 'like mccann s steel cut oats t cook br tastes better grocery store brands convenient br keeps eating oatmeal regularly good thing', 'chips greasy taste burnt grease bag chips saturated especially bag trans fat free need lot greasy', 'flavors good differce oaker oats brand mushy', 'delicious sugar pretty light brown color delicious aroma granules big bigger plain refined sugar makes difficult cream butter sugar use recipe melt sugar baking use brew beer plan boil melt great product perfect sugar granules bit finer', 'best chips beat taste like honey mustard definitely like eat wont stop addicting stuff', 'kettle chips look feel taste like lays chips favorite crinkle cut hefty longer favorite', 'kettle chips careful flavors nauseating said fantastic plain chips cuts potato fried dark golden brown crunchy lightly salted sea salt t recommend chips won t regret br br people burnt aren t website quick look ll immediate difference kettle brand potato chips beautiful tawny gold cooking natural sugars select potatoes caramelize creating chips light gold deep amber results flavors deep rich colors artisanal display bag br br said chips oily true explain website kettle foods exclusively use expeller pressed high monounsaturated sunflower safflower oil kettle brand products oils naturally free trans fatty acids hydrogenated way taken extra step sending products independent party labs test presence trans fats results indicate trans fat free meaning detected zero trans fats listed packaging oiliness natural happens quality oil br br chips natural potato flavor m fan unsalted potato chips watching salt intake unsalted chips best period', 'best tasting crisps eaten buy special occassions know ll eat bag', 'waiting ridiculous time case oz bags arrive opening box noticed bag chewed open mouse t know box outside porch son gets home m going pictures taken email amazon outside amazon box intact kettle chips people amazon warehouse t know buy amazon tell disgusted purchase makes sick think br br included pictures page poor little mousie high cholesterol br br update forgot mention offered email pictures mouse damage amazon told t want', 'love asparagus recently pickled asparagus oh goodness friend introduced exact brand couldn t believe great stuff tasted loved bought pack ve got jars left gonna need', 'best mint chocolate syrup ve far pale flavor comparison seven ingredients sauce including organic natural mint flavor past ice cream heavy flavors like butterscotch chocolate chips oreo cookies caramel et al mint flavor mint chocolate sauces pale buy plain vanilla chocolate ice cream minty flavor santa cruz organic mint chocolate syrup stands t overpower flavor ice cream calories mint flavor apparent taste use sparingly oz container bit longer syrups', 'enjoy chips got instead usual jalapeno ones company bit flavor change think better slightly like jalapenos great flavor overpowering small bag size prevents overeating larger bag', 'like maple brown sugar flavor regular fine brown sugar added apples cinnamon flavor ok quick easy satisfying breakfast ll order brand variety ll maple brown sugar', 'tea tastes good tea indian restaurant s better getting teabag making english way lot water bit milk creamy tasty criticism aren t sachets box directions use sachet ml water approximately half cup s good cup tea use means box good cups tea s delicious dinner drink buy sachets box', 'kettle branch potato chips new york cheddar good like kettle fried potato chips waaaay salty burnt taste rancid cheese flavoring oil fried old want like brand chips try new flavors having tried sorts brands kettle cooked chips t hit spot', 'ordered week organic foods delivery service oh word spicy burning spicy like tongue warming sweetish salty strongly flavored delicious chip like barbecue flavor nice sweet mexi fied barecue br br like s organic br br ate oz bag minutes bad dang sinfully delicious br br granted oz lot skimpy price case comes organic calories pop geesh br br yes cals oz serving s par course fried chips br br verdict fattening crispy flavorful delicious best stick small servings low fat sandwich soup br br enjoy br br mir', 'felt energized minutes lasted minutes paid drink drunk cup coffee saved money', 'arrowhead mills buttermilk pancake mix favorite mix tastes great cooks light fluffy super easy water think s better milk love pure organic maple syrup', 've eaten brands unsalted potato chips ve terrible t expect bought tasted amazed enjoyed unsalted potato chips natural potato flavor crunchy chips bad thing bag pain open use scissors save aggravation', 'boys needed lose weight t food floor chubby guy protein rich product food higher skinny boy jump higher food sits going stale food chubby boy losing ounce week', 'crisps local walmart figured try yummy regular chips big chip fan problem eat entire bag sitting crisps big thumbs', 'paid ounce pkg lunch today bought brown rice good carb soon tasted tasted like corn chip checked ingredients deceptive masa corn flour listed ingredients overwhelms taste won t buy sunchips money similar taste', 'tired different dog foods yrs cocker spaniel came breed specific dog food figured d try dog loves food finishes food ve yr tired seen significant change better s active br br buy brand food br br buster gives paws stars', 'love sugar muscavado sugar great use place regular white sugar recommend', 'love jalapeno chips kettle try br nice cruncy kick jalapeno br delicious br addicting br recommended', 'best dog food market today numerous ear problems cocker spaniel cleared taking food', 'salsa smelled delicious think probably unfortunately person amazon packer probably little stuffing work especially bottoms bottoms broken bottles reached told returns cause s food item looked customer service tag new face lift proud new face lift place contact emergencies like buy lot stuff comes styrofoam boxes ship things br especially salsa cardboard box stripe large bubble wrap matter carrier fed ex careful s going break line especially glass container barbara l s', 'healthy products t taste good taste good try downhill ve chips occasion tasty ve served guests twice times wanted know s nice gluten free friends borderline diabetic eat', 'month old absolutely loves far favorite jarred baby food like lentils add bit protein average baby food m ready introduce meats br br subscribe save brings price jar s fair price amazing deal roughly equivalent sale prices grocery store bigger issue particular blend hard foods regular grocery store target carry earth s best blend daughter likes buy price bit higher store prices s good', 'grew ohio lived woods sassafrass trees plentiful dig tender roots bark trees delightful tea purchased breezy morning sassafrass tea good expensive average size tea bags shipping product good bargain switched pappy s extract', 'bought local specialty item store adore chutney higher price sold like gourmet item wrongly thought better affordable brands sold supermarket wrong gel jelly fruits sprinkled tastes like cheap thickened jelly sandwiches ve better s talking supermarket brands disappointed money buy quality', 'use rotel mild love product saves daily basis trying cook lower fat healthier foods hurry stuff makes easier notice canned tomatos weird tin taste spagehetti sauce reason product t tastes good dump beans heat eat br br add chili powder chili soup indian dishes spicey spaghetti sauce prefer canned salsas works things like quesadillas drain liquid br br local grocery stores carry carry like pay amazon s inflated price order case t like m paying higher price love love love product', 'im learning latin american south american coffees distinct coffee caramelish finish peets coffee fanatics learned weavers roaster roaster peet s hooked reviewd french organic blend coffee perfect afternoon drink br met weavers team warner brothers party gave half pound french roast fans br wont dissapointed', 'bought sale amazon nice crispy chips definitely great buy catch sale', 'happen like better sea salt vinegar chip ve country', 'careful eat day chemicals laxative lololol', 'chocolate treat great gift arrived right expected gave girlfriend surprise gift absolutely loved', 'live citron falksalt wonderful watermelon fish food requiring salt world try red juicy watermelon wonderful experience', 'simply fell love chips refused share friends experience lot cheese favored chips salty little greasy ny cheddar kettle changed mind thanks amazon great discounts t buy store anymore', 'chips taste awesome unlike flavored chips actually sure plenty flavory salty goodness gets individual chip t pass gas near pretty ladies consumption ll totally know', 'mccann s makes oatmeal oatmeal connoisseur likes raw pellet state cooks half hour sloth addled instant microwave minutes s good s sure beauty instant variety available different flavors regular br variety pack allows different tastes explored giving chance experience difference mccann s known oatmeals personally like mccann s cooks thicker body brand america apples cinnamon tends little liquidy want experiment water add watt microwave oatmeal cooks minute seven seconds watch handle time water use br bad thing consider bad thing offering buy lot ll end count boxes good family oatmeal eaters single person love oatmeal', 'great able sugar way good eat going use sugar processed unhealthy state sugar body helping fair trade farmers good thing happy amazon', 'past couple years eaten reviewed kinds styles chips best ve big disappointments eaten lantchips varieties way best group kettle chips rightly salted irritated pringles products kettle good flavor small size overwhelming oiliness takes away flavors good choice amazon stock lantchips time days choice', 'received dinner variety pack tried time today try baby foods sure right temperature bowl microwave seconds taste ok tasted face yucky added sweet potatoes dash cinnamon credit month old daughter ate bites nearly enthusiastically flavors like mixture organic vegetables beans protein', 'standard poodle pomeranian wonderful food switched different food price couple times end going right natural balance', 'wanted post small bits plastic food feeding month old plastic food baby food careful buy considering br br daughter loves food s actually favorite time noticed plastic months', 'fast easy definitely delicious makes great cup coffee easy good purchase continue order br thanx', 'real good product love chips customers t wrong wit best', 'friend brought work claim change life life fairly unchanged chips like kettle chips kettle chips greasy flavor chips amazing type hot refreshing enjoy spicy hot things try convert', 'royal canin recommended dog line dog food specific breed difficult stores petsmart petco carried cocker spaniel formula smaller bags expensive ounce ratio finding larger bag great deal cocker loves food', 'kettle chips taste good crispy crunchy u enjoy s thinly cut sliced', 'bought brand trial tired pingos br br claims natural argument point bag fried brown color suffer eating fried chips open bags looks like throw away t know bad luck bag selling sure buy brand', 's sugar raw s flavor profile better white sugar s suppose better wish bags resealable', 'best chips sure beat cooked way better brands tangy crisp satisfy craving time chips buy thank amazon letting buy online bulk save money time', 'pocky plain fun eat discovered snacks anime convention d heard seen manga characters eating slim sticks biscuity stuff flavor cross waffle cones pretzels charming tiny popping crispness chocolate flavor nice non bitter non dark generically pleasing choco taste popular given fast sell cons prefer flavor strawberry like strawberry ice cream nice br br means health food s category cookie s got fat sugar non healthful ingredients hey s junk food know s supposed occasional habitual diet prone binge eating t stop smaller boxes huge calorie splurge stick reasonable number chocolate pocky sticks set calories grams fat saturated wouldn t recommend scarfing multiple boxes fact nibble slowly fun cool texture effect br br love flavor coconut chocolate like almond joy try coconut chocolate ones good oh man hubby says taste reminds girl scout caramel delights cookies turn similar old yes yes cookies seventies br br read manga seen anime young folks eating stick looking treats seen footage cute japanese girls nibbling skinny little stick treats eating fun treats br br crazy hot summer d recommend look local retailer wait fall s cooler weather sticky clumped mess pocky sticks deep summer weather look local stores specialize japanese anime manga ll likely carry japanese snacks like south florida tate s comics variety flavors fresh melted', 'purchased star kist tuna thought try brand change pace taste tuna pleasant basil spices', 've fan hot spicy maruchan ramen long time enjoy spice love ramen ll love product bad s way expensive amazon s walmart', 'pork chops omaha steaks tasty time exceptionally dry pork usually dry meat extreme possibly shipping frozen keeping frozen partly problem', 'item fine banana heads like banana runts alot smaller received item packaging great banana heads come open shipping packing envelope', 'hot sauce fan tasted black market hot sauce listning radio morning creater owner giving interview sounded interesting d j s sampling sauce raving picked bottle local grocery s good bottle kitchen extra bottle hand gifts taking potlucks barbecues party s happy buy online amazon', 'perfect favorite season variety spices exactly suit tastes salt', 'love stuff sweetens affecting blood glucose levels figure tequila set kidding', 'father longer care beloved year old cocker spaniel decided family brought nyc ear eye discharge slightly overweight check vet ruled infection decided try royal canin based numerous good reviews week ear eye problems gone dropped good weight going food feeding', 'buyer beware sweetener everybody maltitol alcohol sugar undigestible body know short time consuming unsuspecting digest extreme intestinal bloating cramping massive amounts gas person experience nausea diarrhea headaches experienced learned lesson hard way years ago fell love sugar free chocolates suzanne sommers sell thought d sugar free chocolate nirvana taste bliss short lived terrible effects maltitol kicked discomfort unlike felt blew like balloon painful abdominal cramping symptoms passed unpleasant hard believe low calorie sweetener culprit symptoms gone stopped eating chocolate hunch maltitol unfortunately confirmed year later purchased delicious sugar free popcorn local market taste amazing looking label wondering possibly yummy new sugarfree treat taste good heart sank followed little asterisk sugarfree sweetener label read maltitol tiny little letters thank goodness d eaten little ended effects shorter duration people use maltitol heart s content like bad reaction case like s s maltitol', 'little wholesome supermarket brands somewhat mushy t flavor t pass muster kids probably won t buy', 'product qualify sort deceptive packaging award box contains bars wrappers smaller normal interior box air unwrap bar length normal snack bar rest air inside wrapper include wrappers bars occupy space inside box br br far taste goes dry hint berry flavor celiacs inferior products won t disappointed taste br br ve cookies suffer sort deceptive packaging picture box shows consider normal sized cookie open box contains plastic tray holding cookies size quarter br br want like company trying hard coming new products keeping allergens production process ve continued try products bought granola times wanting like worst food ve clusters hard partially popped kernels bag popcorn fitting gerbils people br br recommend enjoy life foods', 'saw spicy thai chips knew try love spicy love thai food chips super spicy actually taste sort sweet degrees flavor spiciness lingering taste bites d definitely good unique chip absolutely hate sweet chips d try different flavor little sweet', 'husband twizzlers addict ve bought times amazon government employees living overseas t country assigned ve fresh tasty packed arrive timely manner', 'love packaging making heatproof wouldn t problem ordered winter freakishly cold want thank veryasia free sample mi goreng delicious love mi goreng', 'took chips pretty good healthy sure eaten family friends', 'fed cats lot stuff boy cats picky eaters loved purina loved nutro loved iams love feed br br review based affectionate owners love certain age instructed vet consider senior foods lower carb foods catties fatties tried types food evinced change litter super stink small kibble cats barfed t chew swallow br br felidae trick problems speak consistent litter bearable nose cats love kibble sized appropriate chewing s kicker br feeding cats felidae demeanor improved coats super soft lush new improvements directly attribute food loyal felidae consumers br br additionally absence corn product feed lessen remove reactions friends cat allergies', 'best lemon juice tried recurring customer high quality product season fresh lemos supplement need citrus kitchen refreshments br br continue buying', 'looks pretty contents minute high quality s plastic cup tea looks like came dollar store basket nice', 'mccann s oatmeal good quality choice favorite apples cinnamon overly sugary good hot breakfast minutes excellent', 'product amazing know people little ones use love super easy clean use ordering impression package fyi', 'daughter loved stuff natural good mix things older beats gerber', 'hot like low star reviewer got suckered seeing habenero oz size people like flavor citrus y fish sauce mix according ingredient label looking hot ain t', 'like plockys br like br plockys plockys br mean fuss br taste good br healthy br plockys plockys br grab bag br thank plockys', 'fair twins got gas horrible night screaming gas pains garbanzo beans ideal food young babies', 'purchased mango flavor t like mango hint sweetness unfortunately hint aftertaste like licorice ve consuming sports nutrition products decades m familiar come like taste products ve tried mango flavor appealing ve tasted s terrible s bad notice bad taste sip', 'love panang curry avoid white rice restaurants serve decided try making product exactly want hot tasty panang curry adding lots fresh veggies tofu brown rice s hot t add spices great product purchase', 'cadbury chocolate uses different formula country manufactured new zealand uses cream australia version hershey expect england australia new zealand cadbury melt tongue like countries tastes differently br br looking silky smooth easy melting chocolate non hershey version br br hershey missed opportunity introduce high quality cadbury chocolate usa', 'price product certainly raises attention compairing amazon price local stores rotel local kroger dissapointing', 'eat spicy thai flavor time msg makes body unhappy flavored chips msg free changed recipe instead real food ingredients like processed chemical garbage bunch salt msg stuffed label yeast extract removed msg label know br br worst taste horrible instead crisp oily character cooked like kettle instead color uniformity baked lays spicy thai flavor tastes like sour cream onion ranch gone rancid br br shame kettle chips slowly moving flavor time new cheap ingredient list manufacturing method dont fooled paying premium price chips premium product anymore', 'great product taste great works exactly described superb natural sleep aid amazing', 'bought boyfriend likes honey roasted pecans salads couple restaurants plus likes nuts pecans almonds peanuts loved actually ordered cans instead gift tin work place stay fresh longer t think freshness issue won t long lol', 'brother bought pound coffee christmas told weaver original roaster pete s coffee eventually split started roaster let tell stuff delicious ve married brand coffee usually buy starbucks lb bag costco looked good trader joes weavers class s m subscribing guarantee stuff delivered regularly try', 'oil years best eating bread cooking love regular use won t sorry tired great dipping bread cooking omelet green beans', 'huge coffee fan mother purchased little machine talked trying latte macciato coffee shop better like products usually non coffee drinker br little dolche guesto machine super easy use prepares good coffee latte cappuccino minute water heated recommend dolce gusto good price getting', 'husband love chips personally think flavor perfect try', 'smiles thank lord healthy snack food unsalted tastes great gave finding potato chip like thing ask kettle change texture s slightly hard crunchy problem prefer softer kettle happen thank', 'great candy family loved smaller imagined thought expensive small germany easier shipping usa makes expenive great product fun usa family receive', 'disappointed product thought bigger br come icing use', 'like product taste great coffee tea lost weight cutting sugar replacing honey agave nectar', 'ordered wife reccomended daughter morning likes flavors s happy m happy br href http www amazon com gp product b eo qw mccann s instant irish oatmeal variety pack regular apples cinnamon maple brown sugar count boxes pack', 've tried hour energy red rain nos energy shots favorite terms taste effect plus s somewhat reassuring know natural ingredients wonder m putting body brands purchase box months past years', 'great work pop instant bag minute coffee best tasting coffee s easy mess', 'soy sauce japan having problems radiation soy bean fields sure long contamination like idea product claims gmo seeds yea pay decided chance japan', 'poland spring driver gave new tea try br family enjoyed looked ingredients pleased br natural ingredients calories', 'like people mentioned coffee great taste ve tried different instant coffees better ones favorites want try organic africafe pure instant coffee', 'sugar sweet denied advertised t melt baked liege waffles gaufres larger pebbles belgian pearl grains smaller think pretzel salt seed pearls', 'bottle arrived time sushi dinner game night planned friends soy sauces choose sampling bluegrass enjoyed light smoothness subtle sweetness splashing right piece dunking dipping friends wanted know m going order right ll ordering extra bottles going great little gift s affordable unique instead traditional bottle wine common s boring', 'kettle chips spicy thai potato chips perfect sweet savory spicy d want good meal better potato chip kettle cooked chips uniquely shaped bit browned sliced perfectly actually great crunch bite breaking tooth flavor tremendous wouldn t thai s vague sweet tangy flavor kick great big hit ginger like spice overly spicy people handle fact chips absolutely artificial ingredients trans fat makes fabulous addition muncher s snack cupboard', 'good tasting light chip value nutrition munchies good alternative eating potato chips', 'local diner eat regularly use kinds foods love s hot flavor t like sauces burn taste burn awesome flavor surprised amazon stumbled highly recommend likes good hot sauce', 'low calorie satisfying soups nice t want t want hungry hours', 'taste like stale order coffee th year annerversery reception hall stuff tasted like douwe egberts hall possibly stale coffee', 'buying bags time hefty markup nearby stores decided try bulk ordering snack foods amazon pleased price products br br jalapeno kettle chips overly spicy slow building spice starts subtly grows eat bag m embarrassed times br br chips arrived packed fresh nearly year time expired pretty impressive chips br br importantly price bag better local store live near expensive city play role price difference br br wouldn t hesitate order box run', 'like lot sesame oil use salads regularly great quality flavor aroma t beat organic', 'wasn t stock time looked vermont country store weston jaw harp cranberry horseradish sauce fartless black bean salsa apple cider jelly newton s cradle art motion staple vermont maple syrup br br ass kickin peanuts hot activate perspiration glands ears arms requires beverage advertised glass cold milk box kleenex nose run look like ordinary peanuts giving ideas work suspect people hitting goodies absence especially colleague greg m going work earliest opportunity contents ordinary planters peanuts crying nose running return br br shaken ensure spices evenly distributed important wash hands consumption touch eyes br br ll nuts ass kickin peanuts br br p s m sharing peanuts deliberately ll probably greg jaw harp christmas ll insulted', 'tastier plain tuna pouches excellent quality need dress br br micro power minute shazam br br believe little heating brings flavor', 'salt vinegar chips favorite flavor think ve tried brand far best like sodium content high like excessively greasy right balance salt vinegar taste', 'tried varieties bbq chips hands best market r salty greasy great crispy crunch plenty good bbq flavor hint sweetness brands fall short bag bag mouth wateringly delicious st', 'good sunflower seeds good price prefer unsalted variety hard br br thing mind expiration best date example order april batch receive june use date stretch consume bags seeds start going rancid roasted oil unsalted seeds spoil readily salted variety refrigerated receipt br br amazon t specify use dates food products sell s gamble purchaser m assuming amazon won t ship stuff expired probably ship oldest stock use date item select choice', 'shipped sister follows gluten free eating plan reports versatile easier grinding almonds crispy crust chicken fish filets uses place bread crumbs meatloaf meatballs stays moist added place wheat flour baking good product good value', 'love flour amazon sent book broke bag mess customer sevice took care problem foolish way ship product', 'received shown mother law likes walgreens quit carrying great amazon', 'need know oatmeal instant half cup low fat milk add raisins nuke seconds expensive kroger store brand oatmeal maybe little tastier better texture s oatmeal mmm convenient', 'got order ok bit light cheddar flavoring herb taste eludes', 've liked salt vinegar chips time stronger flavor bag vinegar overflowing right chip doesnt stop ve finished bag addictive like salt vinegar ultimate chips compares', 'm detroit raised vernor s ginger ale moved california difficult vernor s pop disappear guess advertising home br br prefer plastic bottles ideal size oz ml liter problem liter size takes person long drink letting flat br br case vernor s unique aged oak years think imparts great unique flavor br br wish catch available widely br br recently sale redwood city california s bay area south san francisco day gone', 'porcini mushrooms cooking plus years roland extra fancy porcinis purchased best including mushrooms bought italy transported usa', 'seriously delicious especially like plain potato chips concern oily understand kettle chips fried small batches open bag s thing strong bag need scissors s coating oil inside bag chips suggest blot shake paper towels consuming way yummy potato taste satisfying crunch delicious', 'couldn t wait try cinnamon coffee cake fresh eggs creamy sour cream madagascar bourbon vanilla topped filled cinnamon streusel cinnamon coffee cake available online fair share cinnamon coffee cakes let tell fantasicakes cinnamon coffee cake takes cake size price quality taste br cake arrived fast carefully packaged arrived perfect condition comes large tub white icing drizzle serving couldn t believe large size actually fed family enjoy breakfast days cake solid sponge cake type consistency moist filling flavors die sticky cinnamon outside sweet cinnamon vanilla swirled inside cake icing tops beautifully gives moist sticky sweet flavor pair cake morning coffee ve got perfect breakfast treat', 'daughter s favorite foremost love lentils aren t stage vegetarian choices', 'extremely disappionted opened shipment enjoy life bars berry carmel apple cocoa loco boxes plain generic design know kind brands change want products look cheaper compared ingredients new shipment older boxes home guess cheaper ingredients taste tested let year old help wouldn t eat new ones t blame oily bland thought enjoy life brand actually cared quality ingredients good tasting product wrong summary way expensive low quality unpalatable ingredients', 'hard wintergreen smalls sugar free stores red smalls peppermint common flavor wintergreen refreshing absolutely delicious driving cross country cuts turn daughter hand wintergreen pulls puts hand right world', 'ordered line received days tea excellent price right', 'great described bee themed party use packs honey coffee tea', 'like regular altoids breath mints pleasant tasting little candies cute convenient tin s far goes mintiness strong wintergreens definitely weaker peppermint minis m dragon breath person mints small effect breath freshen breath short maybe minutes point think icebreakers frost mints best sugar free breath mints', 'like spicy like spicy enjoyed crunchy kettle cooked chips', 'bought chocolate liquor cups party big hit high quality good buy', 'saw interesting process br decided try enjoy flavor adds br looking forward trying dishes br thanks brewed', 'fan ramen quick easy meal finding amazon decent price having delivered door case amazing situation', 'recently stopped eating number allergens dairy soy nuts snacks fit dietary restrictions unfortunately pretty gross miserable texture cardboard flavored berry threw away recommend cocoa ones tastier allergen free', 'like kettle chips disappointed order cooked bought bigger sized bag costco chips cooked perfectly t know different br buy chips', 'right spice hot sweet hard new jersey bag', 'received quickly extremely packaged smaller sized basket adorable present likes tea self hand nicely assembled attention', 'certainly best caramels wish came bigger pieces finished box sitting certainly buy', 'met kettle brand chip like chips great loaded potato flavor flavorful like sweet onion chips better list great tasting potato chips kettle chips great chips f money', 'dont know fresh supposed taste like checked expiration date current tasted kind stale', 'pup experienced allergies forms hotspots itching dog foods cheap buy food crazy preservatives cause health problems pets food works wonders reducing allergies dog loves food br message ramsey frankenstein approved', 'drunk ricore mother allowed drink caffeine love stuff milk br s smoother tastier instant coffee milk french live br bring boxes ricore opportunity savora hidden gem bring br check', 'concerned aluminum free product product bad baking soda form contain aluminum concern baking powder depending manufacturer contain aluminum save hard earned money buy bob s red regular baking soda arm hammer great general cleaning purposes natural beauty health care brand perfect br br thought d like know fell little digging br br p s let amazon com land feel haters t know talking love bob s red shall continue purchasing excellent products', 'want like kettle contain corn oil soybean oil gmo kids allergic corn soy darnit things bite plus sharpness mindlessly enjoying minus mouthful cuts scratches worth hard crunchy s wrong simply light crispy vastly prefer lay s texture suffer kettle absense gmos corn soy wish d come harsh mouth', 'things darn cheesy like lot flavor ll love overdose cheddary goodness', 'gave tea try add variety tea habit m glad somewhat sweet minty taste wonderful aroma nice reddish color tea probably taste factor wonderful japanese green matcha tea ve look forward experiencing purported health benefits rooibos ve read', 'great stop eating br lowest priced buy time br shipped faster paid shipped br thank', 'easier better beats grandmother s white gravy recipe peppered mix water takes minute highly recommend gravy mix disappoint', 'delicious chocolate cups aluminum holder local store happy line br people unaware impressed serve little cordial liquor chocolate cup sipping br liquor eat cup nicer excellent product', 'great taffy great price wide assortment yummy taffy delivery quick taffy lover deal', 'strawberry twizzlers guilty pleasure yummy pounds son', 'love flavor shelves anymore gum tasted fresh actually way better buy stores', 'second purchase kettle potato chips love time tried bought carton bags kettle chips oz bag single size serving snack meal chips delicious baked fried lightly salted sea salt fat preservatives artificial use real food ingredients ask great tasting chip', 'fast delivery good product lemon juice concentrate stores s handy add sauces dressings pain squeeze fresh juice everytime need nevermind having lemons hand begin', 'small containers t little tins half filled price charged rip exotic ingredient costly gold contained tiny squares cereal ploy filled factory settled transport br manufacturers honest dealings', 'admit oversalted chip addictive think gone far skin literally peeled lips inside mouth eating surprised market', 'fantastic beat taste resist spice lover', 'taste tea saved trip home santa cruz hotel restaurant stale powder tea bags needed fix tourist stop giant artichoke beckoned chinese breakfast yunnan black tea set straight br br reviewers said tastes odd flavor strong bit smoky like darjeeling earthier like darjeeling earl grey flavor milk sugar needed s expensive box teabags finding loose large quantities price fantastic arrived promptly sealed true label unlike loose tea s actually cut leaves unfurl ahhh', 'good frozen lemon juice good slightly odd flavor preservative sure wish order frozen juice', 'like better regular altoids costly d better like', 'coffee creamer commercial coffee creamer vanilla butter creme almond bavarian creme flavors rest milk tastes wonderful half price store bought br br excellent', 'nature valley nut lovers variety pack perfect wasn t sure peanut butter bar excellent loved roasted almond roasted pecan peanut butter br br definately buy seller quick shipping fresh', 'green mountain nantucket blend k cups good cup coffee href http www amazon com gp product b aqpmha keurig b b elite gourmet single cup home brewing smooth tasting brew wife prefers href http www amazon com gp product b xdzik coffee people donut shop k cups keurig brewers pack amazon frustration free packaging generally drink morning br br good small large cup settings br br highly recommended br br cfh', 'love chips eaten crisp tasty dip introduced chips loves expiration date months ordering bags t come near going stale', 'miss vickies better unfortunately widely available m sure tough right word noticeable difference brands miss vickie s better imho', 'honey dijon chips bring terrific balance salty tangy sweet crunchy brands ve tried use mustard flavor overpowers honey dijon pairing br br chips great dish bbq plate baked beans coleslaw potato salad grilled meat naturally great beer br br oregonian m proud share delectable snacks friends especially living outside state haven t experienced gourmet chips tell kettle brand potato chips microbrews beer br br kettle brand potato chips unmistakable light gold color rich flavor amazing crunch kettle brand chips healthier snacking option major chip brands kettle brand chips t trans fats msg artificial flavors colorings company line organic potato chips products certified kosher br br recommend kettle chips flavors href http www amazon com gp product b g mbua kettle chips sea salt vinegar href http www amazon com gp product b g q gm kettle chips spicy thai br br annette solomon reporter salem statesman journal recently noted glass wine goes nicely chips solomon wrote missing wonderful pairing chips spicy want select semi sweet white wine moderate acid subdue strong flavors ginger lime garlic cilantro powering classically german style riesling fits parameters perfectly', 'pocky incredibly good snack impressed asia s packaging stupidly ordered easy melt chocolate dead heat summer package dessert pocky ordered degree weather melted liquid goo t t course expecting pocky boxes melted away took special care pocky box reading protect heat pocky arriving perfect condition stick bit love asia', 'milka naps mix gift box fun unique gift tired whitman s usual american brands wrong whitman s change look flavor nice br br sampler provides milka options flavors noisette hazelnuts alpine milk strawberry delicious t like strawberry chocolate candy personally away eager friends naps box perfect coffee tables standalone dish work br br milka famous purple cow owned kraft eastern european chocolate originally produced switzerland available germany austria hungary nearby countries br br distribution weak united states increasingly larger cities usually international grocery stores pops eclectic grocers time time years kraft change recipe seen texture taste better hershey s nestle smoother creamier basic chocolate br br fully recommend milka naps mix gift box br br anthony trendl br editor hungarianbookstore com', 'oh love chips hard usually bag great cheap amazon', 'love spicy ramen reasons thing burns stomach badly burning sensation t away like hours sure healthy buy walmart way cheaper amazon', 't know s cactus tequila unique combination ingredients flavour hot sauce makes kind picked bottle trip brought home totally blown away realized simply couldn t city bummed br br magic internet case sauce ecstatic br br love hot sauce mean love hot sauce t want sauce tastelessly burns throat grab bottle tequila picante gourmet inclan realize taste want use sauce br br thank personal incredible service', 'love chips unique taste incredible crispy texture henry s san diego ca moved ordering amazon running constantly', 'gravy mix excellent t use water called use milk instead makes better', 'idea spongebob ginger bread pineapple great sticker says use jn date thats good think fun cute decoration son going want eat seller check expiration date right box happy', 'okay way buy', 'tea best tea ve tasted norway states morning', 'ignore star comments check bag main ingredient fact grain brown rice second rice flower gluten free add binder corn flour comes celiac disease sunchips contain wheat key binder chip cookie cereal excellent product spouse buy lot gluten free absolutely delicious', 'candy red flavor plan chewy buy', 'chips good bad create moral dilemmas constantly wou strong having large bbq habit bringing new bag work days lot time treadmill beware', 'love sugar price wise s cheaper buy amazon compared', 'got brother jorge cruise diet decided try actually tastes pretty good', 'energy shot truly work terrible taste know expect getting water handy chaser helps glad gives energy need chemicals beverages s helped kick addiction diet coke aspartame laced caffeinated beverages yay', 'achieve potato chip nirvana s simple buy chips tomorrow eat br repeat br br br br best old school bbq flavor br kettle quality br incredible price amazon br br mention delicious terrific bargain', 'amazing chips t cheeses blue cheese subtle blue cheese haters like enjoy', 'opened grayish sticky mess m mad wasting money trying scratch home probably end better cheaper oh live learn', 'unfortunately having ordered previously neglected look word supreme offer receiving free shipping delivered husband guests knew immediately different previously enjoyed currently amazon featured supreme babka awaiting receive future read carefully', 'product disappointment reviewers said s gluey sticky texture akin elmer s glue edible food product flavor sickening sweet actually thought frosting spoiled bad save time paid frosting brand cherrybrook cake cookie mixes good s hard believe sell', 'love time son s food everyday case honestly time days t time energy enter product bought baby food read reviews people saying fruit like dessert yadda yadda yadda truth yes bit fruit sweet fruit merely brings flavors naturally t add great product enter proteins baby s diet consistency smooth wanted add cereal baby choke highly recommend', 'numi winner tea husband son share wonderful tea dinner pleasant reason love turn bitter longer steeping like teas', 'remind dog treats pumpkin cinnamon kind bland favorite nature product finace loves s stars come', 'chemical sensitive sugar free product year use maybe week drink bottle boost energy hour depending feel imo t replace m coffee sweet early afternoon start fade drink bottle workout ve drinking guayaki yerba mate teas years compared toxic energy boosters highly recommend product clean t leave nasty chems body try judge review s body reacts differently', 'went grocery stores looking flavor jello green tomato jam recipe finally jello wonderful evidently s carried stores summer harvest time fall couldn t town jello tastes like watermelon jam recipe takes like watermelon jam great regular jello yummy', 'decent want realllly good salt vinegar chip try boulder s salt malt vinegar chips awesome', 'absolutely forget confirmed reviewers chips total garbage like chewing styrofoam packaging peanuts positively awful hyperbole exaggeration ll buy kettle brand reportedly great premium brand literally mass market chip ve tried tastes better stale rancid tasting virtually salty taste whatsoever completely awful', 'started drinking power slim tea hcg diet help curb cravings liked tried hooked satisfying drink time energy gives extra pick afternoons helps going day matter long', 'daughter outgrowing baby food eat tried rd foods t like texture good likes buying', 'delicious soy sauce tasted surely order deep flavor', 'got girlfriend birthday fruit actually tasted fresh yummy love dark chocolate loved dark chocolate almonds time ll organic version product close share', 'condiments overpriced terrible classic disgustingly sweet spiced tastes like bad spicy marinara sauce chain restaurant', 'natural balance dry dog food lamb meal brown rice recipe wonders jack russell awful food allergy s food hope food t allergic problem eating dry normally mix natural balance dry lamb brown rice natural balance wet lamb brown rice like better started feeding dog bichon loves dog allergy s stomach issue want dog eat better food difference pet', 'tasted good spicy t like spicy stay away price paid good buy', 'drinking tea long time purchase doctor s office wasn t available m glad buy amazon com drink tea day like folks drink coffee wonderful taste', 'spicy foods south texas spicy doubt habanero notch', 'daughter autism craves hot spice pungent foods absolute favorite chips calls sour chips wants lunch time love crispy kettle way cooked', 'product received advertised br br href http www amazon com gp product b gvisjm twizzlers strawberry ounce bags pack', 'cinnamon cake loaf wonderful natural flavor s moist tender great little sweet treat want isn t terribly bad diet s delicious', 'love love love idea product little loves loves loves use gets fresh fruit tasty things t worry choking drawback bits food stuck mesh seams impossible granted foods difficult t cause problem bananas pretty destroyed couple love product think time removable replaceable mesh bags', 'ordered dad fathers day ate box days br said tasted good want order haha', 'jars came form edible babies rest filled clump spongy mush mix water brown color yellowish brown like jars good mixture br pretty disappointing waste money', 'm trying wu yi teas like particularly subtle citrus taste natural sweetness br br ingredients include organic wu li cliff oolong tea mg organic black tea mg organic green tea extract mg proprietary blend mg plus ginseng panax orange peel lemon grass guarana ingredients natual orange citrus flavors br br goal drink tea coffee enjoying trying different kind tea day ll coming', 'shepherd collie mix ibs vet recommended limited ingredient food helped symptoms likes buy amazon s cheaper free shipping', 'love chips t like black beans tasty yum plus good', 'great idea daughter love br t think difficult wash mean like toss water s come br absolutely recommend', 'fresh great way little chocolate life million calories taste like chocolate pudding', 'work college financial aid bowl desk students buy grocery store learned online lb bag thought good deal great deal', 'vile miserable pancake toddler morning actually cried t know flat anemic appearance salty bitter taste wheat flour organic mix buttermilk baking soda sls sea salt going nature s path buttermilk pancake mix went straight garbage', 'pretty good regular style soy sauce super wonderful better good quality soy sauce buy asian market main value unique gift br japanese soy sauce world types regular mild usukuchi raw fish sashimi light colored bluegrass soy sauce regular style compared kikoman good commercial brand widely available bluegrass starts saltier flat middle ends complex interesting flavor kikoman salty initially round flavor middle t complex ending flavors initial saltiness bluegrass minus kikoman s middle flavor plus prefere kikoman especially dipping sushi flavor direct lived japan years standard japanese flavor haven t tried bluegrass blended food background flavor soy sauce usually br bluegrass perfectly good soy sauce brand different flavor favorite want unique kentucky gift asian friend different standard bottle bourbon box chocolate', 'ordered product times happy delivery product works great cooking baking substitute sugar chai lattes', 'admit chips good highly addictive t stop eating s crunchy seasoned right flavor salt perfect believe chips salty t finish small bag eating', 'm familiar safcol brand tuna addict gave shot tuna tastes like s good quality tomato basil flavor bit bland s better plain t pack punch hoping s great option low calorie low fat meal', 'dogs like flavors tried dog food reason itching increased tried lamb rice itchy dogs giving limited ingredient dog food try help duck sweet potato cut itching significantly tried lamb rice started itching like natural balance quality ingredients', 'son bought package jalapeno potato chips couple weeks ago addicted br br kettle chips appear somewhat better terms fats chips peruses dietary information br br second individual chips nice crisp good crunch value munch away br br jalapeno kick overly hot course products labelled spicy kick bland slow noticeable burn jalapeno preference bit heat understand consumers prefer somewhat decent spicyness br br pretty happy product weeks bought purchase package week foray local grocery store', 'love strong bodied quality tea typically drink assam irish breakfast early grey tea reviewer noted price pound discouraging searching quality bodied tea wasn t bitter palatable price point certainly fits unlike teas tend better form e iced vs hot tea excellent forms certainly recommend prefers smooth bodied quality tea t cost arm leg', 'daily basis gums healty teeth clean free plack', 'love eating good watching tv looking movies sweet like transfer zip lock baggie stay fresh time eating', 'honey dijon flavor okay flavor girlfriend thought left bad aftertaste aftertaste sort like old cheese presumably folks like m fancy cheese eater lingers hour d flavor rating stars br br tried ny cheddar flavor stars liked better t leave long lingering bad aftertaste br br d consistency chips stars chips crunchy greasy napkin near wash hands eating kettle chips', 'son s favorite dinner best best combo protein vitamin c runnier dinners great start solids protein love love love brand flavor think purchased jars far', 'deal awesome arrived halloween indicated satisfy trick treaters love quality product expensive local store s candy', 'love candy weight watchers cut craving', 'seriously tasty tasty tasty fresh br br problem pack lend wanting multiple trips cupboard helpings grabbing multiple bags begin pace saying br br t wrong fan salt vinegar classic flavor br br ounce bags double size kid s bags size ones small gas station racks s good size adult br br s somewhat healthier snack typical bag fried chips calories bag bad think br br line delicious', 'looking strong s v flavor definitely aren t mild comparison live tx tell ve tried s v chips ahold best best heb storebrand world market bob s zapp s aren t bad chip standpoint typically great kettle crunch looking s v flavor touch', 'm presently diet fresh easy neighborhood grocery looking possible diet foods wanted things tasty non fat low calories came home dozen items s discovered tillen farms pickled crispy asparagus ve liked asparagus ve enjoyed brands pickled asparagus tillen farms brand good s best recall s excellent flavor big clove garlic jar m looking forward eating t believe good asparagus tastes right says calories jar idea good diet food br br gary peterson', 've drinking tea past years usually buying box visiting large metropolitan areas middle eastern stores carry loose ahmad teas usually pound box ve considered unremarkable robust tea aroma taste beautiful reddish color good tea drink decent base mixes br tea sort freshly opened package characteristic tea smell brewed tea weak flat tasteless product anymore lot tea money quality drink lipton bags worse', 'm south live sofla southern influence gravy mix reviewing pioneer country gravy licious ve tried publix brand mc cormick ect best far chose mix water milk cooked chopped sausage links phenomenal bisquick cheese garlic bisquits like red lobster s served small watercress scrambled eggs s super easy finger lickin mmmmmmm heard potatoes veggies chicken soups add seasoning pioneer brand says homestyle american classic', 'sugar raw tm harvest cane w o burning br delivered hc s br dear sugar raw folks br br buy product care environment d like know care burn cane fields maui adds worsens climate change smoke burning damaging lungs workers workers children residents maui br br love product want change burn harvesting continue buy knowing aren t contributing global warming lung disease br br', 'love sweet right allergy free food great book hope non ingredients contains corn thats dont appreciate fact opened new box cut size charge effect decision buying toddler need real size bar', 'amazed quickly arrived cute stocking stuffer ok far user appeal pay', 've bought local supermarket enjoyed salty leave tongue roof mouth burning keeps eating occasionally stale items amazon com unedible beware quality food items website special close dates case expired stale unedible', 'kettle chips thicker crunchier greasier times chips honey dijon flavor great t overwhelming salty taste cheaper chips oz size great adult size snack', 'sooooo deliscious bad ate em fast gained pds fault', 'pros br packaging shipping price br sold year expiration date eat share boxes br fresh like regular wintergreen powdery form s real mint br br cons', 'product arrived labeled jumbo salted peanuts peanuts actually small sized unsalted sure error vendor intended represent product jumbo', 'enjoy flavor ordered tiny bit chocolate walnuts enjoyable flavor wonderful service ms das including hand signed coupon discount future orders samples couple caramel flavors d order chocolate walnut flavor sure das food s gourmet salt', 'day diet guided low glycemic eating months fair success amber agave nectar primary sweetener low glycemic effect blood sugar taste mellow sweetening power higher sugar use twang honey thing tried sugar making kombucha use sugar m sure good idea introduce raw element kombucha actually caution related actual chemistry circumstance br br primary uses sweetening yogurt little baking use salad dressings fruit desserts limiting sweets consumption t use lot s nice need plan try homemade jams later season buy subscription cost local walmart health food store brand best date bottles received', 'nuts arrived fresh tasty broken dirty looking like cashews', 'tried despite review exactly tea buy russian italian groceries', 'love product best natural sweetener tried tried use pancake syrup substitute honey peanut butter honey sandwich long time good value', 'flavorful taste seasoning falls chips sinks bag bad liked idea healthier potato chip buy', 'halloween sent bag daughters class share chocolate fresh enjoyed', 'awesome dog food given boston severe reactions food ingredients itching increased violent jumping bed night scratching soon changed different formula scratching stopped glad natural balance choices guess try s best pet', 'great gift ages purchased giant canes recipients loved kept eat', 'defintely tasty madhouse munchies family s favorite kettle s dark burnt broken bits taste greasy oily light crunch oh', 'rarely eat chips saw tried amazing love cheddar chips crunch delicious flavor recommend', 'love kettle chips lightly salted t feel guilty eating buy foods buying amazon saved money purchased times happy chips delivery', 'expiration date smashed stale edible real enjoyable price paid best pretzel s br purchased publix stopped carrying addiction', 'honeyville rolled oats delicious product product designed increase enrich milk production lactating mothers br oats shipped timely fashion amazing thing paid shipping lbs oats encourage likes oats order honeyville rolled oats flavor rest', 'tasty convenient bars people celiac disease gotten smaller time taste convenience outweigh reduction size price', 'worst bottle wine ve m sure cook body transparent color characteristic good pinot taste bitter complexity expect pinot noir price m looking low mid price pinot noir maybe bottle wasn t sealed went vinegar reviews wine favorable', 'like eating need energy boost br searching snack br fiber plus chocolate bad thing', 'purchased low salt low salt chips bag literally dripping oil encountered problem potato chip brands unappetizing wants oil buy recommend', 'love product locally little way stores love chicken pork chop bags store look lastplace meat market', 'best chips eaten came visited costplus world market store opelika al tiger town mall wasn t big fan dijon flavored decided chips try hooked probably ended buying dozen bags months time searched alabama northwestern state later tried world market hoover patton creek shopping center carry flavor learned available amazon com available prime shipping bought soon read kettle chips honey dijon ounce bags pack br br pretty big box filled bags delicious morsels order soon suggest buy bulk form enjoy won t disappointed great hamburgers hot dogs perfect spring coming summer s outdoor activities cook outs br br word chips hidden gem lost world snack foods buy today fall love like', 'use raw sugar little smaller normal crystals good buy', 'worth money calculations different bags dollar excellent value approx pops box far ve half box wrappers s pretty good considering need lbs dum dums product enjoy', 'green mountain favorite brand nantucket favorite coffee green mountain smooth flavor strong weak', 'love convenience singles best creamer taste like big bottle stick purse work', 'ridiculous best gourmet ketchup tasted pricey wow love stuff great gift hard buy loves ketchup yummy', 've heard safcol brand tired trying typical pouches starkist chicken sea surprised thought bit better brands seasoning', 'baby loved progressed cut runny spoon quickly way grabby hands think use little water maybe little potato consistency turkey dinner', 'best potato chips ve best price ve paid service respectable shipping free', 'agave nectar months staple home madhava agave nectar good tasting good buy', 't know got broken received came wrapped plastic bubble wrap single jar broken son loves price great issues', 'best potato chips money buy salt taste masks lingering potatoey awesomeness ve wolfed bag beauties chip perfect thickness teeth excited time mouth chips perfect s like god delivered gabriel know amazon carries t leave house buy eat', 'makes tasty super easy meal fast high calories br br instructions saute veggies recommend cooking chicken chicken takes longer cook raw chicken ontop veggies makes slimy mess snow peas carrots dont like little corn added red pepper flakes heat served ontop rice came wonderful dinner table mins', 'month month son barely ate solid food picky tried different flavor brands baby food d actually finish jar t expect like green vegetable scent guessed wrong br month old pretty healthy eater current favorite tofu loves corn zucchini brown rice carrot ingredients highly recommend try baby food br br earth s best makes best baby foods toddler foods fabulous son t like snacks gerber brand likes products earth s best foods taste great adult good', 'dinner friends family saloon rte entertainment complex sanford fl having awesome staff ask keith fabulous food escargot serve china mist tea st time chose tropical organic green doubt best flavored tea', 'strongest tasting salt vinegar chips ve vinegar flavor think close m going dousing vinegar powder br br cape cod salt vinegar twice flavorful additionally reviewers said good bit potassium neighbor rda serving', 'originally produced england best chips tasted unfortunately bought conglomerate taste plain nasty hard crispy thinner lacking flavour real shame', 'fast great service cavashon loves low fat dog food thanks arrived great condition thank thank thank', 'product strong taste crayola crayons br br process trying different brands coconut oils cooking purposes opening plastic container aroma crayons immediately fills room flavor permeates food cooked br br suspect source problem plastic plastic container experienced brands purchased br br date favorite coconut oil distributed barleans flavor fantastic supply gallon sized tub dr mercola best product size category', 'possible product zero stars huge fan twinings teas excited try new blend arriving home grocery immediately started kettle enjoy cup prepping dinner sorting washing chopping items hot water added bag steep preparation continued distinctly odor hit thought ingredients rancid hunted minutes realized tea cleaning airing kitchen roommate later came asked smell save money purchase twinings product', 'chocolate great variety family loves family goes fast perfect variety kit kat reeses', 'reason amazon ship alaska sent grandchildren got enjoy good chips amazon rethink shipping alaska thing order groceries online', 'product high quality rich flavor br br delivery unexpectedly fast br br negative like addressed product packed heavy paper sack commonplace significant improvement inner liner heavy weight food grade plastic bag sealed time open bag zip lock bag twist tie closure t difference need practical way preserve freshness product bugs br br health spoilage issue s oatmeal lot product needs repackaged consumer small food grade bags containers expensive hard single senior likes buy staple goods bulk save money provide food security long term storage big issue people like br br thom missouri', 'chips tangy hoped expected poore brothers better choice hard core salt n vinegar fans', 'sugar good use coffee cereal week ll white sugar white sugar taste terrible plus ve read raw sugar contains lot minerals missing diets br br product delivered fast packaged complaint price wish raw sugar cheaper happy buy bulk cheapest', 'drinking royal king natural organic green tea tea bags x g day tea years buy boxes time save shipping years drink coffee morning till night finally realized drinking coffee healthy finally resolved improve health stopped drinking coffee tried alternative drinks replace coffee habit green tea good tasting health benefits green tea drinks actually makes healthier coffe drinks healthier drink quality cold water opinion price royal king natural organic green tea best tasting teas green tea beautiful golden color taste bright fresh recommend adding tiny y s organic bee farms raw honey tea add sweetness health benefits treat having expense tea tribute xi hu long jing fantastic tea practical drink day tea afford br br cons latest shipment package shown amazon page different shipped shipped displays naturally high polyphenol catechins key contributive element possible health effects tea amazon package displays caffene free sure green tea caffene free tea bag rips open unwrap string tea bag string stuck tea bag bag hot water unstick', 'recently purchased sale local grocery store know sale br br fluffy creamy white frosting d expect opening jar wasn t expecting like betty crocker pretty bad like said gluey tacky mess completely ruin cake tried spread reminds taffy hasn t hit right stage candy making process taste isn t great s sickeningly sweet frosting thing frosting cinnamon buns t think right consistency', 'looking great gluten free snack won t sorry chose product favorite flavor apple nut', 'sent week past fresh date stock chips noticeably fresh taste won t order br br edit add dangers expired stock bags rat hole black marks inside hole obviously rat unfortunately chip mouth saw hole br br bad form amazon', 'glad mix pancakes eggs son allergy br taste fine family like ways', 'bought grocery outlet seattle tacoma case tweleve paying yes dollar like taste great bad low calorie buy whacked price', 'easy project family fun anytime christmas icing cookies stack ice outside decorate great ages strawberry licorice rope looks like stuck end unwind br br caution small hard candy decorations swallowing hazard br br comes need bowls spoons br contains br cookie pieces br large bag yellow colored icing east mix fork add water slowly br small white icing bag add water slowly br green color add small white br clear decorator br plastic decorator tips save reuse br small bead candy decoration chokign hazard br strawberry licorice rope br small tube orange writing icing br hard candy wreath decoration diameter br gummy spongebob tall br gummy patrick tall br br icing set hard eat pried apart pieces cookies little softer middle br br anytime year leave wreat patrick cut spongebob s head look like chirstmas', 'bought office m ordering today weeks t shop amazon brought door', 'terrible artificial lemon taste like pledge lemon furniture polish t use plain flake salt fresh grated lemon zest', 'lifetime tea drinking honestly best earl grey tasted ordered number times batch consistently excellent given gift container superb keeping loose tea fresh metal canister inner lid lifted attached knob tea stays dry fresh length time takes use favor like earl grey treat tea', 'order arrived advertised chances use awesome flavor exactly hoped finish entire gallon definnantly order', 'agree review chips sore mouth tender gums chips hard taste delightful enjoy salt vinegar combo unfortunately bag received case cooked dark golden brown chips bag definitely need improve', 'drive otr road truck helps alert sugar high crash m autoship like price good ve seen bucks store', 'use frequently like asian dishes week love product fast shipping usual buy', 't bad sugar raw like better natural sugars better consistency know t matter better color unfortunately natural paper bags got torn bit box t look like box damaged t tell happened sort pain clean half bag spilled inside box kitchen opened sure solution d order happens d switch brands ship unnatural plastic bag', 'month old baby loves earth s best nd sweet potato chicken dinner s favorite love earth s best nd foods fruits vegetables dinners consistency food makes easy eat', 'triplets eat eventhe eat consistency way runny stay spoon', 'little spicy stuff rocks use v milder version best bloody caesar br half mix half clamato', 'son sb fanatic excited holiday season year version gingerbread knew reading reviews wouldn t yellow frosting whipped edible glue water confectionery sugar hold levels gingerbread pineapple save yellow frosting outside worked great fun idea enjoyed creating licorice worthless', 'love cherrybrook kitchen tried products excited try ready spread frosting usually needed ingredients hand box frosting picky eater especially item contains sugar horrible consistency absolutely like regular canned frosting light fluffy gooey imagine trying spread cake rip pieces gooey try cake taste texture putting seriously waste money', 'new york cheddar flavor favorite kettle brand potato chips flavorful crunchy mouth happy unfortunately opposite backside t mom eat entire bag stomach spend afternoon bathroom br br stars br br online price amazon better ve seen combined amazon prime ll getting great deal chips', 'aunt gave bag immediately addicted actual pieces beans chips overly salty like chips love zip agreed awesome salsa trans fat', 'watered perversion acai berry br br juice comes strong harsh tart aftertaste texture br br s apple juice grape juice pomegranate juice blackberry juice blueberry juice tart cherry juice oh yeah acai berry juice mixed concoction br br shall distinctive smooth chocolaty acai flavor milky mouth pleasing texture exotic unique acai experience try zola samzon brands br br m saying lakewood juice product isn t nutritious s point m saying s juice blend taste like real acai juice', 'coffee good s special buy s nice mellow blend favorite daily coffee nabob shipped canada order canadian company s taking long time delivered haven t gotten br br reason stars quality coffee fact description product mention fact kona coffee actually kona look carefully photo disc information s legal disclaimer saying product match exactly description s fault reading carefully happy thought kona wasn t careful ve bought kona local store know product tassimo discs read product title ordered br br said coffee tastes good coffee usual small cups european coffees extra large size recommend coffee aware blended coffee kona t expect come flash amazon prime delivered', 'use product daily provides steady stream energy jittery crash helps practice portion control acts slight appetite suppressant', 'm addicted salty tangy flavors opened bag sea salt vinegar kettle brand chips knew perfect complement vegetable trays cucumber carrot celery cherry tomatoes skip dip balance tangy chips alternating bites raw vegetable br br oregonian m proud share delectable snacks friends especially living outside state haven t experienced gourmet chips tell kettle brand potato chips microbrews beer br br kettle brand potato chips unmistakable light gold color rich flavor amazing crunch kettle brand chips healthier snacking option major chip brands kettle brand chips t trans fats msg artificial flavors colorings company line organic potato chips products certified kosher br br recommend href http www amazon com gp product b g mbv kettle chips honey dijon href http www amazon com gp product b g q gm kettle chips spicy thai br br annette solomon reporter salem statesman journal recently noted glass wine goes nicely chips solomon wrote missing wonderful pairing chips spicy want select semi sweet white wine moderate acid subdue strong flavors ginger lime garlic cilantro powering classically german style riesling fits parameters perfectly', 'shriveled ones taste fine use vegan sauces recipes running food processor t look perfect anyways price great deal half store', 'great stuff tasty banana bread good quality lowest price town', 'friend d drinking tea years introduced tea months ago took store bought pound lb retail store little shipping online merchant think s great ve drinking earl grey english breakfast irish breakfast lapsang souchong assam lb shipping aside lapsang souchong think great replacement rest m looking strong bodied black tea character boring current favorite afternoon tea extremely jaded tea snob ll love', 'barbeque flavor chips perfect spicy hint sweetness little smokey chips extra crunchy substantial hard makes wonderful snack great accompaniment burgers hot dogs brats chicken casual entree', 'kettle chis best favorite flavor tried salt pepper kind m sure personal preference br br crunchy real potato chips', 'celiac disease product lifesaver better getting half price grocery health food store love mccann s instant oatmeal flavors br br thanks br abby', 'kind tea good taste smell wear s like tea feel like thing chemical', 'looking exotic tea drinking experience like white jasmine tea numi s flower jewel worth look size gum ball jewels slowly open water form flower shape central amaranth flower meant decorative glass teapot preparing tea br br decorative mean tasteless white tea flavor mild rich soothing jasmine wonderful overpower tea stronger jasmine teas balanced tasty small glass pot preparing able yummy infusions jewel flavor scent began fade white tea tips plentiful high quality t bitter seeped long periods br br deduct points high price tea ratio fragility flower jewels pouring hot water directly cause pieces fall rd th infusion flower starts fall apart fair main flower shape remains fairly intact come box starting missing central flower bits leaf better packaging solve br br want tea experience looks good tastes smells entertaining want conversation piece numi tea flower jewel short list', 'trying brands cheaper brands stupid ginger soooo worth money tender moist let', 'purchased gift mother lightning deal happy loved basket enjoyed cookies flavors tea included shipped quick arrived expected', 'quality product weren t nearly consistency soup makes mess matter careful try', 'love chips family hooked chips eat', 'great service items arrived faster expected efficient use seller highly recommend seller thank excellent service', 'chips tasty price right packaged buy', 'lived yrs miss twizzlers visit visits stock yum br sell mexico faithful buyer m able buy right', 'course know delicious ghirardelli chocolate unfortunately purchased gift bags online local store half price lesson learned', 'perfect size sea salt table picnic basket love shakes clumping flows freely', 'low glycemic index diet help control blood sugar hormone levels nutritionist recommended agave nectar sweetener s gi index low s opposed honey low s sugar mid s ve tried supermarkets health food stores wholesale clubs prices usually oz bottle ish x oz s like honey substitute c c sugar reduce liquids th br br use carrot cake recipe equal substitution instead sugar substitute wheat flour instead white flour t decrease liquids s delicious d know s s actually good', 'great chips great price odds like fish chips soaked malt vinegar love best salt vinegar chips love flavor mind spectacular deli sandwiches s v palatable intelligent species know afternoon snack course run heavy brained hearty breathed like mind summary like taste bitter sweet salty vinegar crispy chip boot wont pucker sight handily bagged morsels time committed case chips mmmmm vinegar', 'favorite aren t everybody way sort taste like oriental flavor ramen kick wrong combination jalapeno ginger bit rich aren t everydayforamonth snacking case purchase recommend trying single bag buying entire case oz size longer available shame eat entire oz bag', 'chips great bags bag noticed remaining bags damaged holes bag black sticky stains outside reviewers bought time claiming rodent holes bags chips br br chips came sealed kettle box s hard screwed screwed chips health hazard holes bag s like game roulette', 'like creme brulee loved easy sprinkle sugar came broil look amazing taste great guess thought went way took minutes ordering', 've tried variety ahmad tea particularly like brand easier come imperial blend believe complex balanced ones ve tried s body like good cup assam means overpower delightful clean taste darjeerling complete long lasting note bergamot enjoy best evening gives satisfying relaxing finish busy day br br interested specifics use teaspoons lose tea stainless steel infuser oz mug let steep f water min infuser drink sugar milk savor sophistication', 'best marinade buy far concerned course tastes think like stars', 'chips right crunch enjoy taste chips consistent fairly distribution seasoning like oz size bags right chips', 't buy order case t remember time tasted anchovy stuffed olive tried brands online brand favorite', 'absolutely love habenaro sauce use eggs sandwiches good kick watched progessing popularity theis homegrown product highes accolades chef product try', 'potato chips excellent trans fats br br taste absolutely delicious mood potatoe chips kettles brand buy br br great product enjoy highly recommend br br enjoy', 'time tried sea salt vinegar chips taste sure like salt vinegar ordering suprise tried ll stick salt black pepper chips', 'subscribed case months comes month convenience having favorite chips handy want frito lay managed crowd chip vendor pretty local stores best way ensure steady supply items want items frito lay wants ounce bags larger buying subway example works large good snack share single bag lunch size perfect ensuring fantastically crunchy chips fresh chip clip needed br br problem subscribed cases year having yummy chips pantry makes easy increase ones kettle chip consumption definitely hide case kids', 'favorite home like ones sea salt like barbeque flavored ruffly chips ridges thickly cut plain slice potatoes crunchy great texture mouth great taste sea salt ones favorite salt salt feel like drink gallon water chips br br enjoy', 'liked getting twin month olds interesting ingredients particularly zucchini garbanzo beans like fact s vegetarian believe complete protein brown rice list ingredients looks excellent s green color naturally br br babies liked liked carrots br br subscription like ingredients fact m giving babies food naturally green br br ingredients label water organic corn organic zucchini organic green beans organic brown rice organic carrots organic garbanzo beans organic canola oil br br calories protein vitamin vitamin c calcium iron ve informed percentage daily needs met based adult', 'great serving chocolate liquor adds touch class event elevates host supreme able eat cup icing cake', 't know s cactus tequila unique combination ingredients flavour hot sauce makes kind picked bottle trip brought home totally blown away realized simply couldn t city bummed br br magic internet case sauce ecstatic br br love hot sauce mean love hot sauce t want sauce tastelessly burns throat grab bottle tequila picante gourmet inclan realize taste want use sauce br br thank personal incredible service', 'kettle brand chips crunchy regular plain old lays potato chips soft end soft crunchy spectrum ruffles brand potato chips considered crunchiest kettle brand chips far crunchy tender mouth bad teeth dentures want steer clear kettle brand ll love chips sea salt vinegar chips super tangy enjoy taking swigs vinegar bottles time time dissapointed salt vinegar chips chips soft vinegar taste whimpy chemically rest assured kettle sea salt vinegar gourmet flavor vinegar flavor chemical flavor called whimpy', 'brand coffee available local stores time ve believe company local ve drinking time tired m particularly fond turtle sundae flavors good t ve bad br br turns s expensive order amazon door run local walmart s brainer try like rich flavored coffee ll like', 'salty like regular supermarket chips snack overwhelm guilt gotta chips kettle chips lightly salted chips ve searching br br s cholesterol trans fats artificial manufacturing process actually kind home quality br br excellent product', 'soy sauce best thanks amazon able makes big difference product thanks', 'wow eaten potato chips day kettle chips best non baked chips eaten decided try sweet onion chips ve favorite like onions buy definitely reorder mentioned best eaten flavor great', 'son multiple food allergies enjoys bars good berry taste nice chewyness', 'refer picture posted bar half size think going literally bite bar deceptive advertising fact ridiculously expensive reason star year old son ate t like ate agreed husband couldn t away different tastes tasty treat far m concerned', 'chips ones tasty healthy fewer fat calories plus higher fiber want good taste nutrition perfect blend', 'love love love deal s way fun pick teas chocolates ciders coffees outfits assemble samplers boring choosing narrower range sellers nice answer questions email slightly confusing ordering method s easy want great packaging forget ship fast kups tossed loose box cares', 'like vernor s drink time old fashioned drink michigan labeling known lovely green gold colors gnome character look actually called ginger soda instead ale different typical ginger ale taste vernors strong vanilla presence smoother moist sweeter ginger ale closer cream soda ginger ale good ginger ale dry higher carbonation spicier bite vernors grams sugar versus grams schweppes ginger ale caffeine br br recipe changed bit years choice sweeteners use high fructose corn syrup cost cutting mega soda companies use cane sugar use corn syrup syrup drowns flavors microbrews cane sugar costs better taste vernor s aged oak barrels years doubt accounting smoothness great soda anytime soda known like ginger drinks use home remedy upset stomach br vernor s regional soda areas country t sells selling glass bottles soon page says day writing comment search amazon asin b jk seg mean vernors history books amazon soda vernor s ginger ale images america michigan isbn second book vernor s story gnomes isbn book company s marketing green gold packaging famous gnome vernor s fans', 'getting worried read reviews specifically star reviews faults reviewers merchandise prevent buying br br wow sure hate kettle chips backyard barbecue ounce bags pack bought ounce bags liked lot decided subscribe good measure got orders ounce bags br br yes love potato chips especially kettle chips backyard barbecue flavour hate hate changed br realized talking flavours amazon s deep wisdom obviously seen fit comments concerning flavours kettle brands potato chips br br course advantages potato chip lovers like enjoy eating flavour brand varieties comparisons easily potato chip lovers person favourite flavour reviewing sort united nations potato chip lovers different united love potato chips rest world benefit example tightly knit er expanding group think realizing br different flavour reviews cause little confusion dismay begin amazon mentioned kettle potato chip review forum br br happy report kettle chips backyard barbeque flavour totally delicious ounce bags hopefully product ounce bags taste definitely chips adults children stronger adult taste buds withstand strong flavour chips strongest flavour jalapeno pepper chip far strong br backyard barbeque chips kettle right sweetness honey powder onion sugar edge stonger flavours br paprika chili pepper cayenne pepper natural smoke flavour come list ingredients sweeteners br br complete list ingredients kettle backyard barbecue chips ounce bags hopefully ounce bags follows br br potatoes br vegetable oil safflower sunflower oil br honey powder dried cane sugar honey br rice powder br sugar br salt br onion powder br tomato powder br paprika br torula yeast br garlic powder br chili pepper br citric acid br cayenne pepper br paprika oleoresin colour br natural smoke flavour br br naturally cooked natural ingredients combination true taste treat br br course ptato chips moderation key br potatoes contain lot potassium gives energy othr good things damage kindneys vegetable oil great oil starch potatoes hurt eyes natural smoke flavour yummy sugar large amounts linked cancer production br br far starch potatoes oil br ameliorated bit drinking tea good eyes far potassium energy good bad kidneys sugar natural smoke flavour leading cancer production thing good m o d e r t o n br br twice times month allow potato chip diet eat large bag equivalent small ones potato chips day supplement tea coffee lemonade servings carnation instant breakfast essentials like dark chocolate flavour adds fewer calories normally eat normal meals day plus snacks teaches eat s l o w l y big bag little bags lasts long d like excercise sensible eating rest month keeping scale nearby weighing twice day day ve taken pounds months br br backyard barbeque flavour potato chips kettle br totally scrumptious jalapino chips tasted good far spicy taste buds meet potato chip t like eat kettle backyard barbeque flavour potato chips combination potatoes sweetness spices truly favourites favourite br br flavoured potato perfection', 'best unsalted chips tried best potato flavor came said', 'service great meant buy swiss chalet chicken sauce marinade br br love sauce try marinade', 'fan kettle chips open bag kettle chips know going quality chips exception live printed package br br new york cheddar chips subtle flavor taste cheddar t smack face like supermarket brand chips taste lingers definite plus br br aspect kettle chips fact chip nice crisp crunch mouth burnt chips bags purchase negative flavoring chips uneven chips pack nice cheddar punch taste plain isn t big flaw happens getting seasoned t ruin bag br br overall quality chips fantastic flavor great wont disappointed especially cheddar lover', 'wonderful warm flavored tea especially colder weather br tea sweet soothing chamomile fragrance subtle sweet s better chamomile teas br hard sleep times cup sweet chamomile tea help br like sweet taste try bigelow chamomile mango herbal tea br highly recommend', 'good wish baked baked salt potato chips wish post', 'tomatoes star classic flavor clean fresh perfect avocado chicken sandwich br br spicy flavor complex best ketchup tried good foods crazy', 'tasted sassafras tea local restaurant liked started looking grocery stores online teabag form weeks investigation called restaurant asked tea told pappy s sassafras concentrate looked online amazon com ordering saw sassafras teabags thought d order box try dissapointed t taste like flat rootbeer expecting like black licorice hate mild rootbeer undertone t distinctive red color steeping sassafras root br br ve real sassafras tea root t know teabags like real thing line won t buy teabags', 'baby loves rice lentil favorite things eat going won t able warm food eat cold', 'terrible believe received item single bag opened m stationed afghanistan gonna snack team going missions embarrassed bags opened spilt box gross box filled grease stains idk airplane ride way box insulated bubble wrap instead paper m unhappy stale crusty chips bag soldiers enjoy', 'nice case chips tasty definitely enjoy kettle sea salt black pepper wish bigger bags', 'hadn t tried heard till recently weavers s favorite running list types looking favorite haven t darned smooth bite taste little pricy worth worse price wise starbucks peets running list happens love far', 'product says gave stars issues product family members t smell taste horrible lotion cream rubbed skin weeks ago ve changed sheets scent bed ultimately stopped smell way like smells like indian spice t work scent wise work fine', 'bought january got reviewing heard people rave japanese snack called pocky figured try like description states biscuit stick covered chocolate wouldn t taste mind boggling easy eat virtually mess long chocolate t melt anyways case wondering ordered seller named asia amazon com gp help seller glance html utf isamazonfulfilled orderid marketplaceseller seller jw sei believe took weeks actually maybe imported came packed damaged whatsoever m definitely considering stocking future t local store br br edit oct br br inquire type pocky seller finalizing purchase br br decided restock couldn t fight craving anymore unfortunately batch time good ordered different seller cheaper amazon prime received picture shown page pack japanese pocky pack pocky ish thing thailand opinion giant pack compared smaller packs definitely step packaging fine ordered october weather bit cooler aka melted chocolate arriving door sticks coated type chocolate bit bitter taste similar dark chocolate milk chocolate original japanese pocky melted immediately mouth melts slowly sits mouth br br personally like taste dark chocolate pocky flavor terrible self control buy things come small portions order eat b avoid making fridge mess cluttering tons opened items honestly won t overeating comes batch pocky stomach dislike won t change original rating holds true japanese pocky rate thailand pocky taste isn t terrible definitely liking possible uploading pictures received', 'received items timely manner receipt removed pack consume pop tart stale left awful taste mouth', 'heard great things sassafras wanted try worried taste turned lot better anticipated m actually gonna order pack continue drinking time t trust fda', 'cats youngest years old oldest ancient vet told years ago youngest blob lays looks like footstool arthritic skinny br br success canidae platinum senior dogs figured d try cats d low ash purina urinary tract formula entire lives thankfully ut problems br br buster youngest blob months plus felidae senior overweight cats active tell feeling better changed food felidae prissy ancient started play tease dogs getting chase purina wanted sleep br br think cat fairly early weight problems ll effective br br glucosamine certainly help older fur balls happier life', 'hesitant buy local grocery store lunds sale bought bag ve going simply flavored chips like cheddar vinegar usually results disappointment tried thai asian inspired chips target archer farms awful kettle spicy thai chips awesome m considering buying bulk amazon taste complicated stimulates different parts palate taste sensations prevalent real thai food baked chip sweet salty spicy sour t know balanced chip addicting', 'discover mix amazon bought food store br like mix pancakes came delicious fluffy br small secret try add seltzer water instead regular', 'great food love idea food ages breeds t s real convenience good product dogs eat gas poop regular perfect consistency mom ask', 'tangy prevents eating handful trick crisp savory', 'confection centuries light pillowy citrus gelatin nuts case filberts cut tiny squares liberally coated powdered sugar tiny mouthful heaven chewy flavorful highly recommend yummy treat familiar story c s lewis lion witch wardrobe treat seduces edmund selling brother sisters witch', 'usually baby s food s easy steam fruits veggies puree t time cook buy earth s best baby foods baby likes fruits veggies far t like refused eat tried understood wouldn t eat tastes nasty poor baby immediately homemade potato zucchini asparagus puree loved wouldn t recommend flavor', 'son loves best earth s baby food favorite vegetable turkey smiles mouthful br br recommend product looking healthy feeding organic way food feed son earth s best', 't think coffee bags good fresh ground fresh brewed coffee taste far better instant coffee work water cooler hot water dispenser brewed hot water like tea bag making tea tastes far better instant coffee highly recommend coffee lover access hot water t access coffee maker individual wrapped sealed bags allow tiny tea like bag pocket purse early morning meetings', 'cats thrive extremely dry cat food definitely hair ball throw ups fur great fit weight vendor ships extremely fast amazon suppliers book', 'seriously product tasteless come better tasting products calories better special k bar cookie snack pack season combine share flavor', 'little baby picky eat watery mind reviewing baby food objective children different hope letting know consistency texture help', 'pretty pleased mushrooms large pieces hydrated good flavor d estimate contents broken medium small pieces likely shaking transit problem break large pieces smaller ones recipes small ounce small minced size dust like pieces useful add gravies like gets wasted br br label says product china italy specified proportion country br br m fond dried mushrooms lack texture fresh ones convenience having hand big plus additionally broth hydrate adds wonderful flavor soups stews save time add flavor add dried mushrooms directly soup stew hydrating helps meld flavors fond adding cooking water boiling pasta pasta picks wonderful earthy flavor cooks mushroom infused water br br time roland brand got price dip amazon warehouse certainly buy highly recommend', 'got kids christmas stocking stuffers love far delivery product came good condition timely terrific definitely good buy', 'think favorite cookies light creamy bad longer count t think need', 'hardly write reviews tea excellent decided try sweetener added taste enhancers flavorful overpowering great pleasure fine tea like loose reasonably priced try continued drink comes leaves soaked premium tea', 'buy vending size bag important kettle s oz bag good size bit salt vinegar flavor satisfying', 'loved chips chips buy discovered england quickly fan year ago picked bag sale local supermarket finding odd sale took advantage opening bag chips close kettle chips uniform whitish yellow color flavor way lovely extra crisp brown chips gone completely disappointed e mailed kettle following happened bought bag chips day different taste tastes cheaper t know noticed chips cooked browner colored chips flavor hoping changed ingredients process produce product weird batch buying kettle chips years wondering receive reply thanks letting know experience kettle brand chips sounds like received bag slipped inspections apologize potatoes vary seasonally account variation color chips taste great thanks providing best code bag helps passing comments staff br sending coupons replace purchase kettle brand flavors nut butters believing great experience purchase case buy product suggest avoiding best date rare instance bag case slipped inspections time br thanks letting know expect coupons arrive weeks let know help bag good time picked bags chips like bad bag pretty sure changed product reduce cost research kettle bought private equity company cookie cutter management processes probably employed kettle acquire company high quality brand recognition sell product mass merchants lower quality cost product increase margin finally sell company customer base starts realize brand longer quality brand increased profits company valuable paper nice profit investors customer employees lose course unsuspecting buyer exploited brand stay away kettle chips longer', 'm addicted salty tangy flavors opened bag sea salt vinegar kettle brand chips knew perfect complement vegetable trays cucumber carrot celery cherry tomatoes skip dip balance tangy chips alternating bites raw vegetable br br oregonian m proud share delectable snacks friends especially living outside state haven t experienced gourmet chips tell kettle brand potato chips microbrews beer br br kettle brand potato chips unmistakable light gold color rich flavor amazing crunch kettle brand chips healthier snacking option major chip brands kettle brand chips t trans fats msg artificial flavors colorings company line organic potato chips products certified kosher br br recommend href http www amazon com gp product b g mbv kettle chips honey dijon href http www amazon com gp product b g q gm kettle chips spicy thai br br annette solomon reporter salem statesman journal recently noted glass wine goes nicely chips solomon wrote missing wonderful pairing chips spicy want select semi sweet white wine moderate acid subdue strong flavors ginger lime garlic cilantro powering classically german style riesling fits parameters perfectly', 'twin girls loved vegetable turkey dinner favorite baby foods great price', 'fresh scent taste easy eat tin hours use favors loved', 'try like addicted easy prepare tastes great absorbs flavors cook price good worth purchase like type couscous like try eaten hot room temp cold salad variety greens flavors takes flavors mixed cooked couscous broth oilive oil added flavor rocked taste buds big time', 'man salsa bomb different kinds meal owner cool dude s dropped free bottles mailbox stole bottle friends fridge tasted hooked dont sleep hot sauce', 'bought year old cocker dogs love coats look better shed eat use bathroom cocker chronic ear time puppy gave problems cleared smell eyes problems yr old yorkie eats throw time sensitive tummy black lab mix hot spots lick fur great changes matter month mix roughly naturals dog food blend great br br sept br love breed specific food went place bi monthly order shocked price hike month paid br aug lb bag sept th price difference price huge considering assuming price gouge speculation crops look local vet product large bag petco discounts offer order larger bag ask', 'looking natural energy shot works steaz energy shot favorite br br recently gastric bypass surgery tons sugar m allergic sucralose splenda energy drinks br br tried bazi energy shots t work steaz definitely t taste taste s like coca cola bad br br looking natural energy try', 've tried conventional kettle crinkle chip verson salt peper t compare easily spicy chips eat oompletely enjoyable finish bag indside coated spices great stuff', 'buy wholesome sweetners agave like little better switched expensive cheeper option taste little sweet use right sweetness coffee t like container t pour pour better squeeze bottle t sticky mess counter day s fine price continue shipped month', 'feels strange review chips compelled absolute favorite chips kettle lots flavors regular lightly salted br br thicker greasy bag plus looked burned actually burned sugar potato makes dark love open bag browned chips br br lays wise place ve chip snob thanks kettle br br like edy s breyer s ice cream products worth money best best', 'sauce good like adding asian food egg noodles good burn strong flavor im hoping flavors like pineapple experiment soon buy wont regret', 'best investment ve ginger s unbelievable s fibrous like real ginger spicy kick s perfect sugar calms s worth lbs ll getting soon use topper ginger cupcakes cookies', 'coffee s available tassimo kona richest flavor fantastic aroma br far favorite', 'imagine taking kids playground chalk tan colored grinding powder plenty chunks scoop mouth br br s disgusting bar br br idea rating flavorful ve nutritional coaching years watched healthy foods progress painfully bad barely edible excellent br br neanderthal era gluten free bar bad want local grocery store boxes shelf hide different store s trash compactor protect people experience daughter product br br save money ridiculously expensive spend br br enjoy life bars ill better putting garbage mouth', 'husband kind wimpy comes hot things seasoning bit spicy definitely makes sweat bit eating edible adding good sized dollop sour cream t think buy heat prefer milder mccormick s brand fajita mix ve fajitas couple different restaurants wasn t spicy mix br br like super spicy burning hot want mind medium hot br br gave stars pretty easy s versatile vary veggies plastic bag couple tbs vegetable oil cup water mix seasoning water oil add chicken strips bag let marinate minutes meantime says stir fry veggies peppers onion easier cook chicken veggies t think affected quality taste extra virgin olive oil vegetable oil br br package use time m going add veggies maybe chopped tomato cut heat bit', 'title says great flavor hint spice excellent crunch eat kettle chips truck load house like flavors far away favorite bags shipment wish amazon larger bags subscribe save buy sure', 'good oatmeal like apple cinnamon best wouldn t follow directions package comes soupy taste like oatmeal add milk', 'worst chips gone mouth br br entire life sour cream onion case chive chips favorite recently kettle brand honey dijon mustard took slot sour cream onion try br br soon opened bag chips smelled powdered milk chip coated powdered sour cream awful tastes like rancid milk sour like sour cream rancid powdery texture extremely unappealing basically hated chips recommend chips particular affinity powdery chalky texture chip rancid onion flavor hard time believing person exists br br plan contacting kettle sharing thoughts hopefully ll reassess seasoning wonderful kettle style chips', 'm new food allergies mo son diagnosed severe fa s breastfed drastically alter diet br br learning brand stuck eating chicken breasts potatoes meal stumbled local foods excited try br br overall like s got pretty good texture taste heft s dense want gag bites light eat box isn t big br br know alot people complain size packaging agree somewhat bar ounce calories par breakfast bars like berry flavor best s closest real non fa specialty flavor overally m grateful bars tote diaper bag car know need quick snack won t left stranded', 'chocolate stick melted sticks stuck oneanother product concept good better buying supermarket directly visiting japan', 'great price excellent chip cents ounce bag bargain tasty chip ve let try impressed commented good taste ve kettle chip disappointed', 't believe wonderful chip slightly spicy taste gives chip extra punch flavor family offically addicted', 'seller nice price good reason stop ording bacause went sugar free time t watch fat product', 'bitter tasting coffee enhanced cream honey definately cup coffee oh bitter', 'fed golden retriever hated wouldn t eat gave terrible diarrhea buying s super expensive', 'm italian lived italy years buy cookies everyday breakfast italian espresso couldn t bay area s great', 'tried literally dozens teas introduced russian custom preparing drinking tea ahmad imperial blend probably favorite fact equally delicious hot iced buy packs needed amazon rapidly family loves friends homes try box love', 'awesome product ve ordered times honey like flavored lower glycemic sweetener s great coffee tea', 'expecting like cookies like chocolate chip cookies prefer soft cookie crisp ones famous amos cookies pertty turned cookies rich depth flavor comes quality ingredients chips real chocolate melt redilly mouth creating moist experience chewing truly great cookies', 'purchased read natural cure hives um hives tastes awful luckily worker loves stuff reminds grandmother gave yucky yucky stuff', 'received chips gift basket absolutely loved searched high low unable saw immediately ordered case chips light crispy flavorful good love dip chili plain try ll hooked', 'chips perfect snacking salsa texture brittle like plocky s chips br br downside spice minimal', 'twins love right start s loaded lentils ingredients introduced months old months m glad eating green couldn t eat peas tried months got eat peas later months br br favorite vegetable sweet potato ve tried sweet potato cinnamon love fruit varieties br br m glad love lentils brown rice form complete protein view ingredients shows lentils prime ingredients br br carrots ve heard babies like carrots t know like carrots haven t seen lentils brown rice local stores m glad subscription course twins forced buy bulk busy s great delivered br br packaging excellent ve ordered unbelievable number cases jars different types jar arrive broken br br ingredients label water organic apples organic carrots organic brown rice organic lentils organic canola oil br br calories protein vitamin vitamin c calcium iron br br m informed daily intake percentage based adult', 'holiday liquor cups exactly looking chocolate br delicious holds liquors', 'ok read reviews ranged splendid awful took plunge like salty tangy flavors took leap ordered case super price arrived quickly great shape sell date feb umm m middle chips ok t live love crunch color trans fat little vinegary taste lot coming kid grew eating pickled hard boiled eggs pickled pigs feet br br haven t tried deli sandwich cold mug beer improve experience', 'coffee finely processed flavor alright nescafe mount hagen better bought try probably won t slight vitaminy taste s overwhelming s bit pricey', 'yahoo deems ok suck review stuff t like taste feel assert matters taste gustibus non disputandem est br br love gum ok t taste like strawberry s delicious wonderfully smooth consistency halfway gets tired stuff squeaky br br ll forgive squeaks stuff wonderful dietetic aid obsessively chewing product filled gut odorless room air helped lose months br br t lose flavor bedpost overnight', 'good bad chips like plain potato chips d like thicker brands fresh box crunchy salty bag lot generally finish reason oily chips look transparent know mean taste oil bit overwhelming spicy chips like spice salt says t think ll buy best date bags march ordered end october', 'mistaken appears pieces bag reduced size doubtlessly appear buyer got better deal having pieces problem pieces certain size order flavor eating experience use pieces match old piece size', 'black market hot sauce wonderful husband loves habenero sauce flavorful nice kick fact love medium sauce taste yummy bit zing use meal br br like fact different levels spicyness love medium habenero kind like package thank hard work guys hard work', 'lemon juice kitchen year round powerful flavor t need zest dish add spritz water nearly day br br buy product', 'satisfied twizzler purchase shared enjoyed definitely ordering', 'pros br extremely fragrant br bodied br steeped twice br nice air tight container br organic br br cons br price br br tao tea blue flower earl grey black tea best earl grey tasted recommend br br href http www amazon com gp product b eppfgo tao tea blue flower earl grey black tea loose leaf ounce tins pack', 'year old male cat chronic urinary tract infections feed dry food combination wet food water added uri ease combination keeps uti s control switch type dry food uti gets worse cats enjoy food s expensive best solution', 'oh gosh good like people ve eating ketchup life thought hubby brought jar home tomato flavor amazing buy store ketchup', 'pretty good canned meat sausage dirty rice hamburger taco salad chicken wild rice pork stuffing turkey gave neighbor t eat meats pretty good quality large portions weren t large chunks fat gristle cans ve experienced plenty brands canned meats proportion liquids meat fair s spoonful meat rest liquid need cooked shrinks bit high fat content meat meat seasoned helpful meat flavoring mild spam like texture taste meats way better spam day brine s heavily seasoned t plan frying fat meats gave slightly rancid soury taste idea higher calories higher price stock emergency food buy reason', 'food daughter eat consistly enjoys packaging great broken having ordered times', 't eat oats funny taste kids think taste funny husband thinks ok pounds oats eat', 'wish read review purchasing gallons oil health issues reeks like chemical rubber smell smell coming black rubber gasket lid called report situation company sabrina told pay send sample tested lab unbelievable good customer service indicate pay product returned refund including shipping product faulty period order company recommend based horrible customer service lack responsibility ownership', 'taste harsh lesser grade yunnan ok drink enjoy hurry able fully enjoy tea', 'couldn t believe told relaxing beverage seriously drink getting ready nap bedtime plans drive perform activity recommended br br feel arms legs tingle relaxation short time eyes start droopy place br br love stuff', 'having strict peet s coffee lover reticent switch brands weaver s won heart taste clean strong ethos correct organic baby packaging zen appropriate caffeinated heart', 'time ate chips aruba couldn t area ct imagine joy amazon love hope continue carry prices terrific pay aruba run bag buy case amazon good job problem everybody wants steal bags case comes s ok sharing good', 'packet glaze secret making european style fresh fruit tarts pie auction church friend requested strawberry offered amazing relatively healthy fruit tarts baking base layering uncooked fresh sliced fruit pouring contents packets harden room temperature hold fruit slice tart let beauty arranged fruit ve seen glaze cheesecakes hold fruit topping place personally like cheesecake rich fruit glazed cheesecake gorgeous admit slice fruit layer cheesecake s springform pan pour glaze let set remove springform ll clear layer fruit cheesecake cherries strawberries sliced mangos nice best slices lemons gently poached sugar syrup layered cake br br use base sponge cake baked shallow form bases pate sucre kind french pastry bit like sugar cookie works fluted straight sided forms mini tarts muffin pan pre baking mold layer pie crust commercial crust works prefer pate sucre holds shape better substantial better crumb blind bake muffin tins lined pate pop fresh fruits berries great pour glaze people layer creme patisserie pastry cream like custard stabilized flour fruit happen think taste best br br baking glaze shelf ingredients vegan tapioca starch carrageenan dextrose cream tartar locust bean gum looking vegan tofu cheesecake use use fruit tarts nut crust base', 'got free order placed couldn t believe cats loved buy sure', 'chocolate covered espresso beans wonderful chocolate dark rich bean inside delightful blend flavors caffine zing', 'diappointed flavor texture mix usually like low carb things tried diappointed specific', 'tried israeli couscous number upsacale grocery stores luck decided try good ole amazon com selected product good add herbs s great dish add pasta type salad good hooked great flavor easy prepare', 'love coffee wish came ground t grinder use blender instead s worth flavored coffees ve tried flavored odor t reach coffee manages', 'sent basket father birthday said fruit fresh sweet happy healthy purchase', 'stuff works preventing cramping middle stages rides pop water bottle set flavor fine goes easy', 'bear amazon s work copy lakewood website br br nutrition facts br oz upc br br serving size oz br serving size ml br serving br calories calories fat br daily value br total fat g br saturated fat g br trans fat g br cholesterol mg br potassium mg br sodium mg br total carbohydrate g br dietary fiber g br sugars g br protein g br br omega mg omega mg omega mg vitamin vitamin c calcium iron vitamin e vitamin b thiamin vitamin b riboflavin niacin vitamin b folate magnesium zinc phosphorous vitamin k br percent daily values based calorie diet br br ingredients br certified organic juice blend organic acai organic apple organic concord grape organic grape organic pomegranate organic blackberry organic blueberry organic red tart cherry organic acerola cherry concentrate organic goji berry natural fiber organic guar xanthan carrageenan sodium alginate organic locust bean organic rose hip br br gluten free casein free gmo free br fruit juices gluten free br br br excellent lakewood juice juice s odwalla drink like smoothie s good value considering pay ingredients personal use add kombucha maximizing s longevity way ve tried best kombucha oz glass servings fruit lakewood website s tasty s sweet textured tiny bits seed reminiscent banana smoothie ingredient list somewhat confusing note acerola cherry concentrate fresh pressed acai high orac scale anti oxidants rose hips high mid high range fruit pomegranate beneficial properties anti oxidants s noteworthy fighter heart disease alzheimer s type dementia considering price goji berries like inclusion drink albeit lesser level br br btw amazon day wait shipping', 'nantucket blend coffee favorites suprised single box time ordered pack fault reading closer order price count', 'glad able site love flavor crunchy box packed inside box bags end crumbs bags survived tact', 'long story short tasty purchased number flavors brand favorite br br noted reviewer contain msg form yeast extract br br popular means hiding msg lately calling different things person finds having use caution consume process hiding plain site bothersome br br bag large half air help shipping paying premium price organic deceptive', 's spent summers italy biscotti given breakfast food mid day snack simple delicious sold good brought bags recent trip italy great amazon br br note great open bag smell contents pour glass milk dip macines milk great routine treat kids', 'love kettle brand chips disappointing little sour cream onion flavor', 'taste great berries melted order winter order cold weather enjoy flavor', 'bought pickled asparagus amish market love bite saw discount rack local safeway cleaned better ones amish market fantastic jars bonus clove garlic m going order pack m household wont waste', 'kettle brand chips good oily crunchy flavorful suspect company bought recipe changed worse better big brand chip try good health kettle style olive oil chips instead good kettle brand r p kettle brand chips', 'eat risk open bag stop good salty', 'ordered fair bit searching online ordering smaller oz bags admit bit sceptical ordered cheap idea good bad cashews br br order came pretty fast like days cashews fresh like broken pieces lb bags sealed clear tape odd turned good deal considering second pack stayed fresh till opened trick actually air tight box stay fresh longer br br negative think price went abt lb bought', 'd continue buy m moving home finger foods away glass jars shattered like flavors great textures', 'tried available t discs kona blend best regular unflavored coffees tassimo nice smooth flavor overpowering pleasant aroma personally enjoy stronger bolder bit mild goes breakfast gluten free baked goodies mildly perplexing product available tassimodirect subscription service available originally dead bats coupon happy final price', 'think tried bloody mary mixer market time sugar worst corn syrup mixer natural ingredients tasty little kick enjoy', 'introduced daughter earth s best organic turkey vegetable dinner months bit early s advanced weeks overdue loved bought kind favorite ve tried favorite', 'bags lot overcooked brown pieces felt greasy wiping fingers napkin', 't waste money kettle brand potato chips bought case case cheddar sour cream cases ended garbage', 'best spicy chips pleasure eating start sweet eat spice builds fantastic t want commit case pick bag local foods stock realize amazing got case right loving bite note brand kettle brand delicious varieties personal favorite highly recommend backyard bbq honey dijon sweet onion buffalo bleu salt pepper death valley chipotle lays aint got nothin kettle brand', 'early work work super tired middle afternoon drinking hour energy usually extra strength day worked gave jittery feeling headachy husband got try skeptical works better hour energy t jittery headache feeling br br t mind taste reminds inside fig newton mmm price ok amazon grocery store yike br br s organic feel good right s feeling good', 'href http www amazon com gp product b ell x numi organic tea chinese breakfast yunnan black tea loose leaf oz bag pack brew iced tea refrigerator half gallon tea excellent resealable bags work unopened protect large stash making easier manage subscription', 'chips crunchy absolutely love taste perfect like buy smaller bags trust large bag taste good', 'excellent lo fat lo calorie treat dogs german shorthair pointer treats favorite organic peanut butter cookies smaller dogs loves weight control like', 'previously tried matcha products generally satisfied quality price decided pure matcha green rooibos try price competitive quality pure matcha s products surpasses tried stays fresh consistent texture tastes great quality price better purchased quantity highly recommend pure matcha continue purchase', 'product annie s berkely ca usa product maintains excellent organic integrity stored recycled paperboard packaging br br manufacturers support family farms use organic milk butter yogurt product takes approximately min prepare product contains dairy wheat exposed equipment processes egg soy products br br ingredients include organic wheat shell pasta organic valley organic cheddar cheese organic cultured pasteurized milk salt non animal enzymes organic whey salt sodium phosphate br br mildly flavored wheat macaroni cheese dinner mac cheese wonderful comfort food pasta firm excellent flavor br br artificial flavors synthetics colors preservatives pasta produced antibiotics synthetic hormones persistent pesticides br br pasta simple wonderful texture servings box oz serving contains cal g fat sat g fat mg cholest mg sodium g carb g fiber g sugars g protein br br cheese envelop exactly sufficient add butter milk yogurt add wonderful rich smooth cheese flavor accompanies mac cheese add organic cheese br br cheese packet falls flat flavor contain sufficient coat pasta mac cheese packaging maintain organic integrity texture flavor', 'best flavor m addicted good far best live need anymore', 'absolutely scrumptuous husband love customer expensive ship cost shipping tartlets', 'better england t know maybe s nostalgia', 'child facorite memory drinking sassafras tea fresh sassafras granddad seen tea bag taste remember needed bags cup bags fragile great product buy plus shipping time great', 'love salt vinegar potato chips choose flavor zippy tart unpleasant chemical aftertaste like natural versions snack ounce bags right share lunch chips little greasy s ve given stars instead', 'mccann s instant irish oatmeal variety pack regular apples cinnamon maple brown sugar count boxes pack br br m fan mccann s steel cut oats thought d instant variety try hardy meal sweet great folks like post bariatric surgery need food palatable easily digestible fiber won t bloat', 'serveice delivery seller excellent product order bad taste iam sure old tastes throw right away coudl drink', 'ball worked pretty looked little beaten half fallen pieces hot water sitting bit t mind rate failure tea pretty good fairly tolerant steeped long time especially considering white tea', 'year old cocker spaniel loves food s good needs lose pounds trick glad amazon hard', 'product exactly advertised fresh unfortunately candy dish office going fast need reorder demand', 'toy typical quality expected got taken major ride shipping', 't eat chips love great buy arrived quick packed great expiration date ways away awhile enjoy great natural potato flavor love brown russet hardy flavor fit description tee', 'glad amazon carried batteries hard time finding unique size need garage door opener br great deal price', 'bought office people sweet snack s bite size s easier people grab couple pieces entire licorice stick complaint bags broke open shipping', 'span class tiny length mins br br span expiration date months day bought product tuna tomato combination delicious items order amazon month br edit added short video combination looks like br br wearing headlamps t good job focusing tuna br film t look like people view product', 'recommendation bought puppies lhasa bichon mix lhasa poodle mix continue food weaned somewhat expensive food t terribly pleased loaded stuff headed home br br let small dogs seen gas issues consistently foul gas consistently usually sitting laps know dogs br br got bag stuff purchased amazon great price got lb bag price think lb bag petco continued gas mean loved food t wrong loved d mix water like soft food gas worse think ll responsible speed chowed t blame food gluttony br br eventually switched food farting think high fat content undoubtedly necessary small puppies need diet think advised longer useful said year yeah right try dealing gas long mos age switched puppychow better granted t like humans like lot better', 't kind coffee maker work forced buy house coffee shop starbuck s street economy wants pay high prices started coffee club buy coffee bags separate creamer enjoy fresh hot tasty coffee day paying coffee shop prices thanks folgers', 'ordering sea salt chips year love daughter picked local grocery store new favorite ordering', 'love chips flavor plain sweet spicy time drawback tad bit salt great flavor', 'candy described middle hard silky smooth filling described br looks tastes like s way past s expiration date br reccommend paid good chunk cash', 'twizzlers strawberry childhood favorite candy lancaster pennsylvania y s candies oldest confectionery firms united states subsidiary hershey company company established young smylie apple licorice twists green color blue raspberry licorice twists like br br dry cool place recommended fridge according guinness book records longest licorice twist measured feet m weighted pounds y s candies record breaking twist guinness world record july product kosher thank', 'arrived time packaged green plastic wrap cookies fresh boxes local grocery store br br complaints cookies ate', 'tea flavor brunch artifial flavors returnable wasted bucks', 'son s favorite baby foods bit sweetness sweet s runny flavors use deeper spoon add little rice cereal thicken', 'kettle brand potato chips spicy thai flavor taste like food eaten thai restaurant ingredients listed include garlic powder onion powder parsley jalapeno spices m sure spices sure tastes like lemongrass yum chips cut crunch come seriously heavy duty bag tried open like regular chip bags pulling sides apart way bag wondered plastic started looking scissors decided company chips bag nice provided way open sure small slit simple directions tear easy t think', 'product exactly advertised savings half retail price easy store individual packaging', 'small chocolate cups specialty party item able past wanted amazon provides link commonly called jello shots provide solid edible alternative small paper cups', 'trouble finding locally delivery fast hunting flour aisle local grocery stores', 'bought box chips father s day gift dad loves yummy substantial regular chips', 'pancakes taste great recipe adjustments son s egg allergy s great camping time d like able pancakes having fresh eggs available', 'husbands stocking christmas hit', 'started buying noticed year old cat starting lose spunk decided time start buying real cat food garbage super markets pet store million choices m sure brands good went try great purchase cat past months s active kitten coat sooo soft mainly loved taste highly recommend brand friends family animals', 'oatmeal good mushy soft t like quaker oats way', 'products takes pretty good t leave gittery subscibe save prime membership pay shot wife tried drinks like going style moderate effective use weight training recommend product looking healthier alternative high sugar unnatural products gives results awesome energy drink', 'canidae felidae changed formula cats like change comes food change putting label noticed color food changed smell notice reviewd canidae happened time dogs having issues br br prior change food lost cats moved new home cats upset change enviorment loud noise stop eating depends cat stopped eating lost lot weight took vet took months normal year better formula food changed br br started noitce eating started bug asked shop owner feed store knowledge change food wasn t customers yelling dogs food making dogs sick right away changed cats food started chowing haven t suffered bit like dogs br br cats sensitve animals changes thier food cause stop eating thinking purchasing food rescued fixed cats picky eaters change formula death change formula br br urge problems consumer affairs website fda website write letter let know affected animal canidae care change affected animals tell buy horrible', 'loves pocky t lying lol pocky arrived good condition minimal melting broken pieces', 'delicious chocolate excellent espresso bean perfect roast purpose crunchy bitter href http www amazon com gp product b ad u chocolate covered espresso beans pounds', 'individually wrapped pieces delicious wish mildly sweet sugar free aftertaste traditional marzipan aholic enjoy', 'peanut free product bought son thought tasty kids liked reason think strawberry bars love soft texture non crumbly state makes clean car rides like apple chocolate bars best berry left amazon wonderful price wish subscribe item', 'bought husband currently overseas loves apparently staff likes br generous amounts twizzlers ounce bag worth price href http www amazon com gp product b gvisjm twizzlers strawberry ounce bags pack', 'mix poorly packaged breaks open easily shipping nearly bag order spilled shipping box bags come unsealed tears packages', 'mother father recipient wonderful pieces chocolate heaven t believe deserved receiving know deserve receive', 'discovered kettle chips sea salt vinegar shopping trader joe s daughter mindy couldn t believe tasty best chip eaten love bite ve munching br br things favor thicker chips t crumble m devouring delightfully crunchy salt vinegar combination heavenly tried create original line palate pleasing taste treat couldn t beat manufacturer said tongue puckering tang crunch isn t poetic br br health values kettle chips peeled preparation m getting nutrition potassium vitamin c mother approve fact hand cooked small batches br br enjoy kettle chips afternoon snack favorite soda iced tea delicious tuna sandwich hot dog lunch actually kettle chips perfect sweets course br br problem delicious t stop eating s reason chose smaller packets figured month good girl kept appetite control hid kids sake fewer calories try hard succeeded far isn t easy br br told love br br reviewed betty dravis br millennium babe prophecy', 'like order kettle spicy thai chips amazon hard locally probably aggrieved know recipe changed like regular potatoe chips paid husband gets eat t like spicy thai fine br br yuck', 'albanese gummi bears rings good tasty high quality bears little faces local candy store type gummi stuff bears rings snakes balls worms lb twin packs pound bags screaming deal far m concerned m probably pounds deep friggin things consumed', 'little girl t like organic contains fruit veggies protein grains tasty meal wish came larger portions month old wants jars', 'favorite hot sauce liketo use extra flavor loved going favorite resturants town seeing offering great product enjoy putting breakfast burritos', 'bought allot different flavors happens favorites getting soon', 'son t patience precise water temperature half hour appeared risen feared worse determined polite agreed sandwich bread amazing apparently rises baking br br great tangy flavor perfect meat sandwich imho heavy fortunately lots deli meats loaf disappeared hour br br ve sourdough peasant bread far m sure delicious', 'pioneer gravy number years easy tastes great goes mashed potatoes meats try', 'mouth says love thee let count ways br like apple products item draw shipping cost heavy', 'thesedon t like hot food bit great balance sweetness spice course kettle chips good chips use good oil plain ones tasty like ridged chips usually crunchy hard chew t want work hard deliciousness like spicy barbecue definitely like chips', 'cats allergic fish beef formula eat better ingredients prescription diets available vet kitties active soft shiny fur fat dry food reduces tartar buildup teeth', 'dogs love food bought specifically dogs food allergies works great hot spots tummy problems br love ships right door free shipping', 'chips delectably delicious low sodium diet t totally truely love snack chips bursting flavor t tell missing salt kiss worth chip beleive total makeout', 'got tasted strait bottle tasted like smoky flavored milk yuck depressed stuck bottles sat shelf forgot weekend tasted zevia cream soda pleased flavor tasted weird smokey like lorann oil gotten tried doctor soda little sf vanilla torani syrup tablespoon heavy cream tasted amazing odd smokiness gone wonderful rich mouthfeel br br wanted help lorann oil cup whipping cream bowl added teaspoon vanilla tasted tasted fine added drop oil strong stirred tasted better whipped fruit treat br br whip drop vanilla desserts whip cream happy accident use added vanilla adds new depth flavor tastes different bottle cream br br potent use drop increase tasting add ruin recipe use light touch', 'wonderful candy hard got huge bag freezer came shipped nicely sturdy box heavy plastic great', 'love t local stores t stocked buying strong dip condiment great flavor grain texture', 'surprised taiwan shaped pineapple cakes cute br ve pineapple cake like local asian supermarkets ordered lovely pastries dragon boat festival party fun friends think good idea order mid autumn festival party', 'fruit gift perfect gift fresh packed tasty looking people received assured tasty tasting tried chocolate covered cherries ad surprised delicious thank needed pinch came earlier expected thank dharana san francisco', 'loved wintergreen altoid smalls come write review packaging small convenience altoids smaller square shape blue hue delicious taste opinion definitely prefer regular size altoids continue purchasing highly recommended', 'awful thought food supposed taste good eat ice cream taste mouth s bad', 'recently tried flavor brand surprised delicious chips best thing lot brown chips bsg favorite bought amazon shared family friends little disappointed far brown chips bags flavor good like better yogurt green onion flavor salty onion flavor better haven t eaten kettle chips recommend try bag buying bulk thicker crunchier lays fresh bag', 'year old basenji jack russell mix loves dog food s noticeably healthier energetic switched standard dog foods earlier year despite higher cost natural dog foods eats significantly natural balance dog foods stays happy normal dog foods d eat cups dog food day recommended serving size eats cup cup natural balance dog food day account actually getting bang buck natural dog foods t buy long normal dog foods healthier happier dog boot add fact free day shipping amazon prime m sold', 'fantastic chips ve eat bag lots grain beans complete protein qualms feeding kids snacks great problem bag small need bigger bag', 'tried having normal red tea waited review flavor rings head earthier rooibos tea frity color muddy water grittiness viscosity worth penny', 'arrived days stale eat bags', 'chips fanfreakintastic doubt best chips nice sweet smoky flavor little bit o heat oh ya baby', 'delicious tea br br m tea geek exploring stuff like earl grey especially bergamot br br problem bergamot added usually little br br perfect like balance flavor t add tea teaspoon cup minutes s ready br br tastes like expensive tea priced like lipton definitely recommend fans earl grey kick', 'product impossible wash actually cleaned couldn t food pieces save life tried scrubbing washed dishwasher suggests', 'hey description says grams roughly ounces way approximate price gram', 'impulsive like ok t wrong quality babies good complaints retrospect price little ridiculous esp add shipping', 'case office tin desk visitors help folks stop grab mints pop like candy meet keeps coming tin worker asked save tins use pillboxes safety pin boxes like said theyre real hit wouldn t able hands candy dish good alternative s nice garlic lunch gave item stars aren t tasty sugar version mints sugar free item good s sugar counterpart fact tin wrapped plastic like waste irritating remove totally wrap t easy deal', 'remember buying candy kid quality hasn t dropped years superb product won t disappointed', 'sir kensington s great job updating classic ketchup wonderful product refreshed taste ketchup great update leaves disappointed m given heinz restaurant br br heinz die hard fans ketchup wish knew ketchup chemical aftertaste heinz sure ketchup try br br t forget spiced variety purchasing pack classic spiced variety sir kensington experience definitely way', 'time ve misled reviews amazon like hr energy rain ok thought d try product based reviews boy sorry gagged getting bottle nose pinched leaves worst medicinal taste mouth tic tacs rid worst hour yawning drowsy like things taste weird tea flavored cough syrup t work t buy t know bottles big fail', 'wow product impressive bought oz blueberry pleased packaging price shipping powder dissolves instantly water ve mixing tsp small glass water drinking tastes great add smoothies juiced fruit juices product economical compared purchasing fresh blueberries especially waste mold overripe berries thrown away think add baked unbaked foods m excited add superfoods diet fast easy way definitely trying flavors soon', 'yo kettle chip addict happy snack size bags lunch great quality cheaper stores definitely buying', 'admit sucker large quantity oz shopping hot sauces seeing size bottle reminds wing sauce bottle sizes plastic bottle convenient squirt overall hot tasty jalape ntilde os seen ingredients list bought br jalapenos br water br vinegar br brown sugar br lime juice br fish sauce br cilantro br habanero br garlic br spice blend br salt br potassium sorbate br xanthan gum', 'stuff great s low glycemic substitute sugar ll body great favor size economical shipping fast got soon', 'enjoy product hard time finding affordable store look s sugar use thanks', 'awesome yummy flavor got healthy alternative desserts normally eat glad things jello desserts taste good good definitentally purchasing product flavor wonderful', 've buying drinking year energy boost excellent continuous hour effect recent shipments improved flavor slightly m getting t drink flavor s heinous fake flavors non organic energy shots', 'enjoy flavor soy like br br plus hand good ole usa', 'think chips aren t spicy spice grow bite good', 'totally orgasmic chips best spicy chip tasted signed subscribe save option case contained sized bags chips price unit equals package cost plain chips add free shipping fast delivery deal steal run like stole order spicy thai chips p s paid going price ahead curve enjoy', 'chips best ve tasted filled chemicals taste tangy vinegar potato greasy perfectly crispy t like salt vinegar tanginess t bother try definitely zip love children friends love year old loves', 'love sugar tastes better isn t overly sweet tasting regular sugar ve baking items turn good price amazon set good makes easy use everyday stuff', 'daughter extensive food allergies infant toddler bought bars consistently nut egg allergy like trust manufacturer know food safe unfortnately times purchased bars varieties hard rock daughter won t eat tried thought break tooth subscribe save cancelled boxes family eat agree previous post want love bars love company stands actually like cookies changed bars appetizing hope address issue certainly try enhance taste address issue texture total bummer better past changed taste new packaging', 'chips truly amazing light crisp great tasting nice texture natural low fat sodium need recently bought bag regular grocery store couldn t belive taste buds s excited saw amazon decided buy case', 'roast large cast iron pan grill bag time smell wonderful roasted beans taste delicious importantly coffee smooth bitter aftertaste numerous occasions ve send roasted beans home friends like', 'good thing worked kibble time slowly shifting percentage felidae national junk food brand bowl natural time cats couldn t mess ve moved', 'variety packs taste great br br morning cents meal t understand earth isn t buying stuff br br maple brown sugar terrific followed apples cinnamon followed regular t tired ole thing taste great br br boil water small pot packet bowl pour boiling water watch expand x size br br taste good takes minutes prepare br br sure earth isn t convenient healthy quick excellent quality extremely cheap', 'coffee fanatic stayed away liked instant coffee assumption similar enjoy starbucks instant coffee drink expensive thought try wife pleasantly surprised taste t think equals fresh brewed acceptable bought pack local grocery store little high figured check online best price started calculating online prices charging bucks count suggest check local grocery stores able cheaper t math single online price shipping calculated looking supposed discount coffee supplier case boxes sales tax free shipping sounds like great deal x singles single expensive', 'good products fast shipping equals happy little pricey hand pick good flavors def worth price', 'got wild hair taffy ordered pound bag taffy enjoyable flavors watermelon root beer melon peppermint grape complaint bit red black licorice flavored pieces particular favorites kids husband lasted weeks recommend brand taffy delightful treat', 'loved kettle brand sea salt vinegar chips time tried fact able line great price wonderful definitely purchase quick simple snack lunch goes great cold sandwich', 'hard husband eat breakfast school takes bars happy hard flavor local grocery stores amazon com came reasonable price came husband s breakfast ready runs door mornings like bar evening night snack', 't good things plocky s chips purchased flavor black bean flavor href http www amazon com gp product b gwko g plocky s tortilla chips black beans n rice ounce bags pack love taste better known brands satisfying eaten tortilla chip t feel guilty plocky s eat feel satisfied actually prefer eaten dips bag desk work lunch time grab bring work share friends love fan plocky s chips continue purchase amazon', 'honestly best seasoning salt land tightens dish spicy perfectly seasoned s perfect purchase oz mamma jamma', 'salt free product purchased chips greasy', 'bought pocky vacation enjoyed living asian stores shop internet guys family like better ladies reason bit insanity search pocky commercials youtube', 'hot love tasty little sweet usually scoff salsas labeled hot lives billing', 'glad ounce size bag bit s hard single serving chip bags vend wide plump air bag size good bbq flavor', 'cat day probably longer haven t tryed ll walk right stuff time know s hungery absolutely swear d die starvation wiff', 'baking soda works great cooking health reasons acid indigestion heart burn tsp half glass water s gone use body alkaline s great changing ph level body', 'moroccan recipes syrup brilliant mixed beverage swirled topping sliced oranges soaked orange water wonderful wonderful stuff', 'far favorite chips extremely crunchy similar kettle style chips s extreme vinegar flavor differentiates lesser fried potato snacks ve tried brands salt vinegar come close', 'tried lot s v chips best real sea salt real vinegar mouth watering flavor crispiness faint heart flavor authentic', 'like salt vinegar chips salty eating actual pinches salt drinking actual vinegar doubt like chips saltiest sourest chips reason stops throwing away paid boxes dont like waste food brown chips especially bad salty sour taste overcooked burnt rare kind kind extreme taste like chips br br actually high tolerance sour taste bag chips bit difficulty normal people try home', 'great ham soup base ham beans seasoned greenbeans great flavor', 'mints strong great taste convenient size carry pocket purse', 'm addicted salty tangy flavors opened bag sea salt vinegar kettle brand chips knew perfect complement vegetable trays cucumber carrot celery cherry tomatoes skip dip balance tangy chips alternating bites raw vegetable br br oregonian m proud share delectable snacks friends especially living outside state haven t experienced gourmet chips tell kettle brand potato chips microbrews beer br br kettle brand potato chips unmistakable light gold color rich flavor amazing crunch kettle brand chips healthier snacking option major chip brands kettle brand chips t trans fats msg artificial flavors colorings company line organic potato chips products certified kosher br br recommend href http www amazon com gp product b g mbv kettle chips honey dijon href http www amazon com gp product b g q gm kettle chips spicy thai br br annette solomon reporter salem statesman journal recently noted glass wine goes nicely chips solomon wrote missing wonderful pairing chips spicy want select semi sweet white wine moderate acid subdue strong flavors ginger lime garlic cilantro powering classically german style riesling fits parameters perfectly', 'chocolate moose mickey moose br br nice owner bought great food love gained lbs eat mickey s food isn t looking skin fur better', 'gum super sick tatooes killin flavor spankin brings bomb diggity memories yo peace', 'drink mother brought visit home brittany france thought delicious wish bit cheaper love product', 'purchased giveaway baby shower jungle theme worked perfect small bags candy purchased want small bags purchase larger bag', 'brand granola bars good berry favorite bars ridiculously small yeah gluten free food lot dense food honestly normal sized good tasting granola bars tiny taste great bar small', 'spicy version ketchup isn t bad expensive regular version sweet dessert horrible annie s organic better flavor costs lot heinz organic better deal gave stars instead glass plastic', 'looking secret ingredient robitussin believe got addition root beer extract ordered good cherry soda flavor medicinal', 'minutes tentacle bitten ball inside cracked half durable dog toy disappointed dog', 'salt vinegar chips definitely favorite type potato chip ones kettle tasty enjoyed thoroughly wish healthy option great taste', 'best tasting tuna pack opinion great snack satisfying tomato', 'love flavor ramen t eat flavors anymore taste bland comparison convenience having delivered home prime days t pay shipping price amazon isn t bad cheaper run pick case grocery store', 'educated feline nutrition allowed cats addicted dry cat food offered canned dry wish fed premium quality canned food limited dry food year old cats year old cats good quality dry foods eat wellness innova innova s manufacturer recently purchased procter gamble began looking replacement offering samples local holistic pet store holistic select usual wellness innova eat finicky cats recommend trying holistic select good quality food palatable finicky eaters', 'golden retriever picky dogs ve met experimenting types food loves natural balance like natural balance fact multiple flavors dry wet varieties mix dry food little wet food golden loves furthermore like mixing flavors time think meal day day little boring figured tend stay away fish type smells br br additionally started purchasing amazon petco t wet food box couple cans came home surprise realized save time bought dog food buy amazon br br definitely recommend stamp approval natural balance dog food eaten dog love', 'chips good ended eating bag day cause good glad dextrose like lays', 'ahead drink brands served neighborhood cafe sure stash weaver s peru organic bean home serve friends family deserve best coffee corner cafe people drink average coffee t know better travel mug filled weaver s coffee home enjoy real cup joe er weaver s', 'care product thought tea sisters use drink elementary school tea use drink actually came root particular type tree', 'm sure review s subjective taste suffice like chocolate graham cracker ll like t taste exactly like s closest analogy sticks cracker kind dipped chocolate end left normal cracker t fingers covered chocolate eating br br s nitty gritty details boxes contain individually sealed packets contain probably sticks packets cleverly designed little slit cut folded grab sides pull opens package hassle gotta love japanese product design nice design touch open properly grabbing stick right br br packets calories fat mg sodium terms snacks pretty good option contain milk wheat soybeans sheanut issue ll want pass says packaging facility manufactured processes eggs peanuts product t use disclosure nice particularly sensitive br br overall great snack great price pack packets s snacks note live hot climate t order summer melt shipping duh', 'best choices opinion adore amazon need negotiate better price tassimo disks available bedbath brings readily available coupons months ago excellent blend flavor bitter think s favorite', 'yes s probably healthier hour energy starbucks shots looking avoid caffeine overload energy drinks w high dosage caffeine believe caffeine content guayaki shot ml probably lower healthy energy shot drinks believe people avoid brands b c contain caffeine sugar react caffeine guayaki good buy definitely feel energy boost w guayaki shot w caffeine effects irritability nervousness mood swings caffeine overdose stopped drinking coffee looks organic energy drinks safe br br sensitive caffeine s great buy s loaded w sugar taste easy pleasant s loaded w bunch chemicals like hour shots starbucks drinks energy boost lasts hours takes minutes kick probably depends body weight br br note want feel energized day protein drink thing morning stay away heavy fattening foods day feel sluggish sleepy', 'food pet store s delivered door price slightly', 'looked like perfect snack trail mix unfortunately arrived solid mass melted chocolate left pantry days opened room temperature gooey fridge ve breaking hunks taste good chocolate grainy melting solidifying won t order online store pick', 'looking messy version licorice children sure try soft easy chew t hands sticky gross car summer beach love flavos mix chocolate nice snack great item great price highly recommend', 'spicy thai chips best tasting chips market kettle foods changed ingredients ginger important missing notice removed ginger attitude bag sadly changing ingredients ruined chips aren t good anymore spice level virtually non existent br br original new ingredient listings br br original ingredients br select potatoes safflower sunflower oil honey powder evaporated cane syrup honey salt garlic powder jalapeno pepper ground ginger onion powder habanero pepper dried parsley citric acid cilantro extract ginger oil cayenne pepper white pepper lime oil br br new ingredients br potatoes safflower sunflower oil sugar dried cane syrup salt maltodextrin yeast extract spices garlic powder onion powder dried parsley jalapeno powder citric acid natural flavors lime extract br br m assuming changed ingredients order cut costs new owner blue diamond want rid great taste naturally bags t consider maltodextrin natural br br great job kettle way ruin great thing', 'offer great price great taste thanks amazon selling product br br staral', 'chilling fridge boost flavor corn chips nachos tastebuds singing like janet jackson associated wardrobe risks highly recommended', 'tea carries flavor expect smell terrible invigorates like puncture wound revival drinking discover alive br br tea bag mother law said oh smells kind like wine okay kind like wine hint rot moldy aftertaste likes box', 'save little money buying larger quantities opposed smaller bottles like taste agave cross honey maple good pies cereal frozen yogurt', 'husband mexican picky tortilla chips absolutely love texture light crispy crunchy actually usually prefers hearty cruncy chip like el ranchero flavor fantastic thilled bean rice corn base makes incredibly flavorful touch onion garlic addition embarrassing like plain chips eat particularly amazing fresh salsa highly recommend', 'reading reviews got nervous opened bag recent order expecting worst worries bags great shape expiration dates aren t june chips bag taste like supposed good world way bags thirty dollars ton expensive going price local grocery store yay team', 'ordered product time kirkland signature salmon raincoast trading salmon tasty equally good quality salmon kirkland raincoast arrived perfect condition kirkland cans dented badly recommend product likes boneless skinless canned salmon', 'grape gummy bears hard area fact pretty talk grape gummy bears think m lying bought lbs bears little bit bigger brands kind sour kick strong love grape flavored candy soda pretty good company makes grape gummy bears little bit better opinion worth price like use gummy bears home popsicles flavored sports drink salt sports drink makes softer popsicles gummy bears awesome frozen delicious', 'good need cheese wish krinkle cut prefer salt pepper krinkle cut better texture brand better frito lay good price amazon free shipping similar tim s zack s chips crispy br br note hardest bags open hand use knife scissors everytime', 'want good flavor substitute maple syrup barley malt brown rice syrup nicely use madhava s agave nectar baked goods time pleased results time m writing amazon stock vendor stock priced pack br br baking ve waffles pancakes small doses teaspoon added oatmeal little goes long way br br agave nectar use agave nectar sweetener depending taste recipe recipes dried fruit need cut heat oven degrees f oil recipe cut alternately use tablespoon sifted coconut flour absorb liquid t use recipe dry additionally baking sure mix wet ingredients prior adding dry bakers know remember read recipes sugar typically added dry ingredients beaten butter br br agave nectar crystalize like sugars won t able substitute corn syrup making hard candy highly recommend baking makes moister br br looking caramel flavor ll need use light version product equally good applications', 'tastes great gives energy jitters love product br wish came sort resealable jar hard plastic container instead zip lock pouch zip lock ripped quit working awhile product fantastic crazy packaging', 'bought set son months started taking went eat cut cantaloupe apple banana sweet potatoes times restaurant son busy long actually eat s great t overly worried choking big chunks got try new foods wouldn t hesitate buy', 'idea good caramel flavors ginger pistachio dominated chocolate walnut orange honey varieties missed mix rich buttery dairy flavor caramelized sugar expect caramels', 'works chicken fish beef pork fast easy makes taste excellent plus buying bulk box stores', 'love kettle brand chips br ve love honey dijon years decided try flavors br br sea salt vinegar chips tangy sour lips pucker eat time got big bags steal amazon br br personally flavor mom aunt love hate potato chips', 'love chips bought stock entire school year chips taste great packages sealed good condition arrived box hand tatters holes complely squished t know result customs voyage receive bit disgruntling given falling apart luckily victims chips', 'pleasantly surprised item delivered day order speediest delivery date probably helps location near looks described pictured m happy business seller gingerbread house carefully packaged harm fragile pieces inside m excited item gift', 'love tasty infact think addicted br buying packs bags reasonable going target getting bag savings bag use subscribe save product love subscribe save', 've tried tassimo flavors far favorite normal cup coffee starbuck s house blend cuisinart pot days week use tassimo coffee rich stong t understand current price disks hope lowered amazon ll buy', 'kettle lightly slated chips favorite market t care fancy flavors salted right super crunchy flavor best', 'fiance loves dark chocolate nut granola bars grocery stores t carry anymore amazon came couldn t happier', 'disappointed product calories time ordered received calories tablespoon granulated sugar calories tablespoon agave nectar better sugar']\n",
            "(800, 80)\n",
            "(800, 80)\n"
          ]
        }
      ],
      "source": [
        "#Tokenization\n",
        "from keras_preprocessing.text import Tokenizer\n",
        "\n",
        "x_tokenizer = Tokenizer()\n",
        "y_tokenizer = Tokenizer()\n",
        "\n",
        "\n",
        "x_tokenizer.fit_on_texts(list(X_train))\n",
        "y_tokenizer.fit_on_texts(list(Y_train))\n",
        "\n",
        "#Tokenize Train - convert text sequences to integer sequences\n",
        "x_train_token = x_tokenizer.texts_to_sequences(X_train)\n",
        "y_train_token = y_tokenizer.texts_to_sequences(Y_train)\n",
        "\n",
        "#Padding zeros up to the maximum length of text so all is same\n",
        "x_train = pad_sequences(x_train_token, maxlen = MAX_LEN_TEXT, padding = 'post')\n",
        "y_train = pad_sequences(y_train_token, maxlen = MAX_LEN_TEXT, padding = 'post')\n",
        "\n",
        "#Tokenize Test\n",
        "x_test_token = x_tokenizer.texts_to_sequences(X_test)\n",
        "y_test_token = y_tokenizer.texts_to_sequences(Y_test)\n",
        "\n",
        "#Padding zeros up to the maximum length of text so all is same\n",
        "x_test = pad_sequences(x_test_token, maxlen = MAX_LEN_TEXT)\n",
        "y_test = pad_sequences(y_test_token, maxlen = MAX_LEN_TEXT)\n",
        "\n",
        "x_voc_size = len(x_tokenizer.word_index)+1\n",
        "y_voc_size= len(y_tokenizer.word_index)+1\n",
        "\n",
        "print(X_train) #text data\n",
        "print(x_train.shape) #text data in tokens\n",
        "print(y_train.shape)"
      ]
    },
    {
      "cell_type": "code",
      "source": [
        "K.clear_session()\n",
        "latent_dim = 500"
      ],
      "metadata": {
        "id": "51GJw9A_fBN9"
      },
      "execution_count": 125,
      "outputs": []
    },
    {
      "cell_type": "code",
      "source": [
        "# Encoder\n",
        "encoder_inputs = Input(shape=(MAX_LEN_TEXT,))\n",
        "enc_emb = Embedding(x_voc_size, latent_dim, trainable=True)(encoder_inputs)\n",
        "\n",
        "# LSTM 1\n",
        "encoder_lstm1 = LSTM(latent_dim, return_sequences=True, return_state=True)\n",
        "encoder_output1, state_h1, state_c1 = encoder_lstm1(enc_emb)\n",
        "\n",
        "# LSTM 2\n",
        "encoder_lstm2 = LSTM(latent_dim, return_sequences=True, return_state=True)\n",
        "encoder_output2, state_h2, state_c2 = encoder_lstm1(encoder_output1)\n",
        "\n",
        "# LSTM 3\n",
        "encoder_lstm3 = LSTM(latent_dim, return_sequences=True, return_state=True)\n",
        "encoder_outputs, state_h, state_c = encoder_lstm1(encoder_output2)\n",
        "\n",
        "# Decoder\n",
        "decoder_inputs = Input(shape=(None,))\n",
        "dec_emb_layer = Embedding(y_voc_size, latent_dim, trainable=True)\n",
        "dec_emb = dec_emb_layer(decoder_inputs)\n",
        "\n",
        "# LSTM using encoder_states as initial state\n",
        "decoder_lstm = LSTM(latent_dim, return_sequences=True, return_state=True)\n",
        "decoder_ouputs, decoder_fwd_state, decoder_back_state = decoder_lstm(dec_emb, initial_state=[state_h, state_c])\n",
        "\n",
        "# Attention layer ??\n",
        "\n",
        "# Dense Layer\n",
        "decoder_dense = TimeDistributed(Dense(y_voc_size, activation='softmax'))\n",
        "decoder_outputs = decoder_dense(decoder_ouputs)\n",
        "\n",
        "# Define the model\n",
        "model = Model([encoder_inputs, decoder_inputs], decoder_outputs)\n"
      ],
      "metadata": {
        "id": "7O84AvVFfHfL"
      },
      "execution_count": 126,
      "outputs": []
    },
    {
      "cell_type": "code",
      "source": [
        "model.summary()"
      ],
      "metadata": {
        "id": "ElMVeYW9ff15"
      },
      "execution_count": null,
      "outputs": []
    },
    {
      "cell_type": "code",
      "source": [
        "model.compile(optimizer='rmsprop', loss='sparse_categorical_crossentropy',metrics='accuracy')"
      ],
      "metadata": {
        "id": "iSkCw3infs9A"
      },
      "execution_count": 128,
      "outputs": []
    },
    {
      "cell_type": "code",
      "source": [
        "es = EarlyStopping(monitor='val_loss', mode='min', verbose=1)"
      ],
      "metadata": {
        "id": "IKueB2iUfuH6"
      },
      "execution_count": 129,
      "outputs": []
    },
    {
      "cell_type": "code",
      "source": [
        "history = model.fit([x_train, y_train[:,:-1]], y_train.reshape(y_train.shape[0], y_train.shape[1], 1)[:,1:],\n",
        "                  epochs=3, callbacks=[es], batch_size=512, verbose =2,\n",
        "                  validation_data=([x_test, y_test[:,:-1]], y_test.reshape(y_test.shape[0], y_test.shape[1], 1)[:,1:]))"
      ],
      "metadata": {
        "colab": {
          "base_uri": "https://localhost:8080/"
        },
        "id": "NDh4WNUXgCms",
        "outputId": "60b752a4-0f14-4b18-90ce-ffadc8363728"
      },
      "execution_count": 130,
      "outputs": [
        {
          "output_type": "stream",
          "name": "stdout",
          "text": [
            "Epoch 1/3\n",
            "2/2 - 91s - loss: 6.2696 - accuracy: 0.3519 - val_loss: 0.3944 - val_accuracy: 0.9757 - 91s/epoch - 46s/step\n",
            "Epoch 2/3\n",
            "2/2 - 72s - loss: 0.2898 - accuracy: 0.9772 - val_loss: 0.3348 - val_accuracy: 0.9757 - 72s/epoch - 36s/step\n",
            "Epoch 2: early stopping\n"
          ]
        }
      ]
    },
    {
      "cell_type": "code",
      "source": [
        "plt.plot(history.history['loss'], label='train')\n",
        "plt.plot(history.history['val_loss'], label='validation')\n",
        "plt.legend()\n",
        "plt.show()"
      ],
      "metadata": {
        "id": "5t622fjviCC9"
      },
      "execution_count": null,
      "outputs": []
    },
    {
      "cell_type": "code",
      "source": [
        "reverse_target_word_index = y_tokenizer.index_word \n",
        "reverse_source_word_index = x_tokenizer.index_word \n",
        "target_word_index = y_tokenizer.word_index"
      ],
      "metadata": {
        "id": "Qg5gtw2Fi7Jz"
      },
      "execution_count": 132,
      "outputs": []
    },
    {
      "cell_type": "code",
      "source": [
        "# Encoder inference\n",
        "encoder_model = Model(inputs=encoder_inputs, outputs=[encoder_outputs, state_h, state_c])\n",
        "\n",
        "# Decoder inference\n",
        "# Below tensors will hold the states of the previous time step\n",
        "decoder_state_input_h = Input(shape=(latent_dim,))\n",
        "decoder_state_input_c = Input(shape=(latent_dim,))\n",
        "decoder_hidden_state_input = Input(shape=(MAX_LEN_TEXT, latent_dim))\n",
        "\n",
        "# Get the embeddings of the decoder sequence\n",
        "dec_emb2 = dec_emb_layer(decoder_inputs)\n",
        "\n",
        "# To predict the next word in the sequence, set the initial states to the states from the previous time step\n",
        "decoder_outputs2, state_h2, state_c2 = decoder_lstm(dec_emb2, initial_state=[decoder_state_input_h, decoder_state_input_c])\n",
        "\n",
        "# Attention inference ??\n",
        "\n",
        "# A dense softmax layer to generate prob dist. over the target vocabulary\n",
        "decoder_outputs2 = decoder_dense(decoder_outputs2)\n",
        "\n",
        "# Final decoder model\n",
        "decoder_model = Model(\n",
        "[decoder_inputs] + [decoder_hidden_state_input, decoder_state_input_h, decoder_state_input_c],\n",
        "[decoder_outputs2] + [state_h2, state_c2])"
      ],
      "metadata": {
        "id": "YZBpNMX-iXpO"
      },
      "execution_count": 133,
      "outputs": []
    },
    {
      "cell_type": "code",
      "source": [
        "def decode_sequence(input_seq):\n",
        "    # Encode the input as state vectors.\n",
        "    e_out, e_h, e_c = encoder_model.predict(input_seq)\n",
        "\n",
        "    # Generate empty target sequence of length 1.\n",
        "    target_seq = np.zeros((1,1))\n",
        "\n",
        "    # Chose the 'start' word as the first word of the target sequence\n",
        "    target_seq[0, 0] = target_word_index[\"start\"]\n",
        "\n",
        "    stop_condition = False\n",
        "    decoded_sentence = ''\n",
        "    while not stop_condition:\n",
        "        output_tokens, h, c = decoder_model.predict([target_seq] + [e_out, e_h, e_c])\n",
        "\n",
        "        # Sample a token\n",
        "        sampled_token_index = np.argmax(output_tokens[0, -1, :])\n",
        "        \n",
        "        sampled_token = reverse_target_word_index[sampled_token_index]\n",
        "\n",
        "        if(sampled_token!='end'):\n",
        "          decoded_sentence += ' '+sampled_token\n",
        "\n",
        "        # Exit condition: either hit max length or find stop word.\n",
        "        if (sampled_token == 'end' or len(decoded_sentence.split()) >= (MAX_LEN_SUMMARY-1)):\n",
        "            stop_condition = True\n",
        "\n",
        "        # Update the target sequence (of length 1).\n",
        "        target_seq = np.zeros((1,1))\n",
        "        target_seq[0, 0] = sampled_token_index\n",
        "\n",
        "        # Update internal states\n",
        "        e_h, e_c = h, c"
      ],
      "metadata": {
        "id": "bbQU16lyie0t"
      },
      "execution_count": 134,
      "outputs": []
    },
    {
      "cell_type": "code",
      "source": [
        "def seq2summary(input_seq):\n",
        "    newString=''\n",
        "    for i in input_seq:\n",
        "      if ((i!=0 and i!=target_word_index['start']) and i!=target_word_index['end']):\n",
        "        newString=newString+reverse_target_word_index[i]+' '\n",
        "    return newString\n",
        "\n",
        "def seq2text(input_seq):\n",
        "    newString=''\n",
        "    for i in input_seq:\n",
        "      if (i!=0):\n",
        "        newString=newString+reverse_source_word_index[i]+' '\n",
        "    return newString"
      ],
      "metadata": {
        "id": "MBa9Zru7imna"
      },
      "execution_count": 135,
      "outputs": []
    },
    {
      "cell_type": "code",
      "source": [
        "for i in range(10):\n",
        "  print(\"Review:\",seq2text(x_test[i]))\n",
        "  print(\"Original summary:\",seq2summary(y_test[i]))\n",
        "  print(\"Predicted summary:\",decode_sequence(x_test[i].reshape(1, MAX_LEN_TEXT)))\n",
        "  print(\"\\n\")"
      ],
      "metadata": {
        "id": "5eG6lzsNitTR"
      },
      "execution_count": null,
      "outputs": []
    },
    {
      "cell_type": "markdown",
      "metadata": {
        "id": "vNmE8hsDOYI8"
      },
      "source": [
        "Hugging Face Transformers - Pretrained Model"
      ]
    },
    {
      "cell_type": "code",
      "execution_count": null,
      "metadata": {
        "id": "pafhiKdmaH2c"
      },
      "outputs": [],
      "source": [
        "import transformers\n",
        "from transformers import TFAutoModelForSeq2SeqLM, AutoTokenizer\n",
        "from transformers import TFDistilBertForSequenceClassification\n",
        "from transformers import AutoModelForSequenceClassification\n",
        "from transformers import TFAutoModelForSequenceClassification\n",
        "from transformers import pipeline\n",
        "from transformers import DataCollatorForSeq2Seq\n",
        "from transformers import TFTrainer, TFTrainingArguments\n",
        "from transformers import Seq2SeqTrainer\n",
        "\n",
        "\n",
        "\n",
        "mdl = TFDistilBertForSequenceClassification.from_pretrained(\"distilbert-base-uncased\")\n",
        "#model = TFAutoModelForSeq2SeqLM.from_pretrained(\"facebook/bart-large-cnn\")\n",
        "tokenizer = AutoTokenizer.from_pretrained(\"distilbert-base-uncased\")"
      ]
    },
    {
      "cell_type": "code",
      "source": [
        "!pip install rouge_score\n",
        "import evaluate\n",
        "\n",
        "rouge_score = evaluate.load(\"rouge\")"
      ],
      "metadata": {
        "id": "VJDy6gzmDDj-"
      },
      "execution_count": null,
      "outputs": []
    },
    {
      "cell_type": "code",
      "source": [
        "trainer = Seq2SeqTrainer(\n",
        "    model,\n",
        "    args,\n",
        "    train_dataset=tokenized_datasets[\"train\"],\n",
        "    eval_dataset=tokenized_datasets[\"validation\"],\n",
        "    data_collator=data_collator,\n",
        "    tokenizer=tokenizer,\n",
        "    compute_metrics=compute_metrics,\n",
        ")"
      ],
      "metadata": {
        "id": "ip5fwMycChib"
      },
      "execution_count": null,
      "outputs": []
    },
    {
      "cell_type": "code",
      "source": [
        "tokenizer = transformers.AutoTokenizer.from_pretrained('bert-large-uncased')"
      ],
      "metadata": {
        "id": "DYS5X9ntw8kn"
      },
      "execution_count": null,
      "outputs": []
    },
    {
      "cell_type": "code",
      "source": [
        "maxlen = 80\n",
        "\n",
        "train_input_ids = [tokenizer.encode(str(i), max_length = maxlen , pad_to_max_length = True) for i in reviews.values]\n",
        "val_input_ids = [tokenizer.encode(str(i), max_length = maxlen , pad_to_max_length = True) for i in labels.values]"
      ],
      "metadata": {
        "id": "amrlDRihuZA8"
      },
      "execution_count": null,
      "outputs": []
    },
    {
      "cell_type": "code",
      "source": [
        "#create input object of total number of encoder words\n",
        "en_inputs = Input(shape=(MAX_LEN_TEXT,)) \n",
        "en_embedding = Embedding(x_voc_size, latent_dim,trainable=True)(en_inputs)\n",
        "\n",
        "bert_layer = transformers.TFBertModel.from_pretrained('bert-large-uncased')\n",
        "\n",
        "bert_outputs = bert_layer(input_word_ids)[0]\n",
        "\n",
        "pred = tf.keras.layers.Dense(16, activation='softmax')(bert_outputs[:,0,:])\n",
        "    \n",
        "tst = tf.keras.models.Model(inputs=input_word_ids, outputs=pred)\n",
        "\n",
        "loss = tf.keras.losses.SparseCategoricalCrossentropy(from_logits=True)\n",
        "\n",
        "tst.compile(loss='categorical_crossentropy', optimizer=tf.keras.optimizers.Adam(learning_rate=0.00001), metrics=['accuracy'])\n",
        "   \n",
        "    #return tst"
      ],
      "metadata": {
        "id": "saQQpDsvvcVT"
      },
      "execution_count": null,
      "outputs": []
    },
    {
      "cell_type": "code",
      "source": [
        "tst.summary()"
      ],
      "metadata": {
        "id": "LEpfEAiuvkN9"
      },
      "execution_count": null,
      "outputs": []
    },
    {
      "cell_type": "code",
      "source": [
        "batch_size = 16\n",
        "\n",
        "history = tst.fit([x_train, y_train[:,:-1]], y_train.reshape(y_train.shape[0], y_train.shape[1], 1)[:,1:],\n",
        "                  epochs=3, callbacks=[es], batch_size=512, verbose =2,\n",
        "                  validation_data=([x_test, y_test[:,:-1]], y_test.reshape(y_test.shape[0], y_test.shape[1], 1)[:,1:]))\n"
      ],
      "metadata": {
        "id": "FF9VYyg4wj4P"
      },
      "execution_count": null,
      "outputs": []
    },
    {
      "cell_type": "code",
      "source": [
        "def tokenize_dataset(reviews):\n",
        "    encoded = tokenizer(\n",
        "        reviews,\n",
        "        padding=True,\n",
        "        truncation=True,\n",
        "        return_tensors='np',\n",
        "    )\n",
        "    return encoded.data\n",
        "\n",
        "# Need to convert to List[str] because the tokenizer expects List but not np.array\n",
        "tokenized_datasets = {\n",
        "    \"train\": tokenize_dataset(train_reviews.tolist()),\n",
        "    \"validation\": tokenize_dataset(val_reviews.tolist()),\n",
        "}"
      ],
      "metadata": {
        "id": "vIkuyvSwa3cB"
      },
      "execution_count": 94,
      "outputs": []
    },
    {
      "cell_type": "code",
      "execution_count": 95,
      "metadata": {
        "id": "5-mSsPoYz3wH"
      },
      "outputs": [],
      "source": [
        "train_encodings = tokenizer(X_train, truncation = True, padding = True)\n",
        "test_encodings = tokenizer(Y_train, truncation = True, padding = True)"
      ]
    },
    {
      "cell_type": "code",
      "source": [
        "train_x = np.asarray(train_encodings)\n",
        "validation_y = np.asarray(test_encodings)"
      ],
      "metadata": {
        "id": "2IAaMrOrUBiD"
      },
      "execution_count": 96,
      "outputs": []
    },
    {
      "cell_type": "code",
      "source": [
        "mdl.summary()"
      ],
      "metadata": {
        "id": "K8Jx2GAjmTCS"
      },
      "execution_count": null,
      "outputs": []
    },
    {
      "cell_type": "code",
      "source": [
        "mdl.compile(optimizer='rmsprop', loss='sparse_categorical_crossentropy',metrics='accuracy')"
      ],
      "metadata": {
        "id": "RC6Nv8GUcJW4"
      },
      "execution_count": 98,
      "outputs": []
    },
    {
      "cell_type": "code",
      "source": [
        "history = model.fit([x_train, y_train[:,:-1]], y_train.reshape(y_train.shape[0], y_train.shape[1], 1)[:,1:],\n",
        "                  epochs=3, callbacks=[es], batch_size=512, verbose =2,\n",
        "                  validation_data=([x_test, y_test[:,:-1]], y_test.reshape(y_test.shape[0], y_test.shape[1], 1)[:,1:]))"
      ],
      "metadata": {
        "id": "teNs8i9KmnTJ"
      },
      "execution_count": null,
      "outputs": []
    },
    {
      "cell_type": "code",
      "source": [
        "hst = mdl.fit([x_train, y_train[:,:-1]], y_train.reshape(y_train.shape[0], y_train.shape[1], 1)[:,1:], \n",
        "               epochs=3, callbacks=[es], batch_size=512, verbose=2,\n",
        "               validation_data=([x_test, y_test[:,:-1]], y_test.reshape(y_test.shape[0], y_test.shape[1], 1)[:,1:]))"
      ],
      "metadata": {
        "id": "JbRFlhwWcQK1"
      },
      "execution_count": null,
      "outputs": []
    },
    {
      "cell_type": "code",
      "execution_count": null,
      "metadata": {
        "id": "yZZe-u8IzUQG"
      },
      "outputs": [],
      "source": [
        "from transformers import DistilBertTokenizerFast\n",
        "tokenizer = DistilBertTokenizerFast.from_pretrained('distilbert-base-uncased')"
      ]
    },
    {
      "cell_type": "code",
      "execution_count": null,
      "metadata": {
        "id": "OSYka1UW0761"
      },
      "outputs": [],
      "source": [
        "train_dataset = tf.data.Dataset.from_tensor_slices((\n",
        "    dict(train_encodings),\n",
        "    X_test\n",
        "))"
      ]
    },
    {
      "cell_type": "code",
      "source": [
        "test_dataset = tf.data.Dataset.from_tensor_slices((\n",
        "    dict(test_encodings),\n",
        "    Y_train\n",
        "))"
      ],
      "metadata": {
        "id": "tuz2dipdSOEA"
      },
      "execution_count": 62,
      "outputs": []
    },
    {
      "cell_type": "code",
      "source": [
        "training_args = TFTrainingArguments(\n",
        "    output_dir='./results',          \n",
        "    num_train_epochs=3,              \n",
        "    per_device_train_batch_size=16,  \n",
        "    per_device_eval_batch_size=64,   \n",
        "    warmup_steps=500,                \n",
        "    weight_decay=0.01,              \n",
        "    logging_dir='./logs',            \n",
        "    logging_steps=10,\n",
        ")"
      ],
      "metadata": {
        "id": "4jLh7I3DUzib"
      },
      "execution_count": 170,
      "outputs": []
    },
    {
      "cell_type": "code",
      "source": [
        "trainer = TFTrainer(\n",
        "    model=model,                         \n",
        "    args=training_args,                  \n",
        "    train_dataset=train_dataset,         \n",
        "    eval_dataset=test_dataset             \n",
        ")\n",
        "\n",
        "trainer.train()"
      ],
      "metadata": {
        "id": "7-8WiyYLUh0L"
      },
      "execution_count": null,
      "outputs": []
    },
    {
      "cell_type": "code",
      "execution_count": 182,
      "metadata": {
        "id": "LlvTAebnQasr",
        "colab": {
          "base_uri": "https://localhost:8080/",
          "height": 86,
          "referenced_widgets": [
            "996929eec86e4caaad804224f0b41afe",
            "73be8b1a496c409288555a32cfe31bd4",
            "b0a76f89f1944c24b975fdaa593090b1",
            "fbfc099b088440e892d6babc8f4f5aa0",
            "1332372e33884e42a7bac5e8a6e009cc",
            "a864b8235a094adeadb56abc7f4f6afd",
            "cedd0858b8884b2ba2125f4f92c79a07",
            "de21ea54ddbc46b4b0ec366ecdc5d282",
            "458d21cbb52449c5b4467a73be640797",
            "bfd2fa5553854bbb8b5f7933e87ea37e",
            "1b0e6cec6bc3414c88c4663743203fcc"
          ]
        },
        "outputId": "e6d9774d-3b98-45da-d563-26d9a2e45e5c"
      },
      "outputs": [
        {
          "output_type": "display_data",
          "data": {
            "text/plain": [
              "Downloading:   0%|          | 0.00/268M [00:00<?, ?B/s]"
            ],
            "application/vnd.jupyter.widget-view+json": {
              "version_major": 2,
              "version_minor": 0,
              "model_id": "996929eec86e4caaad804224f0b41afe"
            }
          },
          "metadata": {}
        },
        {
          "output_type": "stream",
          "name": "stderr",
          "text": [
            "The model 'DistilBertForMaskedLM' is not supported for summarization. Supported models are ['BartForConditionalGeneration', 'BigBirdPegasusForConditionalGeneration', 'BlenderbotForConditionalGeneration', 'BlenderbotSmallForConditionalGeneration', 'EncoderDecoderModel', 'FSMTForConditionalGeneration', 'LEDForConditionalGeneration', 'LongT5ForConditionalGeneration', 'M2M100ForConditionalGeneration', 'MarianMTModel', 'MBartForConditionalGeneration', 'MT5ForConditionalGeneration', 'MvpForConditionalGeneration', 'PegasusForConditionalGeneration', 'PegasusXForConditionalGeneration', 'PLBartForConditionalGeneration', 'ProphetNetForConditionalGeneration', 'SwitchTransformersForConditionalGeneration', 'T5ForConditionalGeneration', 'XLMProphetNetForConditionalGeneration'].\n"
          ]
        }
      ],
      "source": [
        "summarizer = pipeline(\"summarization\", model='distilbert-base-uncased')"
      ]
    },
    {
      "cell_type": "code",
      "execution_count": null,
      "metadata": {
        "id": "wgWf3QDQ-CvB"
      },
      "outputs": [],
      "source": [
        "sum_generated = summarizer(df_reviews['Text'][67])"
      ]
    },
    {
      "cell_type": "code",
      "execution_count": null,
      "metadata": {
        "id": "K6E-vNB69GkA"
      },
      "outputs": [],
      "source": [
        "input_ids = tokenizer.encode(\"summarize:\" + df_reviews[\"Text\"][1], return_tensors='tf',truncation=True, max_length=60)\n",
        "greedy_output = model.generate(input_ids,num_beams=4,\n",
        "                                    no_repeat_ngram_size=2,\n",
        "                                    min_length=30,\n",
        "                                    max_length=100,\n",
        "                                    early_stopping=True)\n",
        "tokenizer.decode(greedy_output[0], skip_special_tokens=True)"
      ]
    },
    {
      "cell_type": "code",
      "source": [
        "pip install datasets\n"
      ],
      "metadata": {
        "id": "PxnWDkyiIOxs"
      },
      "execution_count": null,
      "outputs": []
    },
    {
      "cell_type": "code",
      "source": [
        "from datasets import load_dataset\n",
        "\n",
        "english_dataset = load_dataset(\"/content/drive/MyDrive/Deep Learning Project/Reviews.csv\")\n",
        "english_dataset"
      ],
      "metadata": {
        "id": "6B1B9XAUHvoq"
      },
      "execution_count": null,
      "outputs": []
    },
    {
      "cell_type": "code",
      "execution_count": null,
      "metadata": {
        "id": "nhxDODcEuHJj"
      },
      "outputs": [],
      "source": [
        "df_reviews[\"Text\"][1]"
      ]
    },
    {
      "cell_type": "code",
      "execution_count": null,
      "metadata": {
        "id": "HewbLmhMQAUB"
      },
      "outputs": [],
      "source": [
        "model.compile(loss='categorical_crossentropy',optimizer='adam')"
      ]
    },
    {
      "cell_type": "code",
      "execution_count": null,
      "metadata": {
        "id": "msVddir1fRei"
      },
      "outputs": [],
      "source": [
        "model.fit(train_dataset,epochs=3,verbose=2,validation_data=test_dataset)"
      ]
    },
    {
      "cell_type": "code",
      "execution_count": 107,
      "metadata": {
        "id": "nUGeci51KKtm"
      },
      "outputs": [],
      "source": [
        "vocab_size = 100\n",
        "src_txt_length = 80\n",
        "sum_txt_length = 30\n",
        "# article input model\n",
        "inputs1 = Input(shape=(src_txt_length,))\n",
        "article1 = Embedding(vocab_size, 128)(inputs1)\n",
        "article2 = LSTM(128)(article1)\n",
        "article3 = RepeatVector(sum_txt_length)(article2)\n",
        "# summary input model\n",
        "inputs2 = Input(shape=(sum_txt_length,))\n",
        "summ1 = Embedding(vocab_size, 128)(inputs2)\n",
        "# decoder model\n",
        "decoder1 = concatenate([article3, summ1])\n",
        "decoder2 = LSTM(128)(decoder1)\n",
        "outputs = Dense(vocab_size, activation='softmax')(decoder2)\n",
        "# tie it together [article, summary] [word]\n",
        "DL_Model = Model(inputs=[inputs1, inputs2], outputs=outputs)\n",
        "DL_Model.compile(optimizer='rmsprop', loss='sparse_categorical_crossentropy',metrics='accuracy')"
      ]
    },
    {
      "cell_type": "code",
      "execution_count": null,
      "metadata": {
        "id": "dLN6Fe0uv1j4"
      },
      "outputs": [],
      "source": [
        "broken = DL_Model.fit([x_train, y_train[:,:-1]], y_train.reshape(y_train.shape[0], y_train.shape[1], 1)[:,1:], \n",
        "               epochs=3, callbacks=[es], batch_size=512, verbose=2,\n",
        "               validation_data=([x_test, y_test[:,:-1]], y_test.reshape(y_test.shape[0], y_test.shape[1], 1)[:,1:]))"
      ]
    },
    {
      "cell_type": "code",
      "source": [],
      "metadata": {
        "id": "h3GjHfxwq5L-"
      },
      "execution_count": null,
      "outputs": []
    }
  ],
  "metadata": {
    "colab": {
      "provenance": [],
      "include_colab_link": true
    },
    "gpuClass": "standard",
    "kernelspec": {
      "display_name": "Python 3",
      "name": "python3"
    },
    "language_info": {
      "name": "python"
    },
    "widgets": {
      "application/vnd.jupyter.widget-state+json": {
        "996929eec86e4caaad804224f0b41afe": {
          "model_module": "@jupyter-widgets/controls",
          "model_name": "HBoxModel",
          "model_module_version": "1.5.0",
          "state": {
            "_dom_classes": [],
            "_model_module": "@jupyter-widgets/controls",
            "_model_module_version": "1.5.0",
            "_model_name": "HBoxModel",
            "_view_count": null,
            "_view_module": "@jupyter-widgets/controls",
            "_view_module_version": "1.5.0",
            "_view_name": "HBoxView",
            "box_style": "",
            "children": [
              "IPY_MODEL_73be8b1a496c409288555a32cfe31bd4",
              "IPY_MODEL_b0a76f89f1944c24b975fdaa593090b1",
              "IPY_MODEL_fbfc099b088440e892d6babc8f4f5aa0"
            ],
            "layout": "IPY_MODEL_1332372e33884e42a7bac5e8a6e009cc"
          }
        },
        "73be8b1a496c409288555a32cfe31bd4": {
          "model_module": "@jupyter-widgets/controls",
          "model_name": "HTMLModel",
          "model_module_version": "1.5.0",
          "state": {
            "_dom_classes": [],
            "_model_module": "@jupyter-widgets/controls",
            "_model_module_version": "1.5.0",
            "_model_name": "HTMLModel",
            "_view_count": null,
            "_view_module": "@jupyter-widgets/controls",
            "_view_module_version": "1.5.0",
            "_view_name": "HTMLView",
            "description": "",
            "description_tooltip": null,
            "layout": "IPY_MODEL_a864b8235a094adeadb56abc7f4f6afd",
            "placeholder": "​",
            "style": "IPY_MODEL_cedd0858b8884b2ba2125f4f92c79a07",
            "value": "Downloading: 100%"
          }
        },
        "b0a76f89f1944c24b975fdaa593090b1": {
          "model_module": "@jupyter-widgets/controls",
          "model_name": "FloatProgressModel",
          "model_module_version": "1.5.0",
          "state": {
            "_dom_classes": [],
            "_model_module": "@jupyter-widgets/controls",
            "_model_module_version": "1.5.0",
            "_model_name": "FloatProgressModel",
            "_view_count": null,
            "_view_module": "@jupyter-widgets/controls",
            "_view_module_version": "1.5.0",
            "_view_name": "ProgressView",
            "bar_style": "success",
            "description": "",
            "description_tooltip": null,
            "layout": "IPY_MODEL_de21ea54ddbc46b4b0ec366ecdc5d282",
            "max": 267967963,
            "min": 0,
            "orientation": "horizontal",
            "style": "IPY_MODEL_458d21cbb52449c5b4467a73be640797",
            "value": 267967963
          }
        },
        "fbfc099b088440e892d6babc8f4f5aa0": {
          "model_module": "@jupyter-widgets/controls",
          "model_name": "HTMLModel",
          "model_module_version": "1.5.0",
          "state": {
            "_dom_classes": [],
            "_model_module": "@jupyter-widgets/controls",
            "_model_module_version": "1.5.0",
            "_model_name": "HTMLModel",
            "_view_count": null,
            "_view_module": "@jupyter-widgets/controls",
            "_view_module_version": "1.5.0",
            "_view_name": "HTMLView",
            "description": "",
            "description_tooltip": null,
            "layout": "IPY_MODEL_bfd2fa5553854bbb8b5f7933e87ea37e",
            "placeholder": "​",
            "style": "IPY_MODEL_1b0e6cec6bc3414c88c4663743203fcc",
            "value": " 268M/268M [00:11&lt;00:00, 30.6MB/s]"
          }
        },
        "1332372e33884e42a7bac5e8a6e009cc": {
          "model_module": "@jupyter-widgets/base",
          "model_name": "LayoutModel",
          "model_module_version": "1.2.0",
          "state": {
            "_model_module": "@jupyter-widgets/base",
            "_model_module_version": "1.2.0",
            "_model_name": "LayoutModel",
            "_view_count": null,
            "_view_module": "@jupyter-widgets/base",
            "_view_module_version": "1.2.0",
            "_view_name": "LayoutView",
            "align_content": null,
            "align_items": null,
            "align_self": null,
            "border": null,
            "bottom": null,
            "display": null,
            "flex": null,
            "flex_flow": null,
            "grid_area": null,
            "grid_auto_columns": null,
            "grid_auto_flow": null,
            "grid_auto_rows": null,
            "grid_column": null,
            "grid_gap": null,
            "grid_row": null,
            "grid_template_areas": null,
            "grid_template_columns": null,
            "grid_template_rows": null,
            "height": null,
            "justify_content": null,
            "justify_items": null,
            "left": null,
            "margin": null,
            "max_height": null,
            "max_width": null,
            "min_height": null,
            "min_width": null,
            "object_fit": null,
            "object_position": null,
            "order": null,
            "overflow": null,
            "overflow_x": null,
            "overflow_y": null,
            "padding": null,
            "right": null,
            "top": null,
            "visibility": null,
            "width": null
          }
        },
        "a864b8235a094adeadb56abc7f4f6afd": {
          "model_module": "@jupyter-widgets/base",
          "model_name": "LayoutModel",
          "model_module_version": "1.2.0",
          "state": {
            "_model_module": "@jupyter-widgets/base",
            "_model_module_version": "1.2.0",
            "_model_name": "LayoutModel",
            "_view_count": null,
            "_view_module": "@jupyter-widgets/base",
            "_view_module_version": "1.2.0",
            "_view_name": "LayoutView",
            "align_content": null,
            "align_items": null,
            "align_self": null,
            "border": null,
            "bottom": null,
            "display": null,
            "flex": null,
            "flex_flow": null,
            "grid_area": null,
            "grid_auto_columns": null,
            "grid_auto_flow": null,
            "grid_auto_rows": null,
            "grid_column": null,
            "grid_gap": null,
            "grid_row": null,
            "grid_template_areas": null,
            "grid_template_columns": null,
            "grid_template_rows": null,
            "height": null,
            "justify_content": null,
            "justify_items": null,
            "left": null,
            "margin": null,
            "max_height": null,
            "max_width": null,
            "min_height": null,
            "min_width": null,
            "object_fit": null,
            "object_position": null,
            "order": null,
            "overflow": null,
            "overflow_x": null,
            "overflow_y": null,
            "padding": null,
            "right": null,
            "top": null,
            "visibility": null,
            "width": null
          }
        },
        "cedd0858b8884b2ba2125f4f92c79a07": {
          "model_module": "@jupyter-widgets/controls",
          "model_name": "DescriptionStyleModel",
          "model_module_version": "1.5.0",
          "state": {
            "_model_module": "@jupyter-widgets/controls",
            "_model_module_version": "1.5.0",
            "_model_name": "DescriptionStyleModel",
            "_view_count": null,
            "_view_module": "@jupyter-widgets/base",
            "_view_module_version": "1.2.0",
            "_view_name": "StyleView",
            "description_width": ""
          }
        },
        "de21ea54ddbc46b4b0ec366ecdc5d282": {
          "model_module": "@jupyter-widgets/base",
          "model_name": "LayoutModel",
          "model_module_version": "1.2.0",
          "state": {
            "_model_module": "@jupyter-widgets/base",
            "_model_module_version": "1.2.0",
            "_model_name": "LayoutModel",
            "_view_count": null,
            "_view_module": "@jupyter-widgets/base",
            "_view_module_version": "1.2.0",
            "_view_name": "LayoutView",
            "align_content": null,
            "align_items": null,
            "align_self": null,
            "border": null,
            "bottom": null,
            "display": null,
            "flex": null,
            "flex_flow": null,
            "grid_area": null,
            "grid_auto_columns": null,
            "grid_auto_flow": null,
            "grid_auto_rows": null,
            "grid_column": null,
            "grid_gap": null,
            "grid_row": null,
            "grid_template_areas": null,
            "grid_template_columns": null,
            "grid_template_rows": null,
            "height": null,
            "justify_content": null,
            "justify_items": null,
            "left": null,
            "margin": null,
            "max_height": null,
            "max_width": null,
            "min_height": null,
            "min_width": null,
            "object_fit": null,
            "object_position": null,
            "order": null,
            "overflow": null,
            "overflow_x": null,
            "overflow_y": null,
            "padding": null,
            "right": null,
            "top": null,
            "visibility": null,
            "width": null
          }
        },
        "458d21cbb52449c5b4467a73be640797": {
          "model_module": "@jupyter-widgets/controls",
          "model_name": "ProgressStyleModel",
          "model_module_version": "1.5.0",
          "state": {
            "_model_module": "@jupyter-widgets/controls",
            "_model_module_version": "1.5.0",
            "_model_name": "ProgressStyleModel",
            "_view_count": null,
            "_view_module": "@jupyter-widgets/base",
            "_view_module_version": "1.2.0",
            "_view_name": "StyleView",
            "bar_color": null,
            "description_width": ""
          }
        },
        "bfd2fa5553854bbb8b5f7933e87ea37e": {
          "model_module": "@jupyter-widgets/base",
          "model_name": "LayoutModel",
          "model_module_version": "1.2.0",
          "state": {
            "_model_module": "@jupyter-widgets/base",
            "_model_module_version": "1.2.0",
            "_model_name": "LayoutModel",
            "_view_count": null,
            "_view_module": "@jupyter-widgets/base",
            "_view_module_version": "1.2.0",
            "_view_name": "LayoutView",
            "align_content": null,
            "align_items": null,
            "align_self": null,
            "border": null,
            "bottom": null,
            "display": null,
            "flex": null,
            "flex_flow": null,
            "grid_area": null,
            "grid_auto_columns": null,
            "grid_auto_flow": null,
            "grid_auto_rows": null,
            "grid_column": null,
            "grid_gap": null,
            "grid_row": null,
            "grid_template_areas": null,
            "grid_template_columns": null,
            "grid_template_rows": null,
            "height": null,
            "justify_content": null,
            "justify_items": null,
            "left": null,
            "margin": null,
            "max_height": null,
            "max_width": null,
            "min_height": null,
            "min_width": null,
            "object_fit": null,
            "object_position": null,
            "order": null,
            "overflow": null,
            "overflow_x": null,
            "overflow_y": null,
            "padding": null,
            "right": null,
            "top": null,
            "visibility": null,
            "width": null
          }
        },
        "1b0e6cec6bc3414c88c4663743203fcc": {
          "model_module": "@jupyter-widgets/controls",
          "model_name": "DescriptionStyleModel",
          "model_module_version": "1.5.0",
          "state": {
            "_model_module": "@jupyter-widgets/controls",
            "_model_module_version": "1.5.0",
            "_model_name": "DescriptionStyleModel",
            "_view_count": null,
            "_view_module": "@jupyter-widgets/base",
            "_view_module_version": "1.2.0",
            "_view_name": "StyleView",
            "description_width": ""
          }
        }
      }
    }
  },
  "nbformat": 4,
  "nbformat_minor": 0
}