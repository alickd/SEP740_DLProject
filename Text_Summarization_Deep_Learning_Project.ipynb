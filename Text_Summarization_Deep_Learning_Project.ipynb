{
  "cells": [
    {
      "cell_type": "markdown",
      "metadata": {
        "id": "view-in-github",
        "colab_type": "text"
      },
      "source": [
        "<a href=\"https://colab.research.google.com/github/alickd/SEP740_DLProject/blob/main/Text_Summarization_Deep_Learning_Project.ipynb\" target=\"_parent\"><img src=\"https://colab.research.google.com/assets/colab-badge.svg\" alt=\"Open In Colab\"/></a>"
      ]
    },
    {
      "cell_type": "markdown",
      "metadata": {
        "id": "MK-ty_VzQrQ1"
      },
      "source": [
        "Text Summarizer"
      ]
    },
    {
      "cell_type": "markdown",
      "source": [
        "Dylan Alick & Jonathan Wong "
      ],
      "metadata": {
        "id": "LOzPq0ErYr26"
      }
    },
    {
      "cell_type": "code",
      "execution_count": 2,
      "metadata": {
        "id": "1hv-GqcSOrxk",
        "colab": {
          "base_uri": "https://localhost:8080/"
        },
        "outputId": "5418c012-b735-4ed3-9bbe-aa46e512bd7c"
      },
      "outputs": [
        {
          "output_type": "stream",
          "name": "stdout",
          "text": [
            "Looking in indexes: https://pypi.org/simple, https://us-python.pkg.dev/colab-wheels/public/simple/\n",
            "Requirement already satisfied: transformers in /usr/local/lib/python3.8/dist-packages (4.25.1)\n",
            "Requirement already satisfied: numpy>=1.17 in /usr/local/lib/python3.8/dist-packages (from transformers) (1.21.6)\n",
            "Requirement already satisfied: packaging>=20.0 in /usr/local/lib/python3.8/dist-packages (from transformers) (21.3)\n",
            "Requirement already satisfied: pyyaml>=5.1 in /usr/local/lib/python3.8/dist-packages (from transformers) (6.0)\n",
            "Requirement already satisfied: requests in /usr/local/lib/python3.8/dist-packages (from transformers) (2.23.0)\n",
            "Requirement already satisfied: tokenizers!=0.11.3,<0.14,>=0.11.1 in /usr/local/lib/python3.8/dist-packages (from transformers) (0.13.2)\n",
            "Requirement already satisfied: filelock in /usr/local/lib/python3.8/dist-packages (from transformers) (3.8.0)\n",
            "Requirement already satisfied: huggingface-hub<1.0,>=0.10.0 in /usr/local/lib/python3.8/dist-packages (from transformers) (0.11.1)\n",
            "Requirement already satisfied: tqdm>=4.27 in /usr/local/lib/python3.8/dist-packages (from transformers) (4.64.1)\n",
            "Requirement already satisfied: regex!=2019.12.17 in /usr/local/lib/python3.8/dist-packages (from transformers) (2022.6.2)\n",
            "Requirement already satisfied: typing-extensions>=3.7.4.3 in /usr/local/lib/python3.8/dist-packages (from huggingface-hub<1.0,>=0.10.0->transformers) (4.4.0)\n",
            "Requirement already satisfied: pyparsing!=3.0.5,>=2.0.2 in /usr/local/lib/python3.8/dist-packages (from packaging>=20.0->transformers) (3.0.9)\n",
            "Requirement already satisfied: certifi>=2017.4.17 in /usr/local/lib/python3.8/dist-packages (from requests->transformers) (2022.9.24)\n",
            "Requirement already satisfied: chardet<4,>=3.0.2 in /usr/local/lib/python3.8/dist-packages (from requests->transformers) (3.0.4)\n",
            "Requirement already satisfied: idna<3,>=2.5 in /usr/local/lib/python3.8/dist-packages (from requests->transformers) (2.10)\n",
            "Requirement already satisfied: urllib3!=1.25.0,!=1.25.1,<1.26,>=1.21.1 in /usr/local/lib/python3.8/dist-packages (from requests->transformers) (1.24.3)\n",
            "Looking in indexes: https://pypi.org/simple, https://us-python.pkg.dev/colab-wheels/public/simple/\n",
            "Requirement already satisfied: sumy in /usr/local/lib/python3.8/dist-packages (0.11.0)\n",
            "Requirement already satisfied: breadability>=0.1.20 in /usr/local/lib/python3.8/dist-packages (from sumy) (0.1.20)\n",
            "Requirement already satisfied: nltk>=3.0.2 in /usr/local/lib/python3.8/dist-packages (from sumy) (3.7)\n",
            "Requirement already satisfied: docopt<0.7,>=0.6.1 in /usr/local/lib/python3.8/dist-packages (from sumy) (0.6.2)\n",
            "Requirement already satisfied: pycountry>=18.2.23 in /usr/local/lib/python3.8/dist-packages (from sumy) (22.3.5)\n",
            "Requirement already satisfied: requests>=2.7.0 in /usr/local/lib/python3.8/dist-packages (from sumy) (2.23.0)\n",
            "Requirement already satisfied: chardet in /usr/local/lib/python3.8/dist-packages (from breadability>=0.1.20->sumy) (3.0.4)\n",
            "Requirement already satisfied: lxml>=2.0 in /usr/local/lib/python3.8/dist-packages (from breadability>=0.1.20->sumy) (4.9.1)\n",
            "Requirement already satisfied: click in /usr/local/lib/python3.8/dist-packages (from nltk>=3.0.2->sumy) (7.1.2)\n",
            "Requirement already satisfied: regex>=2021.8.3 in /usr/local/lib/python3.8/dist-packages (from nltk>=3.0.2->sumy) (2022.6.2)\n",
            "Requirement already satisfied: tqdm in /usr/local/lib/python3.8/dist-packages (from nltk>=3.0.2->sumy) (4.64.1)\n",
            "Requirement already satisfied: joblib in /usr/local/lib/python3.8/dist-packages (from nltk>=3.0.2->sumy) (1.2.0)\n",
            "Requirement already satisfied: setuptools in /usr/local/lib/python3.8/dist-packages (from pycountry>=18.2.23->sumy) (57.4.0)\n",
            "Requirement already satisfied: idna<3,>=2.5 in /usr/local/lib/python3.8/dist-packages (from requests>=2.7.0->sumy) (2.10)\n",
            "Requirement already satisfied: certifi>=2017.4.17 in /usr/local/lib/python3.8/dist-packages (from requests>=2.7.0->sumy) (2022.9.24)\n",
            "Requirement already satisfied: urllib3!=1.25.0,!=1.25.1,<1.26,>=1.21.1 in /usr/local/lib/python3.8/dist-packages (from requests>=2.7.0->sumy) (1.24.3)\n"
          ]
        }
      ],
      "source": [
        "#Install transformers for pre-trained Hugging Face Libraries\n",
        "!pip install transformers\n",
        "!pip install sumy"
      ]
    },
    {
      "cell_type": "code",
      "execution_count": 3,
      "metadata": {
        "id": "IRjW1VU-2vLp",
        "colab": {
          "base_uri": "https://localhost:8080/"
        },
        "outputId": "4974736d-4baf-41f8-a199-28da2e83e9fb"
      },
      "outputs": [
        {
          "output_type": "stream",
          "name": "stdout",
          "text": [
            "Drive already mounted at /content/drive; to attempt to forcibly remount, call drive.mount(\"/content/drive\", force_remount=True).\n"
          ]
        }
      ],
      "source": [
        "# Moutning Google Drive to be \n",
        "from google.colab import drive\n",
        "drive.mount('/content/drive')"
      ]
    },
    {
      "cell_type": "code",
      "execution_count": 4,
      "metadata": {
        "id": "gqkg9SxOFZoJ",
        "colab": {
          "base_uri": "https://localhost:8080/"
        },
        "outputId": "8bf2810f-54f3-42e5-c8a4-fcfde6ce98ab"
      },
      "outputs": [
        {
          "output_type": "stream",
          "name": "stderr",
          "text": [
            "[nltk_data] Downloading package punkt to /root/nltk_data...\n",
            "[nltk_data]   Package punkt is already up-to-date!\n"
          ]
        }
      ],
      "source": [
        "#Import Libraries\n",
        "import pandas as pd\n",
        "import numpy as np\n",
        "import matplotlib.pyplot as plt\n",
        "import seaborn as sns\n",
        "import tensorflow as tf\n",
        "from tensorflow import keras\n",
        "import re\n",
        "import string\n",
        "from keras.preprocessing.text import Tokenizer \n",
        "from keras import backend as K\n",
        "\n",
        "import nltk\n",
        "nltk.download('punkt')\n",
        "from nltk.corpus import stopwords \n",
        "from nltk.tokenize import word_tokenize\n",
        "\n",
        "import gensim\n",
        "from gensim.summarization import summarize\n",
        "from gensim.parsing.preprocessing import remove_stopwords\n",
        "\n",
        "from tensorflow import keras\n",
        "from keras.utils.data_utils import pad_sequences\n",
        "import keras_preprocessing\n",
        "from keras.preprocessing import text,sequence\n",
        "from keras.models import Model\n",
        "from keras.layers import Input,Dense,Embedding,LSTM,Dropout, RepeatVector, concatenate, TimeDistributed\n",
        "from tensorflow.keras.layers import Attention\n",
        "\n",
        "from keras.callbacks import EarlyStopping\n",
        "\n",
        "import warnings\n",
        "warnings.filterwarnings(\"ignore\")"
      ]
    },
    {
      "cell_type": "code",
      "execution_count": 5,
      "metadata": {
        "id": "GkB_P4eoTxRQ",
        "colab": {
          "base_uri": "https://localhost:8080/",
          "height": 206
        },
        "outputId": "2b14a56c-69ec-4d65-bcdd-44042e0c8841"
      },
      "outputs": [
        {
          "output_type": "execute_result",
          "data": {
            "text/plain": [
              "                 Summary                                               Text\n",
              "0  Good Quality Dog Food  I have bought several of the Vitality canned d...\n",
              "1      Not as Advertised  Product arrived labeled as Jumbo Salted Peanut...\n",
              "2  \"Delight\" says it all  This is a confection that has been around a fe...\n",
              "3         Cough Medicine  If you are looking for the secret ingredient i...\n",
              "4            Great taffy  Great taffy at a great price.  There was a wid..."
            ],
            "text/html": [
              "\n",
              "  <div id=\"df-d36c5ace-5db4-43e9-b1e9-72ff64c32c54\">\n",
              "    <div class=\"colab-df-container\">\n",
              "      <div>\n",
              "<style scoped>\n",
              "    .dataframe tbody tr th:only-of-type {\n",
              "        vertical-align: middle;\n",
              "    }\n",
              "\n",
              "    .dataframe tbody tr th {\n",
              "        vertical-align: top;\n",
              "    }\n",
              "\n",
              "    .dataframe thead th {\n",
              "        text-align: right;\n",
              "    }\n",
              "</style>\n",
              "<table border=\"1\" class=\"dataframe\">\n",
              "  <thead>\n",
              "    <tr style=\"text-align: right;\">\n",
              "      <th></th>\n",
              "      <th>Summary</th>\n",
              "      <th>Text</th>\n",
              "    </tr>\n",
              "  </thead>\n",
              "  <tbody>\n",
              "    <tr>\n",
              "      <th>0</th>\n",
              "      <td>Good Quality Dog Food</td>\n",
              "      <td>I have bought several of the Vitality canned d...</td>\n",
              "    </tr>\n",
              "    <tr>\n",
              "      <th>1</th>\n",
              "      <td>Not as Advertised</td>\n",
              "      <td>Product arrived labeled as Jumbo Salted Peanut...</td>\n",
              "    </tr>\n",
              "    <tr>\n",
              "      <th>2</th>\n",
              "      <td>\"Delight\" says it all</td>\n",
              "      <td>This is a confection that has been around a fe...</td>\n",
              "    </tr>\n",
              "    <tr>\n",
              "      <th>3</th>\n",
              "      <td>Cough Medicine</td>\n",
              "      <td>If you are looking for the secret ingredient i...</td>\n",
              "    </tr>\n",
              "    <tr>\n",
              "      <th>4</th>\n",
              "      <td>Great taffy</td>\n",
              "      <td>Great taffy at a great price.  There was a wid...</td>\n",
              "    </tr>\n",
              "  </tbody>\n",
              "</table>\n",
              "</div>\n",
              "      <button class=\"colab-df-convert\" onclick=\"convertToInteractive('df-d36c5ace-5db4-43e9-b1e9-72ff64c32c54')\"\n",
              "              title=\"Convert this dataframe to an interactive table.\"\n",
              "              style=\"display:none;\">\n",
              "        \n",
              "  <svg xmlns=\"http://www.w3.org/2000/svg\" height=\"24px\"viewBox=\"0 0 24 24\"\n",
              "       width=\"24px\">\n",
              "    <path d=\"M0 0h24v24H0V0z\" fill=\"none\"/>\n",
              "    <path d=\"M18.56 5.44l.94 2.06.94-2.06 2.06-.94-2.06-.94-.94-2.06-.94 2.06-2.06.94zm-11 1L8.5 8.5l.94-2.06 2.06-.94-2.06-.94L8.5 2.5l-.94 2.06-2.06.94zm10 10l.94 2.06.94-2.06 2.06-.94-2.06-.94-.94-2.06-.94 2.06-2.06.94z\"/><path d=\"M17.41 7.96l-1.37-1.37c-.4-.4-.92-.59-1.43-.59-.52 0-1.04.2-1.43.59L10.3 9.45l-7.72 7.72c-.78.78-.78 2.05 0 2.83L4 21.41c.39.39.9.59 1.41.59.51 0 1.02-.2 1.41-.59l7.78-7.78 2.81-2.81c.8-.78.8-2.07 0-2.86zM5.41 20L4 18.59l7.72-7.72 1.47 1.35L5.41 20z\"/>\n",
              "  </svg>\n",
              "      </button>\n",
              "      \n",
              "  <style>\n",
              "    .colab-df-container {\n",
              "      display:flex;\n",
              "      flex-wrap:wrap;\n",
              "      gap: 12px;\n",
              "    }\n",
              "\n",
              "    .colab-df-convert {\n",
              "      background-color: #E8F0FE;\n",
              "      border: none;\n",
              "      border-radius: 50%;\n",
              "      cursor: pointer;\n",
              "      display: none;\n",
              "      fill: #1967D2;\n",
              "      height: 32px;\n",
              "      padding: 0 0 0 0;\n",
              "      width: 32px;\n",
              "    }\n",
              "\n",
              "    .colab-df-convert:hover {\n",
              "      background-color: #E2EBFA;\n",
              "      box-shadow: 0px 1px 2px rgba(60, 64, 67, 0.3), 0px 1px 3px 1px rgba(60, 64, 67, 0.15);\n",
              "      fill: #174EA6;\n",
              "    }\n",
              "\n",
              "    [theme=dark] .colab-df-convert {\n",
              "      background-color: #3B4455;\n",
              "      fill: #D2E3FC;\n",
              "    }\n",
              "\n",
              "    [theme=dark] .colab-df-convert:hover {\n",
              "      background-color: #434B5C;\n",
              "      box-shadow: 0px 1px 3px 1px rgba(0, 0, 0, 0.15);\n",
              "      filter: drop-shadow(0px 1px 2px rgba(0, 0, 0, 0.3));\n",
              "      fill: #FFFFFF;\n",
              "    }\n",
              "  </style>\n",
              "\n",
              "      <script>\n",
              "        const buttonEl =\n",
              "          document.querySelector('#df-d36c5ace-5db4-43e9-b1e9-72ff64c32c54 button.colab-df-convert');\n",
              "        buttonEl.style.display =\n",
              "          google.colab.kernel.accessAllowed ? 'block' : 'none';\n",
              "\n",
              "        async function convertToInteractive(key) {\n",
              "          const element = document.querySelector('#df-d36c5ace-5db4-43e9-b1e9-72ff64c32c54');\n",
              "          const dataTable =\n",
              "            await google.colab.kernel.invokeFunction('convertToInteractive',\n",
              "                                                     [key], {});\n",
              "          if (!dataTable) return;\n",
              "\n",
              "          const docLinkHtml = 'Like what you see? Visit the ' +\n",
              "            '<a target=\"_blank\" href=https://colab.research.google.com/notebooks/data_table.ipynb>data table notebook</a>'\n",
              "            + ' to learn more about interactive tables.';\n",
              "          element.innerHTML = '';\n",
              "          dataTable['output_type'] = 'display_data';\n",
              "          await google.colab.output.renderOutput(dataTable, element);\n",
              "          const docLink = document.createElement('div');\n",
              "          docLink.innerHTML = docLinkHtml;\n",
              "          element.appendChild(docLink);\n",
              "        }\n",
              "      </script>\n",
              "    </div>\n",
              "  </div>\n",
              "  "
            ]
          },
          "metadata": {},
          "execution_count": 5
        }
      ],
      "source": [
        "#Import and read dataset\n",
        "path  = \"/content/drive/MyDrive/Deep Learning Project/Reviews.xlsx\"\n",
        "#Reducing data size due to computational limitations, dataset size = 50k\n",
        "df_reviews = pd.read_csv(path,nrows=50000)\n",
        "#Drop columns not needed for model\n",
        "df_reviews.drop(columns=['Id','ProductId','UserId','ProfileName','HelpfulnessNumerator','HelpfulnessDenominator','Score','Time'],inplace=True,axis=1)\n",
        "df_reviews.dropna(axis=0,inplace=True)\n",
        "df_reviews.head(5)"
      ]
    },
    {
      "cell_type": "markdown",
      "metadata": {
        "id": "8EJ-5kOo5cWl"
      },
      "source": [
        "LSA Machine Learning Model Summary"
      ]
    },
    {
      "cell_type": "code",
      "execution_count": 6,
      "metadata": {
        "id": "vmKfOha_LLQe",
        "colab": {
          "base_uri": "https://localhost:8080/"
        },
        "outputId": "71932302-bc28-45e4-cab1-cb8ddb385c10"
      },
      "outputs": [
        {
          "output_type": "stream",
          "name": "stdout",
          "text": [
            "I got a wild hair for taffy and ordered this five pound bag. The taffy was all very enjoyable with many flavors: watermelon, root beer, melon, peppermint, grape, etc. My only complaint is there was a bit too much red/black licorice-flavored pieces (just not my particular favorites). Between me, my kids, and my husband, this lasted only two weeks! I would recommend this brand of taffy -- it was a delightful treat.\n",
            "---------------------------------------------------------------------\n",
            "Summary\n",
            "The taffy was all very enjoyable with many flavors: watermelon, root beer, melon, peppermint, grape, etc.\n"
          ]
        }
      ],
      "source": [
        "# Import the summarizer \n",
        "import sumy\n",
        "from sumy.summarizers.lsa import LsaSummarizer \n",
        "\n",
        "# Text to summarize \n",
        "lsa_summary=df_reviews['Text'][5]\n",
        "\n",
        "# Parsing the text string using PlaintextParser \n",
        "from sumy.nlp.tokenizers import Tokenizer \n",
        "from sumy.parsers.plaintext import PlaintextParser \n",
        "\n",
        "parser=PlaintextParser.from_string(lsa_summary,Tokenizer('english')) \n",
        "\n",
        "# Creating the summarizer \n",
        "lsa_summarizer=LsaSummarizer()\n",
        "lsa_summary= lsa_summarizer(parser.document,1)\n",
        "\n",
        "# Printing the summary \n",
        "print(df_reviews['Text'][5])\n",
        "print(\"---------------------------------------------------------------------\")\n",
        "print(\"Summary\")\n",
        "for sentence in lsa_summary: \n",
        "    print(sentence) "
      ]
    },
    {
      "cell_type": "markdown",
      "metadata": {
        "id": "IN3YpmHXR6cS"
      },
      "source": [
        "Pre-Processing Text Data"
      ]
    },
    {
      "cell_type": "code",
      "execution_count": 7,
      "metadata": {
        "id": "DGpWI_W8D-9M",
        "colab": {
          "base_uri": "https://localhost:8080/"
        },
        "outputId": "a7ec0530-497e-49e0-cfea-7f0524fd0754"
      },
      "outputs": [
        {
          "output_type": "stream",
          "name": "stdout",
          "text": [
            "Before Pre-Processing\n",
            "Review  1\n",
            "I have bought several of the Vitality canned dog food products and have found them all to be of good quality. The product looks more like a stew than a processed meat and it smells better. My Labrador is finicky and she appreciates this product better than  most.\n",
            "Summary\n",
            "Good Quality Dog Food\n",
            "Review  2\n",
            "Product arrived labeled as Jumbo Salted Peanuts...the peanuts were actually small sized unsalted. Not sure if this was an error or if the vendor intended to represent the product as \"Jumbo\".\n",
            "Summary\n",
            "Not as Advertised\n",
            "Review  3\n",
            "This is a confection that has been around a few centuries.  It is a light, pillowy citrus gelatin with nuts - in this case Filberts. And it is cut into tiny squares and then liberally coated with powdered sugar.  And it is a tiny mouthful of heaven.  Not too chewy, and very flavorful.  I highly recommend this yummy treat.  If you are familiar with the story of C.S. Lewis' \"The Lion, The Witch, and The Wardrobe\" - this is the treat that seduces Edmund into selling out his Brother and Sisters to the Witch.\n",
            "Summary\n",
            "\"Delight\" says it all\n"
          ]
        }
      ],
      "source": [
        "print(\"Before Pre-Processing\")\n",
        "#Printing first three rows of original reviews and summary\n",
        "for i in range(3):\n",
        "  print(\"Review \", i+1)\n",
        "  print(df_reviews['Text'][i])\n",
        "  print(\"Summary\")\n",
        "  print(df_reviews['Summary'][i])"
      ]
    },
    {
      "cell_type": "code",
      "execution_count": 8,
      "metadata": {
        "id": "DgA93zzmSAWK"
      },
      "outputs": [],
      "source": [
        "#Function created to clean text as part of preprocessing data - includes removing numbers, punctuation, special characters, and stopwords\n",
        "def clean_text(text):\n",
        "  #Removing numbers\n",
        "  text = re.sub('[^a-zA-Z]', ' ', text)\n",
        "  #Convert text into lower case\n",
        "  text = text.lower()\n",
        "  #Remove URL links\n",
        "  text = re.sub(r'http\\S+',' ',text)\n",
        "  #Removing extra spaces/lines\n",
        "  text = re.sub(' +',' ',text)\n",
        "  #Removing punctuation and characters\n",
        "  text = re.sub('[^\\w\\s]','',text)\n",
        "  #Removing stopwords\n",
        "  text = remove_stopwords(text)\n",
        "  return text"
      ]
    },
    {
      "cell_type": "code",
      "execution_count": 9,
      "metadata": {
        "id": "JEZqwCKgSX7l"
      },
      "outputs": [],
      "source": [
        "#Pre-Processing Text Data\n",
        "df_reviews[\"Summary\"] = df_reviews[\"Summary\"].apply(clean_text)\n",
        "df_reviews[\"Text\"] = df_reviews[\"Text\"].apply(clean_text)"
      ]
    },
    {
      "cell_type": "code",
      "source": [
        "#For Seq2Seq model, adding a start and end token for processing\n",
        "df_reviews['Text'] = df_reviews['Text'].apply(lambda x : 'start '+ x + ' end')"
      ],
      "metadata": {
        "id": "lZyumVdDjs73"
      },
      "execution_count": 10,
      "outputs": []
    },
    {
      "cell_type": "code",
      "execution_count": 11,
      "metadata": {
        "id": "jUOz_8BRH3AP",
        "colab": {
          "base_uri": "https://localhost:8080/"
        },
        "outputId": "22714a03-dc58-4b49-da46-a82719b8098d"
      },
      "outputs": [
        {
          "output_type": "stream",
          "name": "stdout",
          "text": [
            "After Pre-Processing\n",
            "Review  1\n",
            "start bought vitality canned dog food products good quality product looks like stew processed meat smells better labrador finicky appreciates product better end\n",
            "Summary\n",
            "good quality dog food\n",
            "Review  2\n",
            "start product arrived labeled jumbo salted peanuts peanuts actually small sized unsalted sure error vendor intended represent product jumbo end\n",
            "Summary\n",
            "advertised\n",
            "Review  3\n",
            "start confection centuries light pillowy citrus gelatin nuts case filberts cut tiny squares liberally coated powdered sugar tiny mouthful heaven chewy flavorful highly recommend yummy treat familiar story c s lewis lion witch wardrobe treat seduces edmund selling brother sisters witch end\n",
            "Summary\n",
            "delight says\n"
          ]
        }
      ],
      "source": [
        "print(\"After Pre-Processing\")\n",
        "for i in range(3):\n",
        "  print(\"Review \", i+1)\n",
        "  print(df_reviews['Text'][i])\n",
        "  print(\"Summary\")\n",
        "  print(df_reviews['Summary'][i])"
      ]
    },
    {
      "cell_type": "markdown",
      "metadata": {
        "id": "hfEuVx6oa9r5"
      },
      "source": [
        "Visualize the Data"
      ]
    },
    {
      "cell_type": "code",
      "execution_count": 12,
      "metadata": {
        "id": "hDFPSRYloDHl",
        "colab": {
          "base_uri": "https://localhost:8080/",
          "height": 499
        },
        "outputId": "413b7abf-b8e9-4b68-a58e-a6dbca4e4657"
      },
      "outputs": [
        {
          "output_type": "display_data",
          "data": {
            "text/plain": [
              "<Figure size 576x576 with 1 Axes>"
            ],
            "image/png": "[encoded data removed]"
          },
          "metadata": {
            "needs_background": "light"
          }
        }
      ],
      "source": [
        "import itertools\n",
        "import collections\n",
        "\n",
        "lemmatized_tokens = list(df_reviews[\"Summary\"])\n",
        "token_words = list(itertools.chain(lemmatized_tokens))\n",
        "\n",
        "#Frequency of Words Plot\n",
        "counts_no=collections.Counter(token_words)\n",
        "words = pd.DataFrame(counts_no.most_common(30),columns=['text','count'])\n",
        "fig,ax = plt.subplots(figsize=(8,8))\n",
        "words.sort_values(by='count').plot.barh(x='text',y='count',ax=ax,color='green')\n",
        "ax.set_title(\"Frequency of Words\")\n",
        "plt.show()"
      ]
    },
    {
      "cell_type": "code",
      "execution_count": 13,
      "metadata": {
        "id": "3FXeu-VNao3g",
        "colab": {
          "base_uri": "https://localhost:8080/",
          "height": 281
        },
        "outputId": "d703d1cb-19ff-4eaf-f1a7-6d9758dbddc6"
      },
      "outputs": [
        {
          "output_type": "display_data",
          "data": {
            "text/plain": [
              "<Figure size 432x288 with 2 Axes>"
            ],
            "image/png": "[encoded data removed]"
          },
          "metadata": {
            "needs_background": "light"
          }
        }
      ],
      "source": [
        "#Plotting distrubution of word count for reviews vs summary\n",
        "text_word_count = []\n",
        "summary_word_count = []\n",
        "\n",
        "#Populate the lists with sentence lengths\n",
        "for i in df_reviews['Text']:\n",
        "      text_word_count.append(len(i.split()))\n",
        "\n",
        "for i in df_reviews['Summary']:\n",
        "      summary_word_count.append(len(i.split()))\n",
        "\n",
        "length_df = pd.DataFrame({'Text':text_word_count, 'Summary':summary_word_count})\n",
        "\n",
        "length_df.hist()\n",
        "plt.show()"
      ]
    },
    {
      "cell_type": "code",
      "execution_count": 14,
      "metadata": {
        "id": "L7Z6Tzy71mjg"
      },
      "outputs": [],
      "source": [
        "#Splitting training and test data \n",
        "\n",
        "from sklearn.model_selection import train_test_split\n",
        "\n",
        "X_text = list(df_reviews['Text'].values)\n",
        "y_summary = list(df_reviews['Summary'].values)\n",
        "\n",
        "#Train/Test Split - 80%/20% \n",
        "X_train,X_test,Y_train,Y_test=train_test_split(X_text,y_summary,test_size=0.2,shuffle=True)"
      ]
    },
    {
      "cell_type": "markdown",
      "source": [
        "Tokenization"
      ],
      "metadata": {
        "id": "HSKU7M4qRAdg"
      }
    },
    {
      "cell_type": "code",
      "execution_count": 15,
      "metadata": {
        "id": "5oeHLE7ZcYEp",
        "colab": {
          "base_uri": "https://localhost:8080/"
        },
        "outputId": "626cb463-8e75-4b27-f1e8-73f67897b6e3"
      },
      "outputs": [
        {
          "output_type": "stream",
          "name": "stdout",
          "text": [
            "start years able flavored coffee creamer hydrogenated oils finally convenience singles like big cups coffee prepared use cup s lot cheaper large size drink lot coffee week awhile coffee drinker nice nice vanilla taste sugar satisfy sweet tooth good product added yucky stuff end\n",
            "better plain half half\n",
            "[   3   73  218  200   11 1077 2335 1056  462  766 7396    6  121  124\n",
            "   11 1111   20   33    4   66  258  184  102   35   66   11  310 1493\n",
            "   11  731   58   58  222    8   32 1070   36 1214    7   10  151 3267\n",
            "   74    2    0    0    0    0    0    0    0    0    0    0    0    0\n",
            "    0    0    0    0    0    0    0    0    0    0    0    0    0    0\n",
            "    0    0    0    0    0    0    0    0    0    0]\n",
            "(39998, 80)\n",
            "(39998, 80)\n"
          ]
        }
      ],
      "source": [
        "#Setting maximum length of characters for words and summaries\n",
        "MAX_LEN_TEXT = 80\n",
        "MAX_LEN_SUMMARY = 15\n",
        "\n",
        "#Tokenization of words to integer sequences for model to process \n",
        "from keras_preprocessing.text import Tokenizer\n",
        "\n",
        "x_tokenizer = Tokenizer()\n",
        "y_tokenizer = Tokenizer()\n",
        "\n",
        "x_tokenizer.fit_on_texts(list(X_train))\n",
        "y_tokenizer.fit_on_texts(list(Y_train))\n",
        "\n",
        "#Tokenize Train - convert text sequences to integer sequences\n",
        "x_train_token = x_tokenizer.texts_to_sequences(X_train)\n",
        "y_train_token = y_tokenizer.texts_to_sequences(Y_train)\n",
        "\n",
        "#Padding zeros up to the maximum length of text so all is same\n",
        "x_train = pad_sequences(x_train_token, maxlen = MAX_LEN_TEXT, padding = 'post')\n",
        "y_train = pad_sequences(y_train_token, maxlen = MAX_LEN_TEXT, padding = 'post')\n",
        "\n",
        "#Tokenize Test\n",
        "x_test_token = x_tokenizer.texts_to_sequences(X_test)\n",
        "y_test_token = y_tokenizer.texts_to_sequences(Y_test)\n",
        "\n",
        "#Padding zeros up to the maximum length of text so all is same\n",
        "x_test = pad_sequences(x_test_token, maxlen = MAX_LEN_TEXT)\n",
        "y_test = pad_sequences(y_test_token, maxlen = MAX_LEN_TEXT)\n",
        "\n",
        "x_voc_size = len(x_tokenizer.word_index)+1\n",
        "y_voc_size= len(y_tokenizer.word_index)+1\n",
        "\n",
        "print(X_train[1]) #text data\n",
        "print(Y_train[1]) #summary for text data \n",
        "print(x_train[1]) #text data in tokens\n",
        "\n",
        "print(x_train.shape) \n",
        "print(y_train.shape)"
      ]
    },
    {
      "cell_type": "code",
      "source": [
        "K.clear_session()\n",
        "#Number of nodes used for input generator\n",
        "latent_dim = 500"
      ],
      "metadata": {
        "id": "51GJw9A_fBN9"
      },
      "execution_count": 16,
      "outputs": []
    },
    {
      "cell_type": "markdown",
      "source": [
        "Deep Learning LSTM Seq2Seq Model"
      ],
      "metadata": {
        "id": "a8IduQk9T9c5"
      }
    },
    {
      "cell_type": "markdown",
      "source": [
        "Build the Model"
      ],
      "metadata": {
        "id": "S1h5f93jUO-L"
      }
    },
    {
      "cell_type": "code",
      "source": [
        "#Model is a 3 stacked LSTM for the encoder\n",
        "\n",
        "# Encoder\n",
        "encoder_inputs = Input(shape=(MAX_LEN_TEXT,))\n",
        "\n",
        "#Embedding Layer\n",
        "encoder_embedding = Embedding(x_voc_size, latent_dim, trainable=True)(encoder_inputs)\n",
        "\n",
        "# LSTM 1\n",
        "LSTM1_encoder = LSTM(latent_dim, return_sequences=True, return_state=True)\n",
        "encoder_output1, state_h1, state_c1 = LSTM1_encoder(encoder_embedding)\n",
        "\n",
        "# LSTM 2\n",
        "LSTM2_encoder = LSTM(latent_dim, return_sequences=True, return_state=True)\n",
        "encoder_output2, state_h2, state_c2 = LSTM2_encoder(encoder_output1)\n",
        "\n",
        "# LSTM 3\n",
        "LSTM3_encoder = LSTM(latent_dim, return_sequences=True, return_state=True)\n",
        "encoder_outputs, state_h, state_c = LSTM3_encoder(encoder_output2)\n",
        "\n",
        "# Decoder\n",
        "decoder_inputs = Input(shape=(None,))\n",
        "dec_emb_layer = Embedding(y_voc_size, latent_dim, trainable=True)\n",
        "dec_emb = dec_emb_layer(decoder_inputs)\n",
        "\n",
        "# LSTM using encoder_states as initial state\n",
        "decoder_lstm = LSTM(latent_dim, return_sequences=True, return_state=True)\n",
        "decoder_ouputs, decoder_fwd_state, decoder_back_state = decoder_lstm(dec_emb, initial_state=[state_h, state_c])\n",
        "\n",
        "# Dense Layer\n",
        "decoder_dense = TimeDistributed(Dense(y_voc_size, activation='softmax'))\n",
        "decoder_outputs = decoder_dense(decoder_ouputs)\n",
        "\n",
        "# Define the model\n",
        "model = Model([encoder_inputs, decoder_inputs], decoder_outputs,name='Seq2Seq')"
      ],
      "metadata": {
        "id": "7O84AvVFfHfL"
      },
      "execution_count": 17,
      "outputs": []
    },
    {
      "cell_type": "code",
      "source": [
        "model.summary()"
      ],
      "metadata": {
        "id": "ElMVeYW9ff15",
        "colab": {
          "base_uri": "https://localhost:8080/"
        },
        "outputId": "2771dba6-9632-4bc0-a4ee-6c3421b79633"
      },
      "execution_count": 18,
      "outputs": [
        {
          "output_type": "stream",
          "name": "stdout",
          "text": [
            "Model: \"Seq2Seq\"\n",
            "__________________________________________________________________________________________________\n",
            " Layer (type)                   Output Shape         Param #     Connected to                     \n",
            "==================================================================================================\n",
            " input_1 (InputLayer)           [(None, 80)]         0           []                               \n",
            "                                                                                                  \n",
            " embedding (Embedding)          (None, 80, 500)      17307000    ['input_1[0][0]']                \n",
            "                                                                                                  \n",
            " lstm (LSTM)                    [(None, 80, 500),    2002000     ['embedding[0][0]']              \n",
            "                                 (None, 500),                                                     \n",
            "                                 (None, 500)]                                                     \n",
            "                                                                                                  \n",
            " input_2 (InputLayer)           [(None, None)]       0           []                               \n",
            "                                                                                                  \n",
            " lstm_1 (LSTM)                  [(None, 80, 500),    2002000     ['lstm[0][0]']                   \n",
            "                                 (None, 500),                                                     \n",
            "                                 (None, 500)]                                                     \n",
            "                                                                                                  \n",
            " embedding_1 (Embedding)        (None, None, 500)    4662500     ['input_2[0][0]']                \n",
            "                                                                                                  \n",
            " lstm_2 (LSTM)                  [(None, 80, 500),    2002000     ['lstm_1[0][0]']                 \n",
            "                                 (None, 500),                                                     \n",
            "                                 (None, 500)]                                                     \n",
            "                                                                                                  \n",
            " lstm_3 (LSTM)                  [(None, None, 500),  2002000     ['embedding_1[0][0]',            \n",
            "                                 (None, 500),                     'lstm_2[0][1]',                 \n",
            "                                 (None, 500)]                     'lstm_2[0][2]']                 \n",
            "                                                                                                  \n",
            " time_distributed (TimeDistribu  (None, None, 9325)  4671825     ['lstm_3[0][0]']                 \n",
            " ted)                                                                                             \n",
            "                                                                                                  \n",
            "==================================================================================================\n",
            "Total params: 34,649,325\n",
            "Trainable params: 34,649,325\n",
            "Non-trainable params: 0\n",
            "__________________________________________________________________________________________________\n"
          ]
        }
      ]
    },
    {
      "cell_type": "markdown",
      "source": [
        "Compile the Model"
      ],
      "metadata": {
        "id": "qn7kedWZXEi0"
      }
    },
    {
      "cell_type": "code",
      "source": [
        "model.compile(optimizer='rmsprop', loss='sparse_categorical_crossentropy',metrics='accuracy')"
      ],
      "metadata": {
        "id": "iSkCw3infs9A"
      },
      "execution_count": 19,
      "outputs": []
    },
    {
      "cell_type": "code",
      "source": [
        "es = EarlyStopping(monitor='val_loss', mode='min', verbose=1)"
      ],
      "metadata": {
        "id": "IKueB2iUfuH6"
      },
      "execution_count": 20,
      "outputs": []
    },
    {
      "cell_type": "code",
      "source": [
        "history = model.fit([x_train, y_train[:,:-1]], y_train.reshape(y_train.shape[0], y_train.shape[1], 1)[:,1:],\n",
        "                  epochs=5, batch_size=512, verbose =2,\n",
        "                  validation_data=([x_test, y_test[:,:-1]], y_test.reshape(y_test.shape[0], y_test.shape[1], 1)[:,1:]))"
      ],
      "metadata": {
        "id": "NDh4WNUXgCms",
        "colab": {
          "base_uri": "https://localhost:8080/"
        },
        "outputId": "8d2d5ad9-f7c1-4f56-9231-91cd714640fc"
      },
      "execution_count": null,
      "outputs": [
        {
          "output_type": "stream",
          "name": "stdout",
          "text": [
            "Epoch 1/5\n"
          ]
        }
      ]
    },
    {
      "cell_type": "code",
      "source": [
        "plt.plot(history.history['loss'], label='train')\n",
        "plt.plot(history.history['val_loss'], label='validation')\n",
        "plt.legend()\n",
        "plt.show()"
      ],
      "metadata": {
        "id": "5t622fjviCC9"
      },
      "execution_count": null,
      "outputs": []
    },
    {
      "cell_type": "code",
      "source": [
        "plt.plot(history.history['accuracy'], label='train')\n",
        "plt.plot(history.history['val_accuracy'], label='validation')\n",
        "plt.legend()\n",
        "plt.show()"
      ],
      "metadata": {
        "id": "9ben7zo_jSsS"
      },
      "execution_count": null,
      "outputs": []
    },
    {
      "cell_type": "code",
      "source": [
        "reverse_target_word_index = y_tokenizer.index_word \n",
        "reverse_source_word_index = x_tokenizer.index_word \n",
        "target_word_index = y_tokenizer.word_index"
      ],
      "metadata": {
        "id": "Qg5gtw2Fi7Jz"
      },
      "execution_count": null,
      "outputs": []
    },
    {
      "cell_type": "code",
      "source": [
        "#Building encoder for inference \n",
        "encoder_model = Model(inputs=encoder_inputs, outputs=[encoder_outputs, state_h, state_c])\n",
        "\n",
        "#Building decoder for inference \n",
        "decoder_state_input_h = Input(shape=(latent_dim,))\n",
        "decoder_state_input_c = Input(shape=(latent_dim,))\n",
        "decoder_hidden_state_input = Input(shape=(MAX_LEN_TEXT, latent_dim))\n",
        "dec_emb2 = dec_emb_layer(decoder_inputs)\n",
        "\n",
        "decoder_outputs2, state_h2, state_c2 = decoder_lstm(dec_emb2, initial_state=[decoder_state_input_h, decoder_state_input_c])\n",
        "decoder_outputs2 = decoder_dense(decoder_outputs2)\n",
        "\n",
        "# Final decoder model\n",
        "decoder_model = Model([decoder_inputs] + [decoder_hidden_state_input, decoder_state_input_h, decoder_state_input_c],[decoder_outputs2] + [state_h2, state_c2])"
      ],
      "metadata": {
        "id": "YZBpNMX-iXpO"
      },
      "execution_count": null,
      "outputs": []
    },
    {
      "cell_type": "code",
      "source": [
        "def decode_sequence(input_seq):\n",
        "    # Encode the input as state vectors.\n",
        "    e_out, e_h, e_c = encoder_model.predict(input_seq)\n",
        "    target_seq = np.zeros((1,1))\n",
        "\n",
        "    # Chose the 'start' word as the first word of the target sequence\n",
        "    target_seq[0, 0] = target_word_index[\"start\"]\n",
        "    stop_condition = False\n",
        "    decoded_sentence = ''\n",
        "    while not stop_condition:\n",
        "        output_tokens, h, c = decoder_model.predict([target_seq] + [e_out, e_h, e_c])\n",
        "        \n",
        "        # Sample a token\n",
        "        sampled_token_index = np.argmax(output_tokens[0, -1, :])\n",
        "        sampled_token = reverse_target_word_index[sampled_token_index]\n",
        "\n",
        "        if(sampled_token!='end'):\n",
        "          decoded_sentence += ' '+sampled_token\n",
        "\n",
        "        # Exit condition: either hit max length or find stop word.\n",
        "        if (sampled_token == 'end' or len(decoded_sentence.split()) >= (MAX_LEN_SUMMARY-1)):\n",
        "            stop_condition = True\n",
        "\n",
        "        # Update the target sequence (of length 1).\n",
        "        target_seq = np.zeros((1,1))\n",
        "        target_seq[0, 0] = sampled_token_index\n",
        "\n",
        "        # Update internal states\n",
        "        e_h, e_c = h, c"
      ],
      "metadata": {
        "id": "bbQU16lyie0t"
      },
      "execution_count": null,
      "outputs": []
    },
    {
      "cell_type": "code",
      "source": [
        "def seq2summary(input_seq):\n",
        "    newString=''\n",
        "    for i in input_seq:\n",
        "      if ((i!=0 and i!=target_word_index['start']) and i!=target_word_index['end']):\n",
        "        newString=newString+reverse_target_word_index[i]+' '\n",
        "    return newString\n",
        "\n",
        "def seq2text(input_seq):\n",
        "    newString=''\n",
        "    for i in input_seq:\n",
        "      if (i!=0):\n",
        "        newString=newString+reverse_source_word_index[i]+' '\n",
        "    return newString"
      ],
      "metadata": {
        "id": "MBa9Zru7imna"
      },
      "execution_count": null,
      "outputs": []
    },
    {
      "cell_type": "code",
      "source": [
        "for i in range(10):\n",
        "  print(\"Review:\",seq2text(x_test[i]))\n",
        "  print(\"Original summary:\",seq2summary(y_test[i]))\n",
        "  print(\"Predicted summary:\",decode_sequence(x_test[i].reshape(1, MAX_LEN_TEXT)))\n",
        "  print(\"\\n\")"
      ],
      "metadata": {
        "id": "5eG6lzsNitTR"
      },
      "execution_count": null,
      "outputs": []
    },
    {
      "cell_type": "markdown",
      "metadata": {
        "id": "vNmE8hsDOYI8"
      },
      "source": [
        "Hugging Face Transformers - Pretrained Model"
      ]
    },
    {
      "cell_type": "code",
      "execution_count": null,
      "metadata": {
        "id": "pafhiKdmaH2c"
      },
      "outputs": [],
      "source": [
        "import transformers\n",
        "from transformers import TFAutoModelForSeq2SeqLM, AutoTokenizer\n",
        "from transformers import TFDistilBertForSequenceClassification\n",
        "from transformers import AutoModelForSequenceClassification\n",
        "from transformers import TFAutoModelForSequenceClassification\n",
        "from transformers import pipeline\n",
        "from transformers import DataCollatorForSeq2Seq\n",
        "from transformers import TFTrainer, TFTrainingArguments\n",
        "from transformers import Seq2SeqTrainer\n",
        "\n",
        "from transformers import TrainingArguments, Trainer\n",
        "\n",
        "model_transofrmer = TFAutoModelForSeq2SeqLM.from_pretrained(\"facebook/bart-large-cnn\")\n",
        "tokenizer = AutoTokenizer.from_pretrained(\"distilbert-base-uncased\")"
      ]
    },
    {
      "cell_type": "code",
      "execution_count": null,
      "metadata": {
        "id": "5-mSsPoYz3wH"
      },
      "outputs": [],
      "source": [
        "train_encodings = tokenizer(X_train, truncation = True, padding = True)\n",
        "val_encodings = tokenizer(Y_train, truncation= True, padding = True)\n",
        "test_encodings = tokenizer(Y_test, truncation = True, padding = True)"
      ]
    },
    {
      "cell_type": "code",
      "execution_count": null,
      "metadata": {
        "id": "OSYka1UW0761"
      },
      "outputs": [],
      "source": [
        "train_dataset = tf.data.Dataset.from_tensor_slices((\n",
        "    dict(train_encodings),\n",
        "    X_train\n",
        "))"
      ]
    },
    {
      "cell_type": "code",
      "source": [
        "test_dataset = tf.data.Dataset.from_tensor_slices((\n",
        "    dict(test_encodings),\n",
        "    Y_test\n",
        "))"
      ],
      "metadata": {
        "id": "tuz2dipdSOEA"
      },
      "execution_count": null,
      "outputs": []
    },
    {
      "cell_type": "code",
      "source": [
        "training_args = TrainingArguments(\n",
        "    output_dir='./results',\n",
        "    learning_rate=2e-5,\n",
        "    per_device_train_batch_size=16,\n",
        "    per_device_eval_batch_size=16,\n",
        "    num_train_epochs=5,\n",
        "    weight_decay=0.01,\n",
        ")\n",
        "\n",
        "trainer = Trainer(\n",
        "    model=mdl,\n",
        "    args=training_args,\n",
        "    train_dataset=train_dataset,\n",
        "    eval_dataset=test_dataset,\n",
        "    tokenizer=tokenizer,\n",
        "    #data_collator=data_collator,\n",
        ")\n"
      ],
      "metadata": {
        "id": "lELofbA_ncc2"
      },
      "execution_count": null,
      "outputs": []
    },
    {
      "cell_type": "code",
      "source": [
        "trainer.train()"
      ],
      "metadata": {
        "id": "3s86rErBn-QE"
      },
      "execution_count": null,
      "outputs": []
    },
    {
      "cell_type": "code",
      "execution_count": null,
      "metadata": {
        "id": "LlvTAebnQasr"
      },
      "outputs": [],
      "source": [
        "summarizer = pipeline(\"summarization\", model=\"facebook/bart-large-cnn\")"
      ]
    },
    {
      "cell_type": "code",
      "execution_count": null,
      "metadata": {
        "id": "wgWf3QDQ-CvB"
      },
      "outputs": [],
      "source": [
        "sum_generated = summarizer(df_reviews['Text'][1])\n",
        "print(sum_generated)"
      ]
    },
    {
      "cell_type": "code",
      "source": [
        "from transformers import AutoTokenizer\n",
        "tokenizer = AutoTokenizer.from_pretrained(\"distilbert-base-uncased\")"
      ],
      "metadata": {
        "id": "r78YT7ZrpdFf"
      },
      "execution_count": null,
      "outputs": []
    }
  ],
  "metadata": {
    "colab": {
      "provenance": [],
      "include_colab_link": true
    },
    "gpuClass": "standard",
    "kernelspec": {
      "display_name": "Python 3",
      "name": "python3"
    },
    "language_info": {
      "name": "python"
    }
  },
  "nbformat": 4,
  "nbformat_minor": 0
}