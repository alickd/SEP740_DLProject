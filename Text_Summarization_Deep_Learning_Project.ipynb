{
  "cells": [
    {
      "cell_type": "markdown",
      "metadata": {
        "id": "view-in-github",
        "colab_type": "text"
      },
      "source": [
        "<a href=\"https://colab.research.google.com/github/alickd/SEP740_DLProject/blob/main/Text_Summarization_Deep_Learning_Project.ipynb\" target=\"_parent\"><img src=\"https://colab.research.google.com/assets/colab-badge.svg\" alt=\"Open In Colab\"/></a>"
      ]
    },
    {
      "cell_type": "markdown",
      "source": [
        "Text Summarizer"
      ],
      "metadata": {
        "id": "MK-ty_VzQrQ1"
      }
    },
    {
      "cell_type": "code",
      "source": [
        "!pip install transformers\n",
        "!pip install sumy"
      ],
      "metadata": {
        "id": "1hv-GqcSOrxk"
      },
      "execution_count": null,
      "outputs": []
    },
    {
      "cell_type": "code",
      "source": [
        "from google.colab import drive\n",
        "drive.mount('/content/drive')"
      ],
      "metadata": {
        "id": "IRjW1VU-2vLp"
      },
      "execution_count": null,
      "outputs": []
    },
    {
      "cell_type": "code",
      "execution_count": null,
      "metadata": {
        "id": "gqkg9SxOFZoJ"
      },
      "outputs": [],
      "source": [
        "import pandas as pd\n",
        "import numpy as np\n",
        "import matplotlib.pyplot as plt\n",
        "import seaborn as sns\n",
        "import tensorflow as tf\n",
        "from tensorflow import keras\n",
        "import re\n",
        "import string\n",
        "from keras.preprocessing.text import Tokenizer \n",
        "from sklearn.model_selection import train_test_split\n",
        "\n",
        "import nltk\n",
        "nltk.download('punkt')\n",
        "from nltk.corpus import stopwords \n",
        "from nltk.tokenize import word_tokenize\n",
        "\n",
        "import gensim\n",
        "from gensim.parsing.preprocessing import remove_stopwords\n",
        "\n",
        "from tensorflow import keras\n",
        "from keras.utils.data_utils import pad_sequences\n",
        "import keras_preprocessing\n",
        "from keras.preprocessing import text,sequence\n",
        "from keras_preprocessing.text import Tokenizer\n",
        "from tensorflow.keras.models import Model\n",
        "from keras.layers import Input,Dense,Embedding,LSTM,Dropout, RepeatVector, concatenate"
      ]
    },
    {
      "cell_type": "code",
      "source": [
        "#Import and read dataset\n",
        "path  = \"/content/drive/MyDrive/Deep Learning Project/Reviews.xlsx\"\n",
        "df_reviews = pd.read_csv(path)\n",
        "df_reviews.drop(columns=['Id','ProductId','UserId','ProfileName','HelpfulnessNumerator','HelpfulnessDenominator','Score','Time'],inplace=True,axis=1)\n",
        "df_reviews.dropna(axis=0,inplace=True)\n",
        "df_reviews.head(5)"
      ],
      "metadata": {
        "id": "GkB_P4eoTxRQ",
        "colab": {
          "base_uri": "https://localhost:8080/",
          "height": 206
        },
        "outputId": "3111f97d-b983-4ed9-c7ed-c94e53532d22"
      },
      "execution_count": 16,
      "outputs": [
        {
          "output_type": "execute_result",
          "data": {
            "text/plain": [
              "                 Summary                                               Text\n",
              "0  Good Quality Dog Food  I have bought several of the Vitality canned d...\n",
              "1      Not as Advertised  Product arrived labeled as Jumbo Salted Peanut...\n",
              "2  \"Delight\" says it all  This is a confection that has been around a fe...\n",
              "3         Cough Medicine  If you are looking for the secret ingredient i...\n",
              "4            Great taffy  Great taffy at a great price.  There was a wid..."
            ],
            "text/html": [
              "\n",
              "  <div id=\"df-11dc54b4-3eda-4a1f-908f-1ccf446fa545\">\n",
              "    <div class=\"colab-df-container\">\n",
              "      <div>\n",
              "<style scoped>\n",
              "    .dataframe tbody tr th:only-of-type {\n",
              "        vertical-align: middle;\n",
              "    }\n",
              "\n",
              "    .dataframe tbody tr th {\n",
              "        vertical-align: top;\n",
              "    }\n",
              "\n",
              "    .dataframe thead th {\n",
              "        text-align: right;\n",
              "    }\n",
              "</style>\n",
              "<table border=\"1\" class=\"dataframe\">\n",
              "  <thead>\n",
              "    <tr style=\"text-align: right;\">\n",
              "      <th></th>\n",
              "      <th>Summary</th>\n",
              "      <th>Text</th>\n",
              "    </tr>\n",
              "  </thead>\n",
              "  <tbody>\n",
              "    <tr>\n",
              "      <th>0</th>\n",
              "      <td>Good Quality Dog Food</td>\n",
              "      <td>I have bought several of the Vitality canned d...</td>\n",
              "    </tr>\n",
              "    <tr>\n",
              "      <th>1</th>\n",
              "      <td>Not as Advertised</td>\n",
              "      <td>Product arrived labeled as Jumbo Salted Peanut...</td>\n",
              "    </tr>\n",
              "    <tr>\n",
              "      <th>2</th>\n",
              "      <td>\"Delight\" says it all</td>\n",
              "      <td>This is a confection that has been around a fe...</td>\n",
              "    </tr>\n",
              "    <tr>\n",
              "      <th>3</th>\n",
              "      <td>Cough Medicine</td>\n",
              "      <td>If you are looking for the secret ingredient i...</td>\n",
              "    </tr>\n",
              "    <tr>\n",
              "      <th>4</th>\n",
              "      <td>Great taffy</td>\n",
              "      <td>Great taffy at a great price.  There was a wid...</td>\n",
              "    </tr>\n",
              "  </tbody>\n",
              "</table>\n",
              "</div>\n",
              "      <button class=\"colab-df-convert\" onclick=\"convertToInteractive('df-11dc54b4-3eda-4a1f-908f-1ccf446fa545')\"\n",
              "              title=\"Convert this dataframe to an interactive table.\"\n",
              "              style=\"display:none;\">\n",
              "        \n",
              "  <svg xmlns=\"http://www.w3.org/2000/svg\" height=\"24px\"viewBox=\"0 0 24 24\"\n",
              "       width=\"24px\">\n",
              "    <path d=\"M0 0h24v24H0V0z\" fill=\"none\"/>\n",
              "    <path d=\"M18.56 5.44l.94 2.06.94-2.06 2.06-.94-2.06-.94-.94-2.06-.94 2.06-2.06.94zm-11 1L8.5 8.5l.94-2.06 2.06-.94-2.06-.94L8.5 2.5l-.94 2.06-2.06.94zm10 10l.94 2.06.94-2.06 2.06-.94-2.06-.94-.94-2.06-.94 2.06-2.06.94z\"/><path d=\"M17.41 7.96l-1.37-1.37c-.4-.4-.92-.59-1.43-.59-.52 0-1.04.2-1.43.59L10.3 9.45l-7.72 7.72c-.78.78-.78 2.05 0 2.83L4 21.41c.39.39.9.59 1.41.59.51 0 1.02-.2 1.41-.59l7.78-7.78 2.81-2.81c.8-.78.8-2.07 0-2.86zM5.41 20L4 18.59l7.72-7.72 1.47 1.35L5.41 20z\"/>\n",
              "  </svg>\n",
              "      </button>\n",
              "      \n",
              "  <style>\n",
              "    .colab-df-container {\n",
              "      display:flex;\n",
              "      flex-wrap:wrap;\n",
              "      gap: 12px;\n",
              "    }\n",
              "\n",
              "    .colab-df-convert {\n",
              "      background-color: #E8F0FE;\n",
              "      border: none;\n",
              "      border-radius: 50%;\n",
              "      cursor: pointer;\n",
              "      display: none;\n",
              "      fill: #1967D2;\n",
              "      height: 32px;\n",
              "      padding: 0 0 0 0;\n",
              "      width: 32px;\n",
              "    }\n",
              "\n",
              "    .colab-df-convert:hover {\n",
              "      background-color: #E2EBFA;\n",
              "      box-shadow: 0px 1px 2px rgba(60, 64, 67, 0.3), 0px 1px 3px 1px rgba(60, 64, 67, 0.15);\n",
              "      fill: #174EA6;\n",
              "    }\n",
              "\n",
              "    [theme=dark] .colab-df-convert {\n",
              "      background-color: #3B4455;\n",
              "      fill: #D2E3FC;\n",
              "    }\n",
              "\n",
              "    [theme=dark] .colab-df-convert:hover {\n",
              "      background-color: #434B5C;\n",
              "      box-shadow: 0px 1px 3px 1px rgba(0, 0, 0, 0.15);\n",
              "      filter: drop-shadow(0px 1px 2px rgba(0, 0, 0, 0.3));\n",
              "      fill: #FFFFFF;\n",
              "    }\n",
              "  </style>\n",
              "\n",
              "      <script>\n",
              "        const buttonEl =\n",
              "          document.querySelector('#df-11dc54b4-3eda-4a1f-908f-1ccf446fa545 button.colab-df-convert');\n",
              "        buttonEl.style.display =\n",
              "          google.colab.kernel.accessAllowed ? 'block' : 'none';\n",
              "\n",
              "        async function convertToInteractive(key) {\n",
              "          const element = document.querySelector('#df-11dc54b4-3eda-4a1f-908f-1ccf446fa545');\n",
              "          const dataTable =\n",
              "            await google.colab.kernel.invokeFunction('convertToInteractive',\n",
              "                                                     [key], {});\n",
              "          if (!dataTable) return;\n",
              "\n",
              "          const docLinkHtml = 'Like what you see? Visit the ' +\n",
              "            '<a target=\"_blank\" href=https://colab.research.google.com/notebooks/data_table.ipynb>data table notebook</a>'\n",
              "            + ' to learn more about interactive tables.';\n",
              "          element.innerHTML = '';\n",
              "          dataTable['output_type'] = 'display_data';\n",
              "          await google.colab.output.renderOutput(dataTable, element);\n",
              "          const docLink = document.createElement('div');\n",
              "          docLink.innerHTML = docLinkHtml;\n",
              "          element.appendChild(docLink);\n",
              "        }\n",
              "      </script>\n",
              "    </div>\n",
              "  </div>\n",
              "  "
            ]
          },
          "metadata": {},
          "execution_count": 16
        }
      ]
    },
    {
      "cell_type": "markdown",
      "source": [
        "LSA Machine Learning Model Summary"
      ],
      "metadata": {
        "id": "8EJ-5kOo5cWl"
      }
    },
    {
      "cell_type": "code",
      "execution_count": 17,
      "metadata": {
        "id": "vmKfOha_LLQe",
        "colab": {
          "base_uri": "https://localhost:8080/"
        },
        "outputId": "96f6541f-0d7b-4a7e-c59c-90e801f380cd"
      },
      "outputs": [
        {
          "output_type": "stream",
          "name": "stdout",
          "text": [
            "I purchased the Mango flavor, and to me it doesn't take like Mango at all.  There is no hint of sweetness, and unfortunately there is a hint or aftertaste almost like licorice.  I've been consuming various sports nutrition products for decades, so I'm familiar and have come to like the taste of the most of the products I've tried.  The mango flavor is one of the least appealing I've tasted.  It's not terrible, but it's bad enough that I notice the bad taste every sip I take.\n",
            "---------------------------------------------------------------------\n",
            "Summary\n",
            "There is no hint of sweetness, and unfortunately there is a hint or aftertaste almost like licorice.\n",
            "I've been consuming various sports nutrition products for decades, so I'm familiar and have come to like the taste of the most of the products I've tried.\n",
            "It's not terrible, but it's bad enough that I notice the bad taste every sip I take.\n"
          ]
        }
      ],
      "source": [
        "# Import the summarizer \n",
        "import sumy\n",
        "from sumy.summarizers.lsa import LsaSummarizer \n",
        "\n",
        "# Text to summarize \n",
        "original_text = df_reviews.Text[67] \n",
        "\n",
        "# Parsing the text string using PlaintextParser \n",
        "from sumy.nlp.tokenizers import Tokenizer \n",
        "from sumy.parsers.plaintext import PlaintextParser \n",
        "\n",
        "parser=PlaintextParser.from_string(original_text,Tokenizer('english')) \n",
        "\n",
        "# Creating the summarizer \n",
        "lsa_summarizer=LsaSummarizer() \n",
        "lsa_summary= lsa_summarizer(parser.document,3) \n",
        "\n",
        "# Printing the summary \n",
        "print(original_text)\n",
        "print(\"---------------------------------------------------------------------\")\n",
        "print(\"Summary\")\n",
        "for sentence in lsa_summary: \n",
        "    print(sentence) "
      ]
    },
    {
      "cell_type": "markdown",
      "source": [
        "Pre-Processing Text Data"
      ],
      "metadata": {
        "id": "IN3YpmHXR6cS"
      }
    },
    {
      "cell_type": "code",
      "source": [
        "print(\"Before Pre-Processing\")\n",
        "for i in range(3):\n",
        "  print(\"Review \", i+1)\n",
        "  print(df_reviews['Text'][i])"
      ],
      "metadata": {
        "id": "DGpWI_W8D-9M",
        "colab": {
          "base_uri": "https://localhost:8080/"
        },
        "outputId": "b77d805c-6684-41a1-b60c-c99d38623d4c"
      },
      "execution_count": 18,
      "outputs": [
        {
          "output_type": "stream",
          "name": "stdout",
          "text": [
            "Before Pre-Processing\n",
            "Review  1\n",
            "I have bought several of the Vitality canned dog food products and have found them all to be of good quality. The product looks more like a stew than a processed meat and it smells better. My Labrador is finicky and she appreciates this product better than  most.\n",
            "Review  2\n",
            "Product arrived labeled as Jumbo Salted Peanuts...the peanuts were actually small sized unsalted. Not sure if this was an error or if the vendor intended to represent the product as \"Jumbo\".\n",
            "Review  3\n",
            "This is a confection that has been around a few centuries.  It is a light, pillowy citrus gelatin with nuts - in this case Filberts. And it is cut into tiny squares and then liberally coated with powdered sugar.  And it is a tiny mouthful of heaven.  Not too chewy, and very flavorful.  I highly recommend this yummy treat.  If you are familiar with the story of C.S. Lewis' \"The Lion, The Witch, and The Wardrobe\" - this is the treat that seduces Edmund into selling out his Brother and Sisters to the Witch.\n"
          ]
        }
      ]
    },
    {
      "cell_type": "code",
      "source": [
        "def clean_text(text):\n",
        "  #Removing numbers\n",
        "  text = re.sub('[^a-zA-Z]', ' ', text)\n",
        "  #Convert text into lower case\n",
        "  text = text.lower()\n",
        "  #Remove URL links\n",
        "  text = re.sub(r'http\\S+',' ',text)\n",
        "  #Removing extra spaces/lines\n",
        "  text = re.sub(' +',' ',text)\n",
        "  #Removing punctuation\n",
        "  text = re.sub('[^\\w\\s]','',text)\n",
        "  #Removing stopwords\n",
        "  text = remove_stopwords(text)\n",
        "  return text"
      ],
      "metadata": {
        "id": "DgA93zzmSAWK"
      },
      "execution_count": 19,
      "outputs": []
    },
    {
      "cell_type": "code",
      "source": [
        "#Pre-Processing Text Data\n",
        "df_reviews[\"Summary\"] = df_reviews[\"Summary\"].apply(clean_text)\n",
        "df_reviews[\"Text\"] = df_reviews[\"Text\"].apply(clean_text)"
      ],
      "metadata": {
        "id": "JEZqwCKgSX7l"
      },
      "execution_count": 20,
      "outputs": []
    },
    {
      "cell_type": "code",
      "source": [
        "print(\"After Pre-Processing\")\n",
        "for i in range(3):\n",
        "  print(\"Review \", i+1)\n",
        "  print(df_reviews['Text'][i])"
      ],
      "metadata": {
        "id": "jUOz_8BRH3AP",
        "colab": {
          "base_uri": "https://localhost:8080/"
        },
        "outputId": "adc55772-e2ee-4cd5-f478-324b75205c98"
      },
      "execution_count": 11,
      "outputs": [
        {
          "output_type": "stream",
          "name": "stdout",
          "text": [
            "After Pre-Processing\n",
            "Review  1\n",
            "bought vitality canned dog food products good quality product looks like stew processed meat smells better labrador finicky appreciates product better\n",
            "Review  2\n",
            "product arrived labeled jumbo salted peanuts peanuts actually small sized unsalted sure error vendor intended represent product jumbo\n",
            "Review  3\n",
            "confection centuries light pillowy citrus gelatin nuts case filberts cut tiny squares liberally coated powdered sugar tiny mouthful heaven chewy flavorful highly recommend yummy treat familiar story c s lewis lion witch wardrobe treat seduces edmund selling brother sisters witch\n"
          ]
        }
      ]
    },
    {
      "cell_type": "markdown",
      "source": [
        "Visualize the Data"
      ],
      "metadata": {
        "id": "hfEuVx6oa9r5"
      }
    },
    {
      "cell_type": "code",
      "execution_count": 12,
      "metadata": {
        "id": "hDFPSRYloDHl",
        "colab": {
          "base_uri": "https://localhost:8080/",
          "height": 499
        },
        "outputId": "9900447e-ea29-4b82-f378-55a5bd8ae34c"
      },
      "outputs": [
        {
          "output_type": "display_data",
          "data": {
            "text/plain": [
              "<Figure size 576x576 with 1 Axes>"
            ],
            "image/png": "[encoded data removed]"
          },
          "metadata": {
            "needs_background": "light"
          }
        }
      ],
      "source": [
        "import itertools\n",
        "import collections\n",
        "\n",
        "lemmatized_tokens = list(df_reviews[\"Summary\"])\n",
        "token_list = list(itertools.chain(lemmatized_tokens))\n",
        "\n",
        "counts_no=collections.Counter(token_list)\n",
        "clean_words = pd.DataFrame(counts_no.most_common(30),columns=['text','count'])\n",
        "fig,ax = plt.subplots(figsize=(8,8))\n",
        "clean_words.sort_values(by='count').plot.barh(x='text',y='count',ax=ax,color='green')\n",
        "ax.set_title(\"Frequency of Words\")\n",
        "plt.show()"
      ]
    },
    {
      "cell_type": "code",
      "source": [
        "text_word_count = []\n",
        "summary_word_count = []\n",
        "\n",
        "# populate the lists with sentence lengths\n",
        "for i in df_reviews['Text']:\n",
        "      text_word_count.append(len(i.split()))\n",
        "\n",
        "for i in df_reviews['Summary']:\n",
        "      summary_word_count.append(len(i.split()))\n",
        "\n",
        "length_df = pd.DataFrame({'Text':text_word_count, 'Summary':summary_word_count})\n",
        "\n",
        "length_df.hist(bins = 30)\n",
        "plt.show()"
      ],
      "metadata": {
        "id": "3FXeu-VNao3g"
      },
      "execution_count": null,
      "outputs": []
    },
    {
      "cell_type": "code",
      "execution_count": null,
      "metadata": {
        "id": "L7Z6Tzy71mjg"
      },
      "outputs": [],
      "source": [
        "X_text = df_reviews['Text'].iloc[:100]\n",
        "y_summary = df_reviews['Summary'].iloc[:100]\n",
        "\n",
        "X_train,X_test,Y_train,Y_test=train_test_split(X_text,y_summary,test_size=0.6)\n",
        "\n",
        "print(X_train[0])\n",
        "print(Y_train[0])"
      ]
    },
    {
      "cell_type": "markdown",
      "source": [
        "Hugging Face Transformers - Pretrained Model"
      ],
      "metadata": {
        "id": "vNmE8hsDOYI8"
      }
    },
    {
      "cell_type": "code",
      "source": [
        "import transformers\n",
        "from transformers import TFAutoModelForSeq2SeqLM, AutoTokenizer\n",
        "from transformers import pipeline\n",
        "from transformers import DataCollatorForSeq2Seq\n",
        "from transformers import Trainer, TrainingArguments\n",
        "\n",
        "model = TFAutoModelForSeq2SeqLM.from_pretrained(\"facebook/bart-large-cnn\")\n",
        "tokenizer = AutoTokenizer.from_pretrained(\"facebook/bart-large-cnn\")"
      ],
      "metadata": {
        "id": "pafhiKdmaH2c"
      },
      "execution_count": null,
      "outputs": []
    },
    {
      "cell_type": "code",
      "source": [
        "from transformers import DistilBertTokenizerFast\n",
        "tokenizer = DistilBertTokenizerFast.from_pretrained('distilbert-base-uncased')"
      ],
      "metadata": {
        "id": "yZZe-u8IzUQG"
      },
      "execution_count": null,
      "outputs": []
    },
    {
      "cell_type": "code",
      "source": [
        "train_encodings = tokenizer(X_train, truncation = True, padding = True)\n",
        "test_encodings = tokenizer(X_test, truncation = True, padding = True)"
      ],
      "metadata": {
        "id": "5-mSsPoYz3wH"
      },
      "execution_count": null,
      "outputs": []
    },
    {
      "cell_type": "code",
      "source": [],
      "metadata": {
        "id": "OSYka1UW0761"
      },
      "execution_count": null,
      "outputs": []
    },
    {
      "cell_type": "code",
      "source": [
        "summarizer = pipeline(\"summarization\", model=\"facebook/bart-large-cnn\", tokenizer = \"facebook/bart-large-cnn\")"
      ],
      "metadata": {
        "id": "LlvTAebnQasr"
      },
      "execution_count": null,
      "outputs": []
    },
    {
      "cell_type": "code",
      "source": [
        "sum_generated = summarizer(df_reviews['Text'][67])"
      ],
      "metadata": {
        "id": "wgWf3QDQ-CvB"
      },
      "execution_count": null,
      "outputs": []
    },
    {
      "cell_type": "code",
      "source": [
        "input_ids = tokenizer.encode(df_reviews['Text'][5], return_tensors='tf',truncation=True)\n",
        "greedy_output = model.generate(input_ids)"
      ],
      "metadata": {
        "id": "K6E-vNB69GkA"
      },
      "execution_count": null,
      "outputs": []
    },
    {
      "cell_type": "code",
      "source": [
        "df_reviews[\"Text\"][5]"
      ],
      "metadata": {
        "id": "nhxDODcEuHJj"
      },
      "execution_count": null,
      "outputs": []
    },
    {
      "cell_type": "code",
      "source": [
        "tokenizer.decode(greedy_output[0], skip_special_tokens=True)"
      ],
      "metadata": {
        "id": "S8r8H3dAsiIL"
      },
      "execution_count": null,
      "outputs": []
    },
    {
      "cell_type": "code",
      "source": [
        "model.compile(loss='categorical_crossentropy',optimizer='adam')"
      ],
      "metadata": {
        "id": "HewbLmhMQAUB"
      },
      "execution_count": null,
      "outputs": []
    },
    {
      "cell_type": "code",
      "source": [
        "model.fit(X_train, Y_train)"
      ],
      "metadata": {
        "id": "msVddir1fRei"
      },
      "execution_count": null,
      "outputs": []
    },
    {
      "cell_type": "code",
      "source": [
        "print(summary)"
      ],
      "metadata": {
        "id": "bm6hEEDlcr-0"
      },
      "execution_count": null,
      "outputs": []
    },
    {
      "cell_type": "code",
      "source": [
        "#Tokenization\n",
        "max_vocab = 1000\n",
        "max_length = 200\n",
        "\n",
        "token = Tokenizer(num_words=max_vocab)\n",
        "token.fit_on_texts(X_train)\n",
        "\n",
        "#Tokenize Train\n",
        "x_train_token = token.texts_to_sequences(X_train)\n",
        "x_train = pad_sequences(x_train_token, maxlen = max_length)\n",
        "\n",
        "y_train_token = token.texts_to_sequences(Y_train)\n",
        "y_train = pad_sequences(y_train_token, maxlen = max_length)\n",
        "\n",
        "#Tokenize Test\n",
        "x_test_token = token.texts_to_sequences(X_test)\n",
        "x_test = pad_sequences(x_test_token, maxlen = max_length)\n",
        "\n",
        "y_test_token = token.texts_to_sequences(Y_test)\n",
        "y_test = pad_sequences(y_train_token, maxlen = max_length)\n",
        "\n",
        "print(X_train) #text data\n",
        "print(x_train) #text data in tokens\n",
        "print(y_train)"
      ],
      "metadata": {
        "id": "ukf66sVjc2eI"
      },
      "execution_count": null,
      "outputs": []
    },
    {
      "cell_type": "code",
      "source": [
        "print(tokenizer.decode(outputs[1], skip_special_tokens=True))"
      ],
      "metadata": {
        "id": "NtWQqW6SUVmU"
      },
      "execution_count": null,
      "outputs": []
    },
    {
      "cell_type": "code",
      "source": [
        "print(tokenizer.convert_ids.to_tokens)"
      ],
      "metadata": {
        "id": "7LXVt0hQUPcS"
      },
      "execution_count": null,
      "outputs": []
    },
    {
      "cell_type": "code",
      "source": [
        "df_reviews['Text'][2]"
      ],
      "metadata": {
        "id": "xWSoUGpT_gs4"
      },
      "execution_count": null,
      "outputs": []
    },
    {
      "cell_type": "code",
      "source": [
        "df_reviews['Summary'][2]"
      ],
      "metadata": {
        "id": "-P30ljQo_sXM"
      },
      "execution_count": null,
      "outputs": []
    },
    {
      "cell_type": "code",
      "source": [
        "print (summarizer(X_train[2]))"
      ],
      "metadata": {
        "id": "OLBZpckk_Raj"
      },
      "execution_count": null,
      "outputs": []
    },
    {
      "cell_type": "code",
      "source": [
        "print(tokenizer.decode(outputs[0], skip_special_tokens=True))"
      ],
      "metadata": {
        "id": "_JQaGHO1anVY"
      },
      "execution_count": null,
      "outputs": []
    },
    {
      "cell_type": "code",
      "source": [
        "#for i in range(5):\n",
        "print (summarizer(X_test))"
      ],
      "metadata": {
        "id": "t-pXQeIzPCKt"
      },
      "execution_count": null,
      "outputs": []
    },
    {
      "cell_type": "code",
      "source": [
        "df_reviews[\"Text\"][6]"
      ],
      "metadata": {
        "id": "nwAa5vvlWnf1"
      },
      "execution_count": null,
      "outputs": []
    },
    {
      "cell_type": "code",
      "source": [
        "df_reviews[\"Summary\"][6]"
      ],
      "metadata": {
        "id": "14uke2C3bGD4"
      },
      "execution_count": null,
      "outputs": []
    },
    {
      "cell_type": "code",
      "source": [
        "vocab_size = 100\n",
        "src_txt_length = 1000\n",
        "sum_txt_length = 100\n",
        "# article input model\n",
        "inputs1 = Input(shape=(src_txt_length,))\n",
        "article1 = Embedding(vocab_size, 128)(inputs1)\n",
        "article2 = LSTM(128)(article1)\n",
        "article3 = RepeatVector(sum_txt_length)(article2)\n",
        "# summary input model\n",
        "inputs2 = Input(shape=(sum_txt_length,))\n",
        "summ1 = Embedding(vocab_size, 128)(inputs2)\n",
        "# decoder model\n",
        "decoder1 = concatenate([article3, summ1])\n",
        "decoder2 = LSTM(128)(decoder1)\n",
        "outputs = Dense(vocab_size, activation='softmax')(decoder2)\n",
        "# tie it together [article, summary] [word]\n",
        "DL_Model = Model(inputs=[inputs1, inputs2], outputs=outputs)\n",
        "DL_Model.compile(loss='categorical_crossentropy', optimizer='adam')\n"
      ],
      "metadata": {
        "id": "nUGeci51KKtm"
      },
      "execution_count": null,
      "outputs": []
    },
    {
      "cell_type": "code",
      "source": [
        "DL_Model.fit(x_train,y_train,verbose=2)"
      ],
      "metadata": {
        "id": "dLN6Fe0uv1j4"
      },
      "execution_count": null,
      "outputs": []
    },
    {
      "cell_type": "code",
      "source": [
        "def define_models(n_input, n_output, n_units):\n",
        "# define training encoder\n",
        "  encoder_inputs = Input(shape=(None, n_input))\n",
        "  encoder = LSTM(n_units, return_state=True)\n",
        "  encoder_outputs, state_h, state_c = encoder(encoder_inputs)\n",
        "  encoder_states = [state_h, state_c]\n",
        "# define training decoder\n",
        "  decoder_inputs = Input(shape=(None, n_output))\n",
        "  decoder_lstm = LSTM(n_units, return_sequences=True, return_state=True)\n",
        "  decoder_outputs, _, _ = decoder_lstm(decoder_inputs, initial_state=encoder_states)\n",
        "  decoder_dense = Dense(n_output, activation='softmax')\n",
        "  decoder_outputs = decoder_dense(decoder_outputs)\n",
        "  model = Model([encoder_inputs, decoder_inputs], decoder_outputs)\n",
        "# define inference encoder\n",
        "  encoder_model = Model(encoder_inputs, encoder_states)\n",
        "# define inference decoder\n",
        "  decoder_state_input_h = Input(shape=(n_units,))\n",
        "  decoder_state_input_c = Input(shape=(n_units,))\n",
        "  decoder_states_inputs = [decoder_state_input_h, decoder_state_input_c]\n",
        "  decoder_outputs, state_h, state_c = decoder_lstm(decoder_inputs,  initial_state=decoder_states_inputs)\n",
        "  decoder_states = [state_h, state_c]\n",
        "  decoder_outputs = decoder_dense(decoder_outputs)\n",
        "  decoder_model = Model([decoder_inputs] + decoder_states_inputs, [decoder_outputs] + decoder_states)\n",
        "# return all models\n",
        "  return model, encoder_model, decoder_model"
      ],
      "metadata": {
        "id": "AFAB5uiPzF16"
      },
      "execution_count": null,
      "outputs": []
    },
    {
      "cell_type": "code",
      "source": [
        "model.compile(loss='binary_crossentropy',optimizer='adam',metrics=['accuracy'])"
      ],
      "metadata": {
        "id": "AyC9zja2ZoS7"
      },
      "execution_count": null,
      "outputs": []
    },
    {
      "cell_type": "markdown",
      "source": [
        "Training the Model"
      ],
      "metadata": {
        "id": "lDIBQJJhb1tq"
      }
    },
    {
      "cell_type": "code",
      "source": [
        "model.fit"
      ],
      "metadata": {
        "id": "RAg_GnVJbw9P"
      },
      "execution_count": null,
      "outputs": []
    }
  ],
  "metadata": {
    "colab": {
      "provenance": [],
      "include_colab_link": true
    },
    "kernelspec": {
      "display_name": "Python 3",
      "name": "python3"
    },
    "language_info": {
      "name": "python"
    },
    "accelerator": "GPU",
    "gpuClass": "standard"
  },
  "nbformat": 4,
  "nbformat_minor": 0
}